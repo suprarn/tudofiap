{
 "cells": [
  {
   "cell_type": "markdown",
   "id": "fa147820",
   "metadata": {},
   "source": [
    "# Estudo e exploração dos dados para o Tech Challenge"
   ]
  },
  {
   "cell_type": "code",
   "execution_count": 1,
   "id": "a7f09a94",
   "metadata": {},
   "outputs": [],
   "source": [
    "import pandas as pd\n",
    "import matplotlib.pyplot as plt\n",
    "import matplotlib.ticker as ticker\n",
    "import matplotlib.dates as mdates\n",
    "from matplotlib.ticker import MultipleLocator\n",
    "import numpy as np\n",
    "from datetime import datetime\n",
    "from cycler import cycler"
   ]
  },
  {
   "cell_type": "code",
   "execution_count": 2,
   "id": "ce83f615",
   "metadata": {},
   "outputs": [
    {
     "data": {
      "application/vnd.microsoft.datawrangler.viewer.v0+json": {
       "columns": [
        {
         "name": "index",
         "rawType": "int64",
         "type": "integer"
        },
        {
         "name": "País",
         "rawType": "object",
         "type": "string"
        },
        {
         "name": "Ano",
         "rawType": "int64",
         "type": "integer"
        },
        {
         "name": "Quantidade_L",
         "rawType": "int64",
         "type": "integer"
        },
        {
         "name": "Valor_USD",
         "rawType": "int64",
         "type": "integer"
        }
       ],
       "conversionMethod": "pd.DataFrame",
       "ref": "77196180-b2a8-465c-98f5-e9718a73820e",
       "rows": [
        [
         "0",
         "Afeganistão",
         "1970",
         "0",
         "0"
        ],
        [
         "1",
         "África do Sul",
         "1970",
         "0",
         "0"
        ],
        [
         "2",
         "Alemanha, República Democrática",
         "1970",
         "0",
         "0"
        ],
        [
         "3",
         "Angola",
         "1970",
         "0",
         "0"
        ],
        [
         "4",
         "Anguilla",
         "1970",
         "0",
         "0"
        ],
        [
         "5",
         "Antígua e Barbuda",
         "1970",
         "0",
         "0"
        ],
        [
         "6",
         "Antilhas Holandesas",
         "1970",
         "280",
         "207"
        ],
        [
         "7",
         "Arábia Saudita",
         "1970",
         "0",
         "0"
        ],
        [
         "8",
         "Argélia",
         "1970",
         "0",
         "0"
        ],
        [
         "9",
         "Argentina",
         "1970",
         "0",
         "0"
        ],
        [
         "10",
         "Aruba",
         "1970",
         "0",
         "0"
        ],
        [
         "11",
         "Austrália",
         "1970",
         "0",
         "0"
        ],
        [
         "12",
         "Áustria",
         "1970",
         "0",
         "0"
        ],
        [
         "13",
         "Bahamas",
         "1970",
         "0",
         "0"
        ],
        [
         "14",
         "Bangladesh",
         "1970",
         "0",
         "0"
        ],
        [
         "15",
         "Barbados",
         "1970",
         "0",
         "0"
        ],
        [
         "16",
         "Barein",
         "1970",
         "0",
         "0"
        ],
        [
         "17",
         "Bélgica",
         "1970",
         "0",
         "0"
        ],
        [
         "18",
         "Belice",
         "1970",
         "0",
         "0"
        ],
        [
         "19",
         "Benin",
         "1970",
         "0",
         "0"
        ],
        [
         "20",
         "Bermudas",
         "1970",
         "0",
         "0"
        ],
        [
         "21",
         "Bolívia",
         "1970",
         "2512",
         "675"
        ],
        [
         "22",
         "Bósnia-Herzegovina",
         "1970",
         "0",
         "0"
        ],
        [
         "23",
         "Brasil",
         "1970",
         "0",
         "0"
        ],
        [
         "24",
         "Bulgária",
         "1970",
         "0",
         "0"
        ],
        [
         "25",
         "Cabo Verde",
         "1970",
         "0",
         "0"
        ],
        [
         "26",
         "Camarões",
         "1970",
         "0",
         "0"
        ],
        [
         "27",
         "Canadá",
         "1970",
         "0",
         "0"
        ],
        [
         "28",
         "Catar",
         "1970",
         "0",
         "0"
        ],
        [
         "29",
         "Cayman, Ilhas",
         "1970",
         "0",
         "0"
        ],
        [
         "30",
         "Chile",
         "1970",
         "0",
         "0"
        ],
        [
         "31",
         "China",
         "1970",
         "0",
         "0"
        ],
        [
         "32",
         "Chipre",
         "1970",
         "0",
         "0"
        ],
        [
         "33",
         "Cingapura",
         "1970",
         "0",
         "0"
        ],
        [
         "34",
         "Cocos (Keeling), Ilhas",
         "1970",
         "0",
         "0"
        ],
        [
         "35",
         "Colômbia",
         "1970",
         "14205",
         "6650"
        ],
        [
         "36",
         "Comores",
         "1970",
         "0",
         "0"
        ],
        [
         "37",
         "Congo",
         "1970",
         "0",
         "0"
        ],
        [
         "38",
         "Coreia, Republica Sul",
         "1970",
         "0",
         "0"
        ],
        [
         "39",
         "Costa do Marfim",
         "1970",
         "0",
         "0"
        ],
        [
         "40",
         "Costa Rica",
         "1970",
         "0",
         "0"
        ],
        [
         "41",
         "Coveite (Kuweit)",
         "1970",
         "0",
         "0"
        ],
        [
         "42",
         "Croácia",
         "1970",
         "0",
         "0"
        ],
        [
         "43",
         "Cuba",
         "1970",
         "0",
         "0"
        ],
        [
         "44",
         "Curaçao",
         "1970",
         "0",
         "0"
        ],
        [
         "45",
         "Dinamarca",
         "1970",
         "0",
         "0"
        ],
        [
         "46",
         "Dominica",
         "1970",
         "0",
         "0"
        ],
        [
         "47",
         "El Salvador",
         "1970",
         "0",
         "0"
        ],
        [
         "48",
         "Emirados Arabes Unidos",
         "1970",
         "0",
         "0"
        ],
        [
         "49",
         "Equador",
         "1970",
         "0",
         "0"
        ]
       ],
       "shape": {
        "columns": 4,
        "rows": 7755
       }
      },
      "text/html": [
       "<div>\n",
       "<style scoped>\n",
       "    .dataframe tbody tr th:only-of-type {\n",
       "        vertical-align: middle;\n",
       "    }\n",
       "\n",
       "    .dataframe tbody tr th {\n",
       "        vertical-align: top;\n",
       "    }\n",
       "\n",
       "    .dataframe thead th {\n",
       "        text-align: right;\n",
       "    }\n",
       "</style>\n",
       "<table border=\"1\" class=\"dataframe\">\n",
       "  <thead>\n",
       "    <tr style=\"text-align: right;\">\n",
       "      <th></th>\n",
       "      <th>País</th>\n",
       "      <th>Ano</th>\n",
       "      <th>Quantidade_L</th>\n",
       "      <th>Valor_USD</th>\n",
       "    </tr>\n",
       "  </thead>\n",
       "  <tbody>\n",
       "    <tr>\n",
       "      <th>0</th>\n",
       "      <td>Afeganistão</td>\n",
       "      <td>1970</td>\n",
       "      <td>0</td>\n",
       "      <td>0</td>\n",
       "    </tr>\n",
       "    <tr>\n",
       "      <th>1</th>\n",
       "      <td>África do Sul</td>\n",
       "      <td>1970</td>\n",
       "      <td>0</td>\n",
       "      <td>0</td>\n",
       "    </tr>\n",
       "    <tr>\n",
       "      <th>2</th>\n",
       "      <td>Alemanha, República Democrática</td>\n",
       "      <td>1970</td>\n",
       "      <td>0</td>\n",
       "      <td>0</td>\n",
       "    </tr>\n",
       "    <tr>\n",
       "      <th>3</th>\n",
       "      <td>Angola</td>\n",
       "      <td>1970</td>\n",
       "      <td>0</td>\n",
       "      <td>0</td>\n",
       "    </tr>\n",
       "    <tr>\n",
       "      <th>4</th>\n",
       "      <td>Anguilla</td>\n",
       "      <td>1970</td>\n",
       "      <td>0</td>\n",
       "      <td>0</td>\n",
       "    </tr>\n",
       "    <tr>\n",
       "      <th>...</th>\n",
       "      <td>...</td>\n",
       "      <td>...</td>\n",
       "      <td>...</td>\n",
       "      <td>...</td>\n",
       "    </tr>\n",
       "    <tr>\n",
       "      <th>7750</th>\n",
       "      <td>Tuvalu</td>\n",
       "      <td>2024</td>\n",
       "      <td>0</td>\n",
       "      <td>0</td>\n",
       "    </tr>\n",
       "    <tr>\n",
       "      <th>7751</th>\n",
       "      <td>Uruguai</td>\n",
       "      <td>2024</td>\n",
       "      <td>36729</td>\n",
       "      <td>62325</td>\n",
       "    </tr>\n",
       "    <tr>\n",
       "      <th>7752</th>\n",
       "      <td>Vanuatu</td>\n",
       "      <td>2024</td>\n",
       "      <td>0</td>\n",
       "      <td>0</td>\n",
       "    </tr>\n",
       "    <tr>\n",
       "      <th>7753</th>\n",
       "      <td>Venezuela</td>\n",
       "      <td>2024</td>\n",
       "      <td>122922</td>\n",
       "      <td>199418</td>\n",
       "    </tr>\n",
       "    <tr>\n",
       "      <th>7754</th>\n",
       "      <td>Vietnã</td>\n",
       "      <td>2024</td>\n",
       "      <td>16</td>\n",
       "      <td>41</td>\n",
       "    </tr>\n",
       "  </tbody>\n",
       "</table>\n",
       "<p>7755 rows × 4 columns</p>\n",
       "</div>"
      ],
      "text/plain": [
       "                                 País   Ano  Quantidade_L  Valor_USD\n",
       "0                         Afeganistão  1970             0          0\n",
       "1                       África do Sul  1970             0          0\n",
       "2     Alemanha, República Democrática  1970             0          0\n",
       "3                              Angola  1970             0          0\n",
       "4                            Anguilla  1970             0          0\n",
       "...                               ...   ...           ...        ...\n",
       "7750                           Tuvalu  2024             0          0\n",
       "7751                          Uruguai  2024         36729      62325\n",
       "7752                          Vanuatu  2024             0          0\n",
       "7753                        Venezuela  2024        122922     199418\n",
       "7754                           Vietnã  2024            16         41\n",
       "\n",
       "[7755 rows x 4 columns]"
      ]
     },
     "execution_count": 2,
     "metadata": {},
     "output_type": "execute_result"
    }
   ],
   "source": [
    "#O arquivo tá com as colunas separadas por tabulação, separador é '\\t'\n",
    "vinhos_inicial = pd.read_csv('vinhoexp.csv', sep='\\t', thousands='.', decimal=',')\n",
    "\n",
    "vinhos_inicial.drop(columns=['Id'], inplace=True)\n",
    "\n",
    "#o df tem duas colunas para cada ano, sendo elas 'quantidade (Kg)' e 'Valor (US$)'\n",
    "#primeiro passo agora é: corrigir os nomes das colunas, alternando entre Quantidade e Valor (US$)\n",
    "\n",
    "colunas_atuais = vinhos_inicial.columns[1:]  #ignorando a coluna dos países\n",
    "novas_colunas = []\n",
    "\n",
    "for i, col in enumerate(colunas_atuais):\n",
    "\n",
    "    tipo = 'Quantidade' if i % 2 == 0 else 'Valor'\n",
    "\n",
    "    novas_colunas.append(f'{tipo}_{col}')\n",
    "\n",
    "vinhos_inicial.columns = ['País'] + novas_colunas\n",
    "\n",
    "\n",
    "#separando colunas de quantidade e valor\n",
    "quantidade_cols = [col for col in vinhos_inicial.columns if col.startswith('Quantidade')]\n",
    "valor_cols = [col for col in vinhos_inicial.columns if col.startswith('Valor')]\n",
    "\n",
    "\n",
    "#vou fazer a tabela ficar no formato \"longo\", com uma coluna para ano, quantidade e valor. Acredito que esse formato vai ser o ideal para trabalhar com os dados depois.\n",
    "#Para isso, vou usar a função melt do pandas!!\n",
    "\n",
    "df_qtd = vinhos_inicial.melt(id_vars='País', value_vars=quantidade_cols, var_name='Ano', value_name='Quantidade_L')\n",
    "df_valor = vinhos_inicial.melt(id_vars='País', value_vars=valor_cols, var_name='Ano', value_name='Valor_USD')\n",
    "\n",
    "\n",
    "#agora, é extrair o ano da coluna (limpar)\n",
    "\n",
    "df_qtd['Ano'] = df_qtd['Ano'].str.extract(r'(\\d+)', expand=False)\n",
    "df_valor['Ano'] = df_valor['Ano'].str.extract(r'(\\d+)', expand=False)\n",
    "\n",
    "\n",
    "#por fim, tenho que juntar os dois dataframes e depois ajustar os tipos pra ficar certinho\n",
    "\n",
    "vinhos = pd.merge(df_qtd, df_valor, on=['País', 'Ano']) #juntando com a base nas colunas ano e país :)\n",
    "\n",
    "vinhos['Ano'] = vinhos['Ano'].astype(int)\n",
    "\n",
    "vinhos['Quantidade_L'] = pd.to_numeric(vinhos['Quantidade_L'], errors='coerce').fillna(0) #o .fillna(0) substitui os valores inexistentes por zero, pra garantir que ta tudo bonitinho e certinho pra n dar problema no futuro\n",
    "\n",
    "vinhos['Valor_USD'] = pd.to_numeric(vinhos['Valor_USD'], errors='coerce').fillna(0)\n",
    "\n",
    "\n",
    "vinhos\n",
    "\n",
    "\n"
   ]
  },
  {
   "cell_type": "code",
   "execution_count": 3,
   "id": "f517a467",
   "metadata": {},
   "outputs": [
    {
     "data": {
      "application/vnd.microsoft.datawrangler.viewer.v0+json": {
       "columns": [
        {
         "name": "index",
         "rawType": "int64",
         "type": "integer"
        },
        {
         "name": "País",
         "rawType": "object",
         "type": "string"
        },
        {
         "name": "Ano",
         "rawType": "int64",
         "type": "integer"
        },
        {
         "name": "Quantidade_L",
         "rawType": "int64",
         "type": "integer"
        },
        {
         "name": "Valor_USD",
         "rawType": "int64",
         "type": "integer"
        }
       ],
       "conversionMethod": "pd.DataFrame",
       "ref": "a49b17bb-a143-4579-9e2a-9f161eef1469",
       "rows": [
        [
         "5640",
         "Afeganistão",
         "2010",
         "0",
         "0"
        ],
        [
         "5641",
         "África do Sul",
         "2010",
         "0",
         "0"
        ],
        [
         "5642",
         "Alemanha, República Democrática",
         "2010",
         "27715",
         "138666"
        ],
        [
         "5643",
         "Angola",
         "2010",
         "33557",
         "189891"
        ],
        [
         "5644",
         "Anguilla",
         "2010",
         "0",
         "0"
        ],
        [
         "5645",
         "Antígua e Barbuda",
         "2010",
         "0",
         "0"
        ],
        [
         "5646",
         "Antilhas Holandesas",
         "2010",
         "9810",
         "12808"
        ],
        [
         "5647",
         "Arábia Saudita",
         "2010",
         "0",
         "0"
        ],
        [
         "5648",
         "Argélia",
         "2010",
         "0",
         "0"
        ],
        [
         "5649",
         "Argentina",
         "2010",
         "0",
         "0"
        ],
        [
         "5650",
         "Aruba",
         "2010",
         "0",
         "0"
        ],
        [
         "5651",
         "Austrália",
         "2010",
         "1823",
         "17960"
        ],
        [
         "5652",
         "Áustria",
         "2010",
         "0",
         "0"
        ],
        [
         "5653",
         "Bahamas",
         "2010",
         "3175",
         "12759"
        ],
        [
         "5654",
         "Bangladesh",
         "2010",
         "0",
         "0"
        ],
        [
         "5655",
         "Barbados",
         "2010",
         "0",
         "0"
        ],
        [
         "5656",
         "Barein",
         "2010",
         "0",
         "0"
        ],
        [
         "5657",
         "Bélgica",
         "2010",
         "42532",
         "185411"
        ],
        [
         "5658",
         "Belice",
         "2010",
         "0",
         "0"
        ],
        [
         "5659",
         "Benin",
         "2010",
         "0",
         "0"
        ],
        [
         "5660",
         "Bermudas",
         "2010",
         "0",
         "0"
        ],
        [
         "5661",
         "Bolívia",
         "2010",
         "54",
         "282"
        ],
        [
         "5662",
         "Bósnia-Herzegovina",
         "2010",
         "0",
         "0"
        ],
        [
         "5663",
         "Brasil",
         "2010",
         "0",
         "0"
        ],
        [
         "5664",
         "Bulgária",
         "2010",
         "0",
         "0"
        ],
        [
         "5665",
         "Cabo Verde",
         "2010",
         "11991",
         "49366"
        ],
        [
         "5666",
         "Camarões",
         "2010",
         "0",
         "0"
        ],
        [
         "5667",
         "Canadá",
         "2010",
         "0",
         "0"
        ],
        [
         "5668",
         "Catar",
         "2010",
         "0",
         "0"
        ],
        [
         "5669",
         "Cayman, Ilhas",
         "2010",
         "0",
         "0"
        ],
        [
         "5670",
         "Chile",
         "2010",
         "0",
         "0"
        ],
        [
         "5671",
         "China",
         "2010",
         "795",
         "2358"
        ],
        [
         "5672",
         "Chipre",
         "2010",
         "0",
         "0"
        ],
        [
         "5673",
         "Cingapura",
         "2010",
         "1533",
         "5504"
        ],
        [
         "5674",
         "Cocos (Keeling), Ilhas",
         "2010",
         "0",
         "0"
        ],
        [
         "5675",
         "Colômbia",
         "2010",
         "0",
         "0"
        ],
        [
         "5676",
         "Comores",
         "2010",
         "0",
         "0"
        ],
        [
         "5677",
         "Congo",
         "2010",
         "0",
         "0"
        ],
        [
         "5678",
         "Coreia, Republica Sul",
         "2010",
         "0",
         "0"
        ],
        [
         "5679",
         "Costa do Marfim",
         "2010",
         "0",
         "0"
        ],
        [
         "5680",
         "Costa Rica",
         "2010",
         "0",
         "0"
        ],
        [
         "5681",
         "Coveite (Kuweit)",
         "2010",
         "0",
         "0"
        ],
        [
         "5682",
         "Croácia",
         "2010",
         "0",
         "0"
        ],
        [
         "5683",
         "Cuba",
         "2010",
         "0",
         "0"
        ],
        [
         "5684",
         "Curaçao",
         "2010",
         "0",
         "0"
        ],
        [
         "5685",
         "Dinamarca",
         "2010",
         "7034",
         "69161"
        ],
        [
         "5686",
         "Dominica",
         "2010",
         "0",
         "0"
        ],
        [
         "5687",
         "El Salvador",
         "2010",
         "0",
         "0"
        ],
        [
         "5688",
         "Emirados Arabes Unidos",
         "2010",
         "1035",
         "3206"
        ],
        [
         "5689",
         "Equador",
         "2010",
         "0",
         "0"
        ]
       ],
       "shape": {
        "columns": 4,
        "rows": 2115
       }
      },
      "text/html": [
       "<div>\n",
       "<style scoped>\n",
       "    .dataframe tbody tr th:only-of-type {\n",
       "        vertical-align: middle;\n",
       "    }\n",
       "\n",
       "    .dataframe tbody tr th {\n",
       "        vertical-align: top;\n",
       "    }\n",
       "\n",
       "    .dataframe thead th {\n",
       "        text-align: right;\n",
       "    }\n",
       "</style>\n",
       "<table border=\"1\" class=\"dataframe\">\n",
       "  <thead>\n",
       "    <tr style=\"text-align: right;\">\n",
       "      <th></th>\n",
       "      <th>País</th>\n",
       "      <th>Ano</th>\n",
       "      <th>Quantidade_L</th>\n",
       "      <th>Valor_USD</th>\n",
       "    </tr>\n",
       "  </thead>\n",
       "  <tbody>\n",
       "    <tr>\n",
       "      <th>5640</th>\n",
       "      <td>Afeganistão</td>\n",
       "      <td>2010</td>\n",
       "      <td>0</td>\n",
       "      <td>0</td>\n",
       "    </tr>\n",
       "    <tr>\n",
       "      <th>5641</th>\n",
       "      <td>África do Sul</td>\n",
       "      <td>2010</td>\n",
       "      <td>0</td>\n",
       "      <td>0</td>\n",
       "    </tr>\n",
       "    <tr>\n",
       "      <th>5642</th>\n",
       "      <td>Alemanha, República Democrática</td>\n",
       "      <td>2010</td>\n",
       "      <td>27715</td>\n",
       "      <td>138666</td>\n",
       "    </tr>\n",
       "    <tr>\n",
       "      <th>5643</th>\n",
       "      <td>Angola</td>\n",
       "      <td>2010</td>\n",
       "      <td>33557</td>\n",
       "      <td>189891</td>\n",
       "    </tr>\n",
       "    <tr>\n",
       "      <th>5644</th>\n",
       "      <td>Anguilla</td>\n",
       "      <td>2010</td>\n",
       "      <td>0</td>\n",
       "      <td>0</td>\n",
       "    </tr>\n",
       "    <tr>\n",
       "      <th>...</th>\n",
       "      <td>...</td>\n",
       "      <td>...</td>\n",
       "      <td>...</td>\n",
       "      <td>...</td>\n",
       "    </tr>\n",
       "    <tr>\n",
       "      <th>7750</th>\n",
       "      <td>Tuvalu</td>\n",
       "      <td>2024</td>\n",
       "      <td>0</td>\n",
       "      <td>0</td>\n",
       "    </tr>\n",
       "    <tr>\n",
       "      <th>7751</th>\n",
       "      <td>Uruguai</td>\n",
       "      <td>2024</td>\n",
       "      <td>36729</td>\n",
       "      <td>62325</td>\n",
       "    </tr>\n",
       "    <tr>\n",
       "      <th>7752</th>\n",
       "      <td>Vanuatu</td>\n",
       "      <td>2024</td>\n",
       "      <td>0</td>\n",
       "      <td>0</td>\n",
       "    </tr>\n",
       "    <tr>\n",
       "      <th>7753</th>\n",
       "      <td>Venezuela</td>\n",
       "      <td>2024</td>\n",
       "      <td>122922</td>\n",
       "      <td>199418</td>\n",
       "    </tr>\n",
       "    <tr>\n",
       "      <th>7754</th>\n",
       "      <td>Vietnã</td>\n",
       "      <td>2024</td>\n",
       "      <td>16</td>\n",
       "      <td>41</td>\n",
       "    </tr>\n",
       "  </tbody>\n",
       "</table>\n",
       "<p>2115 rows × 4 columns</p>\n",
       "</div>"
      ],
      "text/plain": [
       "                                 País   Ano  Quantidade_L  Valor_USD\n",
       "5640                      Afeganistão  2010             0          0\n",
       "5641                    África do Sul  2010             0          0\n",
       "5642  Alemanha, República Democrática  2010         27715     138666\n",
       "5643                           Angola  2010         33557     189891\n",
       "5644                         Anguilla  2010             0          0\n",
       "...                               ...   ...           ...        ...\n",
       "7750                           Tuvalu  2024             0          0\n",
       "7751                          Uruguai  2024         36729      62325\n",
       "7752                          Vanuatu  2024             0          0\n",
       "7753                        Venezuela  2024        122922     199418\n",
       "7754                           Vietnã  2024            16         41\n",
       "\n",
       "[2115 rows x 4 columns]"
      ]
     },
     "execution_count": 3,
     "metadata": {},
     "output_type": "execute_result"
    }
   ],
   "source": [
    "#Próximo passo: Filtrar os dados para 2010 até 2024!\n",
    "\n",
    "vinhos = vinhos[(vinhos['Ano'] >= 2010) & (vinhos['Ano'] <= 2024)]\n",
    "\n",
    "vinhos"
   ]
  },
  {
   "cell_type": "code",
   "execution_count": null,
   "id": "1deb11b4",
   "metadata": {},
   "outputs": [
    {
     "data": {
      "image/png": "[encoded data removed]",
      "text/plain": [
       "<Figure size 1400x700 with 1 Axes>"
      ]
     },
     "metadata": {},
     "output_type": "display_data"
    }
   ],
   "source": [
    "#Agora, vou fazer um gráfico de barras com as exportações (em qtd e valor) por ano\n",
    "\n",
    "#primeiro, soma a quantidade total e valor total por ano\n",
    "vinhos_soma = vinhos.groupby('Ano')[['Quantidade_L', 'Valor_USD']].sum().reset_index()\n",
    "\n",
    "\n",
    "largura = 0.4\n",
    "anos = vinhos_soma['Ano']\n",
    "x = np.arange(len(anos))\n",
    "\n",
    "fig, ax = plt.subplots(figsize=(14, 7))\n",
    "\n",
    "ax.bar(x - largura/2, vinhos_soma['Quantidade_L'], width=largura, label='Quantidade (L)', color='indigo', alpha = 0.7)\n",
    "ax.bar(x + largura/2, vinhos_soma['Valor_USD'], width=largura, label='Valor (US$)', color='steelblue', alpha = 1) #gostei da paleta de cores, ficou bem equilibrado :)\n",
    "\n",
    "\n",
    "ax.set_xlabel('Ano', fontsize=12)\n",
    "ax.set_ylabel('Quantidade (em milhões de L) e Valor (em milhões de US$)', fontsize=11)\n",
    "ax.set_title('Exportações Anuais de Vinho do Brasil em Quantidade e Valor (2010–2024)', fontsize=14, fontweight='bold')\n",
    "ax.set_xticks(x)\n",
    "ax.set_xticklabels(anos, rotation=45)\n",
    "ax.legend(loc='upper right', frameon=True)\n",
    "ax.yaxis.set_major_formatter(ticker.FuncFormatter(lambda x, pos: f'{x/1e6:,.1f}')) #dividindo os dados (não os do df) por 1 milhão pra melhorar a visualização\t\n",
    "ax.yaxis.set_major_locator(MultipleLocator(2.5e6))  #ticks a cada 2.5 milhões\n",
    "\n",
    "\n",
    "#adicionando os valores acima das barras\n",
    "for i in range(len(anos)):\n",
    "    ax.text(x[i] - largura/2, vinhos_soma['Quantidade_L'][i] + 0.1e6, f'{vinhos_soma[\"Quantidade_L\"][i]/1e6:.1f}M', ha='center', va='bottom', fontsize=7, color='indigo')\n",
    "    \n",
    "    ax.text(x[i] + largura/2, vinhos_soma['Valor_USD'][i] + 0.1e6, f'{vinhos_soma[\"Valor_USD\"][i]/1e6:.1f}M', ha='center', va='bottom', fontsize=7, color='darkslateblue')\n",
    "\n",
    "\n",
    "plt.grid(axis='y', linestyle='--', alpha=0.7)\n",
    "plt.show()\n"
   ]
  },
  {
   "cell_type": "code",
   "execution_count": 22,
   "id": "d38468d8",
   "metadata": {},
   "outputs": [
    {
     "data": {
      "image/png": "[encoded data removed]",
      "text/plain": [
       "<Figure size 1400x700 with 2 Axes>"
      ]
     },
     "metadata": {},
     "output_type": "display_data"
    }
   ],
   "source": [
    "#agora fazendo um gráfico com dois eixos Y, para ver se ele fica mais claro do que o outro ou não\n",
    "\n",
    "largura = 0.4\n",
    "anos = vinhos_soma['Ano']\n",
    "x = np.arange(len(anos))\n",
    "\n",
    "fig, ax1 = plt.subplots(figsize=(14, 7))\n",
    "\n",
    "#primeiro eixo (esquerda) - Quantidade\n",
    "barras1 = ax1.bar(x - largura/2, vinhos_soma['Quantidade_L'], width=largura, color='indigo', alpha = 0.7, label='Quantidade (L)')\n",
    "ax1.set_ylabel('Quantidade (milhões de L)', fontsize=12, color='indigo', alpha = 0.7)\n",
    "ax1.yaxis.set_major_formatter(ticker.FuncFormatter(lambda x, pos: f'{x/1e6:.1f}'))\n",
    "ax1.yaxis.set_major_locator(ticker.MultipleLocator(2.5e6))\n",
    "ax1.tick_params(axis='y', labelcolor='indigo')\n",
    "\n",
    "#segundo eixo (direita) - Valor\n",
    "ax2 = ax1.twinx()\n",
    "barras2 = ax2.bar(x + largura/2, vinhos_soma['Valor_USD'], width=largura, color='steelblue', label='Valor (US$)')\n",
    "ax2.set_ylabel('Valor (milhões de US$)', fontsize=12, color='steelblue')\n",
    "ax2.yaxis.set_major_formatter(ticker.FuncFormatter(lambda x, pos: f'{x/1e6:.1f}'))\n",
    "ax2.tick_params(axis='y', labelcolor='steelblue')\n",
    "\n",
    "#rótulos, título e etc\n",
    "ax1.set_xlabel('Ano', fontsize=12)\n",
    "ax1.set_title('Exportações Anuais de Vinho do Brasil (2010–2024)', fontsize=16, fontweight='bold')\n",
    "ax1.set_xticks(x)\n",
    "ax1.set_xticklabels(anos, rotation=45)\n",
    "\n",
    "#adicionar valores sobre as barras\n",
    "for i in range(len(anos)):\n",
    "    ax1.text(x[i] - largura/2, vinhos_soma['Quantidade_L'][i] + 0.1e6, f'{vinhos_soma[\"Quantidade_L\"][i]/1e6:.1f}', ha='center', fontsize=8, color='indigo', alpha = 0.7)\n",
    "    ax2.text(x[i] + largura/2, vinhos_soma['Valor_USD'][i] + 0.1e6, f'{vinhos_soma[\"Valor_USD\"][i]/1e6:.1f}', ha='center', fontsize=8, color='steelblue')\n",
    "\n",
    "#grids nos dois eixos? continua esquisito \n",
    "ax1.grid(axis='y', linestyle='--', alpha=0.7)\n",
    "ax2.grid(axis='y', linestyle='--', alpha=0.9)\n",
    "\n",
    "plt.show()"
   ]
  },
  {
   "cell_type": "code",
   "execution_count": 16,
   "id": "e722795f",
   "metadata": {},
   "outputs": [
    {
     "data": {
      "image/png": "[encoded data removed]",
      "text/plain": [
       "<Figure size 1000x600 with 1 Axes>"
      ]
     },
     "metadata": {},
     "output_type": "display_data"
    }
   ],
   "source": [
    "#conclusão: acho que ficou uma bosta o gráfico com dois eixos. Ficou super confuso, apesar de mais verticalmente equilibrado. DESCARTADO!\n",
    "#próxima tentativa: gráfico por país (top 5 ou top 10?)\n",
    "#escolher qual abordagem usar: ranking total acumulado; ano mais recente; evolução ano a ano por país etc. (talvez todas?)\n",
    "\n",
    "#começando por ranking total acumulado:\n",
    "\n",
    "ranking_paises = vinhos.groupby('País')['Valor_USD'].sum().sort_values(ascending=False).head(10)  #agrupa e soma valor total por país\n",
    "\n",
    "#Vou fazer um gráfico de barras horizontais, acho que é o que mais combina com um ranking\n",
    "fig, ax = plt.subplots(figsize=(10, 6))\n",
    "ranking_paises = ranking_paises.sort_values()  # ordena de baixo para cima no gráfico\n",
    "bars = ax.barh(ranking_paises.index, ranking_paises.values, color='steelblue')\n",
    "\n",
    "#adicionando rótulos nas barras\n",
    "for bar in bars:\n",
    "    width = bar.get_width()\n",
    "    ax.text(width + 1e5, bar.get_y() + bar.get_height()/2, f'{width/1e6:.1f}M', va='center', fontsize=9)\n",
    "\n",
    "ax.set_xlabel('Valor Total Exportado (US$)', fontsize=12)\n",
    "ax.set_title('Top 10 Países Importadores de Vinho Brasileiro (2010–2024)', fontsize=14, fontweight='bold')\n",
    "ax.xaxis.set_major_formatter(plt.FuncFormatter(lambda x, _: f'{x/1e6:.1f}M'))\n",
    "ax.grid(axis='x', linestyle='--', alpha=0.5)\n",
    "ax.set_xlim(0, ranking_paises.max() * 1.1)  # adiciona um pouco de espaço à direita do gráfico\n",
    "\n",
    "plt.show()\n"
   ]
  },
  {
   "cell_type": "code",
   "execution_count": 38,
   "id": "4840903b",
   "metadata": {},
   "outputs": [
    {
     "data": {
      "image/png": "[encoded data removed]",
      "text/plain": [
       "<Figure size 1000x600 with 1 Axes>"
      ]
     },
     "metadata": {},
     "output_type": "display_data"
    }
   ],
   "source": [
    "#Limitação: não mostra se estão crescendo ou caindo\n",
    "#bom para mostrar os \"campeões\" de longo prazo\n",
    "\n",
    "#próximo gráfico é: os top países em 2024 (podendo escolher o ano que quiser hehe)\n",
    "\n",
    "ano_escolhido = 2024\n",
    "vinhos_ano = vinhos[vinhos['Ano'] == ano_escolhido]\n",
    "ranking_ano = vinhos_ano.groupby('País')['Valor_USD'].sum().sort_values(ascending=False).head(10)\n",
    "\n",
    "fig, ax = plt.subplots(figsize=(10, 6))\n",
    "bars = ax.bar(ranking_ano.index, ranking_ano.values, color='steelblue')\n",
    "\n",
    "for bar in bars:\n",
    "    height = bar.get_height()\n",
    "    ax.text(bar.get_x() + bar.get_width()/2, height + 1e5, f'{height/1e6:.1f}M', ha='center', va='bottom', fontsize=9)\n",
    "\n",
    "ax.set_ylabel('Valor (US$)', fontsize=12)\n",
    "ax.set_title(f'Top 10 Países Importadores de Vinho Brasileiro em {ano_escolhido}', fontsize=14, fontweight='bold')\n",
    "\n",
    "ax.yaxis.set_major_formatter(plt.FuncFormatter(lambda x, _: f'{x/1e6:.1f}M'))\n",
    "\n",
    "ax.set_xticks(range(len(ranking_ano)))\n",
    "ax.set_xticklabels(ranking_ano.index, rotation=45, ha='right')\n",
    "ax.grid(axis='y', linestyle='--', alpha=0.5)\n",
    "ax.set_ylim(0, ranking_ano.max() * 1.1) #pra ajustar o limite do eixo y, deixando um espaço em cima das barras, de acordo com o valor máximo\n",
    "\n",
    "plt.show()\n"
   ]
  },
  {
   "cell_type": "code",
   "execution_count": 39,
   "id": "1581bad5",
   "metadata": {},
   "outputs": [
    {
     "data": {
      "image/png": "[encoded data removed]",
      "text/plain": [
       "<Figure size 1000x600 with 1 Axes>"
      ]
     },
     "metadata": {},
     "output_type": "display_data"
    }
   ],
   "source": [
    "#quero fazer também um igual a esse só que com a quantidade em litros também \n",
    "#pode não ser muito relevante, mas acho que é válido ter ele :)\n",
    "\n",
    "\n",
    "ranking_ano = vinhos_ano.groupby('País')['Quantidade_L'].sum().sort_values(ascending=False).head(10)\n",
    "\n",
    "fig, ax = plt.subplots(figsize=(10, 6))\n",
    "bars = ax.bar(ranking_ano.index, ranking_ano.values, color='indigo', alpha=0.7)\n",
    "\n",
    "for bar in bars:\n",
    "    height = bar.get_height()\n",
    "    ax.text(bar.get_x() + bar.get_width()/2, height + 1e5, f'{height/1e6:.1f}M', ha='center', va='bottom', fontsize=9)\n",
    "\n",
    "ax.set_ylabel(f'Quantidade Exportada (Litros)', fontsize=12)\n",
    "ax.set_title(f'Top 10 Países Importadores de Vinho Brasileiro em {ano_escolhido}', fontsize=14, fontweight='bold')\n",
    "\n",
    "ax.yaxis.set_major_formatter(plt.FuncFormatter(lambda x, _: f'{x/1e6:.1f}M'))\n",
    "\n",
    "ax.set_xticks(range(len(ranking_ano)))\n",
    "ax.set_xticklabels(ranking_ano.index, rotation=45, ha='right')\n",
    "ax.grid(axis='y', linestyle='--', alpha=0.5)\n",
    "ax.set_ylim(0, ranking_ano.max() * 1.1)\n",
    "\n",
    "plt.tight_layout()\n",
    "plt.show()"
   ]
  },
  {
   "cell_type": "code",
   "execution_count": 32,
   "id": "e0a91857",
   "metadata": {},
   "outputs": [
    {
     "data": {
      "application/vnd.microsoft.datawrangler.viewer.v0+json": {
       "columns": [
        {
         "name": "index",
         "rawType": "int64",
         "type": "integer"
        },
        {
         "name": "País",
         "rawType": "object",
         "type": "string"
        },
        {
         "name": "Ano",
         "rawType": "int64",
         "type": "integer"
        },
        {
         "name": "Quantidade_L",
         "rawType": "int64",
         "type": "integer"
        },
        {
         "name": "Valor_USD",
         "rawType": "int64",
         "type": "integer"
        },
        {
         "name": "Preco_Litro",
         "rawType": "float64",
         "type": "float"
        }
       ],
       "conversionMethod": "pd.DataFrame",
       "ref": "407d4fea-b04f-4a4e-bf2b-84c14ce1a83c",
       "rows": [
        [
         "5640",
         "Afeganistão",
         "2010",
         "0",
         "0",
         "0.0"
        ],
        [
         "5641",
         "África do Sul",
         "2010",
         "0",
         "0",
         "0.0"
        ],
        [
         "5642",
         "Alemanha, República Democrática",
         "2010",
         "27715",
         "138666",
         "5.003283420530399"
        ],
        [
         "5643",
         "Angola",
         "2010",
         "33557",
         "189891",
         "5.6587597222636115"
        ],
        [
         "5644",
         "Anguilla",
         "2010",
         "0",
         "0",
         "0.0"
        ],
        [
         "5645",
         "Antígua e Barbuda",
         "2010",
         "0",
         "0",
         "0.0"
        ],
        [
         "5646",
         "Antilhas Holandesas",
         "2010",
         "9810",
         "12808",
         "1.3056065239551478"
        ],
        [
         "5647",
         "Arábia Saudita",
         "2010",
         "0",
         "0",
         "0.0"
        ],
        [
         "5648",
         "Argélia",
         "2010",
         "0",
         "0",
         "0.0"
        ],
        [
         "5649",
         "Argentina",
         "2010",
         "0",
         "0",
         "0.0"
        ],
        [
         "5650",
         "Aruba",
         "2010",
         "0",
         "0",
         "0.0"
        ],
        [
         "5651",
         "Austrália",
         "2010",
         "1823",
         "17960",
         "9.851892484914975"
        ],
        [
         "5652",
         "Áustria",
         "2010",
         "0",
         "0",
         "0.0"
        ],
        [
         "5653",
         "Bahamas",
         "2010",
         "3175",
         "12759",
         "4.018582677165354"
        ],
        [
         "5654",
         "Bangladesh",
         "2010",
         "0",
         "0",
         "0.0"
        ],
        [
         "5655",
         "Barbados",
         "2010",
         "0",
         "0",
         "0.0"
        ],
        [
         "5656",
         "Barein",
         "2010",
         "0",
         "0",
         "0.0"
        ],
        [
         "5657",
         "Bélgica",
         "2010",
         "42532",
         "185411",
         "4.35932944606414"
        ],
        [
         "5658",
         "Belice",
         "2010",
         "0",
         "0",
         "0.0"
        ],
        [
         "5659",
         "Benin",
         "2010",
         "0",
         "0",
         "0.0"
        ],
        [
         "5660",
         "Bermudas",
         "2010",
         "0",
         "0",
         "0.0"
        ],
        [
         "5661",
         "Bolívia",
         "2010",
         "54",
         "282",
         "5.222222222222222"
        ],
        [
         "5662",
         "Bósnia-Herzegovina",
         "2010",
         "0",
         "0",
         "0.0"
        ],
        [
         "5663",
         "Brasil",
         "2010",
         "0",
         "0",
         "0.0"
        ],
        [
         "5664",
         "Bulgária",
         "2010",
         "0",
         "0",
         "0.0"
        ],
        [
         "5665",
         "Cabo Verde",
         "2010",
         "11991",
         "49366",
         "4.116921024101409"
        ],
        [
         "5666",
         "Camarões",
         "2010",
         "0",
         "0",
         "0.0"
        ],
        [
         "5667",
         "Canadá",
         "2010",
         "0",
         "0",
         "0.0"
        ],
        [
         "5668",
         "Catar",
         "2010",
         "0",
         "0",
         "0.0"
        ],
        [
         "5669",
         "Cayman, Ilhas",
         "2010",
         "0",
         "0",
         "0.0"
        ],
        [
         "5670",
         "Chile",
         "2010",
         "0",
         "0",
         "0.0"
        ],
        [
         "5671",
         "China",
         "2010",
         "795",
         "2358",
         "2.9660377358490564"
        ],
        [
         "5672",
         "Chipre",
         "2010",
         "0",
         "0",
         "0.0"
        ],
        [
         "5673",
         "Cingapura",
         "2010",
         "1533",
         "5504",
         "3.5903457273320285"
        ],
        [
         "5674",
         "Cocos (Keeling), Ilhas",
         "2010",
         "0",
         "0",
         "0.0"
        ],
        [
         "5675",
         "Colômbia",
         "2010",
         "0",
         "0",
         "0.0"
        ],
        [
         "5676",
         "Comores",
         "2010",
         "0",
         "0",
         "0.0"
        ],
        [
         "5677",
         "Congo",
         "2010",
         "0",
         "0",
         "0.0"
        ],
        [
         "5678",
         "Coreia, Republica Sul",
         "2010",
         "0",
         "0",
         "0.0"
        ],
        [
         "5679",
         "Costa do Marfim",
         "2010",
         "0",
         "0",
         "0.0"
        ],
        [
         "5680",
         "Costa Rica",
         "2010",
         "0",
         "0",
         "0.0"
        ],
        [
         "5681",
         "Coveite (Kuweit)",
         "2010",
         "0",
         "0",
         "0.0"
        ],
        [
         "5682",
         "Croácia",
         "2010",
         "0",
         "0",
         "0.0"
        ],
        [
         "5683",
         "Cuba",
         "2010",
         "0",
         "0",
         "0.0"
        ],
        [
         "5684",
         "Curaçao",
         "2010",
         "0",
         "0",
         "0.0"
        ],
        [
         "5685",
         "Dinamarca",
         "2010",
         "7034",
         "69161",
         "9.83238555587148"
        ],
        [
         "5686",
         "Dominica",
         "2010",
         "0",
         "0",
         "0.0"
        ],
        [
         "5687",
         "El Salvador",
         "2010",
         "0",
         "0",
         "0.0"
        ],
        [
         "5688",
         "Emirados Arabes Unidos",
         "2010",
         "1035",
         "3206",
         "3.097584541062802"
        ],
        [
         "5689",
         "Equador",
         "2010",
         "0",
         "0",
         "0.0"
        ]
       ],
       "shape": {
        "columns": 5,
        "rows": 2115
       }
      },
      "text/html": [
       "<div>\n",
       "<style scoped>\n",
       "    .dataframe tbody tr th:only-of-type {\n",
       "        vertical-align: middle;\n",
       "    }\n",
       "\n",
       "    .dataframe tbody tr th {\n",
       "        vertical-align: top;\n",
       "    }\n",
       "\n",
       "    .dataframe thead th {\n",
       "        text-align: right;\n",
       "    }\n",
       "</style>\n",
       "<table border=\"1\" class=\"dataframe\">\n",
       "  <thead>\n",
       "    <tr style=\"text-align: right;\">\n",
       "      <th></th>\n",
       "      <th>País</th>\n",
       "      <th>Ano</th>\n",
       "      <th>Quantidade_L</th>\n",
       "      <th>Valor_USD</th>\n",
       "      <th>Preco_Litro</th>\n",
       "    </tr>\n",
       "  </thead>\n",
       "  <tbody>\n",
       "    <tr>\n",
       "      <th>5640</th>\n",
       "      <td>Afeganistão</td>\n",
       "      <td>2010</td>\n",
       "      <td>0</td>\n",
       "      <td>0</td>\n",
       "      <td>0.000000</td>\n",
       "    </tr>\n",
       "    <tr>\n",
       "      <th>5641</th>\n",
       "      <td>África do Sul</td>\n",
       "      <td>2010</td>\n",
       "      <td>0</td>\n",
       "      <td>0</td>\n",
       "      <td>0.000000</td>\n",
       "    </tr>\n",
       "    <tr>\n",
       "      <th>5642</th>\n",
       "      <td>Alemanha, República Democrática</td>\n",
       "      <td>2010</td>\n",
       "      <td>27715</td>\n",
       "      <td>138666</td>\n",
       "      <td>5.003283</td>\n",
       "    </tr>\n",
       "    <tr>\n",
       "      <th>5643</th>\n",
       "      <td>Angola</td>\n",
       "      <td>2010</td>\n",
       "      <td>33557</td>\n",
       "      <td>189891</td>\n",
       "      <td>5.658760</td>\n",
       "    </tr>\n",
       "    <tr>\n",
       "      <th>5644</th>\n",
       "      <td>Anguilla</td>\n",
       "      <td>2010</td>\n",
       "      <td>0</td>\n",
       "      <td>0</td>\n",
       "      <td>0.000000</td>\n",
       "    </tr>\n",
       "    <tr>\n",
       "      <th>...</th>\n",
       "      <td>...</td>\n",
       "      <td>...</td>\n",
       "      <td>...</td>\n",
       "      <td>...</td>\n",
       "      <td>...</td>\n",
       "    </tr>\n",
       "    <tr>\n",
       "      <th>7750</th>\n",
       "      <td>Tuvalu</td>\n",
       "      <td>2024</td>\n",
       "      <td>0</td>\n",
       "      <td>0</td>\n",
       "      <td>0.000000</td>\n",
       "    </tr>\n",
       "    <tr>\n",
       "      <th>7751</th>\n",
       "      <td>Uruguai</td>\n",
       "      <td>2024</td>\n",
       "      <td>36729</td>\n",
       "      <td>62325</td>\n",
       "      <td>1.696888</td>\n",
       "    </tr>\n",
       "    <tr>\n",
       "      <th>7752</th>\n",
       "      <td>Vanuatu</td>\n",
       "      <td>2024</td>\n",
       "      <td>0</td>\n",
       "      <td>0</td>\n",
       "      <td>0.000000</td>\n",
       "    </tr>\n",
       "    <tr>\n",
       "      <th>7753</th>\n",
       "      <td>Venezuela</td>\n",
       "      <td>2024</td>\n",
       "      <td>122922</td>\n",
       "      <td>199418</td>\n",
       "      <td>1.622313</td>\n",
       "    </tr>\n",
       "    <tr>\n",
       "      <th>7754</th>\n",
       "      <td>Vietnã</td>\n",
       "      <td>2024</td>\n",
       "      <td>16</td>\n",
       "      <td>41</td>\n",
       "      <td>2.562500</td>\n",
       "    </tr>\n",
       "  </tbody>\n",
       "</table>\n",
       "<p>2115 rows × 5 columns</p>\n",
       "</div>"
      ],
      "text/plain": [
       "                                 País   Ano  Quantidade_L  Valor_USD  \\\n",
       "5640                      Afeganistão  2010             0          0   \n",
       "5641                    África do Sul  2010             0          0   \n",
       "5642  Alemanha, República Democrática  2010         27715     138666   \n",
       "5643                           Angola  2010         33557     189891   \n",
       "5644                         Anguilla  2010             0          0   \n",
       "...                               ...   ...           ...        ...   \n",
       "7750                           Tuvalu  2024             0          0   \n",
       "7751                          Uruguai  2024         36729      62325   \n",
       "7752                          Vanuatu  2024             0          0   \n",
       "7753                        Venezuela  2024        122922     199418   \n",
       "7754                           Vietnã  2024            16         41   \n",
       "\n",
       "      Preco_Litro  \n",
       "5640     0.000000  \n",
       "5641     0.000000  \n",
       "5642     5.003283  \n",
       "5643     5.658760  \n",
       "5644     0.000000  \n",
       "...           ...  \n",
       "7750     0.000000  \n",
       "7751     1.696888  \n",
       "7752     0.000000  \n",
       "7753     1.622313  \n",
       "7754     2.562500  \n",
       "\n",
       "[2115 rows x 5 columns]"
      ]
     },
     "execution_count": 32,
     "metadata": {},
     "output_type": "execute_result"
    }
   ],
   "source": [
    "#o foda nesses dois gráficos é que o paraguai, por exemplo, tem um valor muuuuuuuito mais alto entao as outras \n",
    "#barras quando vai chegando no final do ranking ficam minúsculas e não da pra ver nem fazer nenhuma comparação entre elas..\n",
    "\n",
    "#o que dá pra fazer, caso a gente siga com esses gráficos no relatório final, é talvez excluir os primeiros 3 países ou algo assim do ranking\n",
    "#pq ai fica visível o que que rola com o restante dos países!!\n",
    "\n",
    "#uma análise legal que dá pra fazer é comparar esse gráfico com o gráfico de valor, que aí mostra quem ta importando \n",
    "#vinho mais barato ou caro//quem tá pagando mais caro ou barato por litro\n",
    "#falando nisso, vou fazer um gráfico valor por litro entre os países agora :)\n",
    "\n",
    "\n",
    "#Seguindo adiante então:\n",
    "\n",
    "#primeiro passo é fazer uma nova coluna no df com o preço por litro:\n",
    "#LEMBRANDO que pode ter a quantidade 0 frequentemente, então tem que se preparar pra esses casos:\n",
    "\n",
    "\n",
    "#vinhos['Preco_Litro'] = vinhos.apply(lambda row: row['Valor_USD'] / row['Quantidade_L'] if row['Quantidade_L'] > 0 else 0, axis=1)\n",
    "\n",
    "\n",
    "#explicação do que que é esse lambda e como funciona isso aqui:\n",
    "\n",
    "#lambda é uma forma abreviada de criar uma função simples e rápida. É o mesmo que def, só que inline (sem nome) -> em def seria def nome_funcao(etc)\n",
    "#aqui, row é uma linha do dataframe, passada linha por linha pela função apply() do pandas\n",
    "#vinhos.apply(lambda row: row['Valor_USD'] / row['Quantidade_L'], axis=1) significa: \n",
    "# “Para cada linha (row) do dataframe pegue o Valor_USD e divida pelo Quantidade_L e retorne esse valor como o preço por litro.”\n",
    "\n",
    "\n",
    "vinhos.loc[:, 'Preco_Litro'] = vinhos.apply(lambda row: row['Valor_USD'] / row['Quantidade_L'] if row['Quantidade_L'] > 0 else 0, axis=1)\n",
    "\n",
    "#tive que usar o .loc tal para mostrar pro pandas que eu tava querendo editar a coluna toda do dataframe original, e não só uma cópia dela \n",
    "# (porque antes eu fiz vinhos = vinhos[(vinhos['Ano'] >= 2010) & (vinhos['Ano'] <= 2024)], lá em cima!) aí ele me mostra um warning pra confirmar isso. Agora tá certinho!\n",
    "\n",
    "vinhos\n"
   ]
  },
  {
   "cell_type": "code",
   "execution_count": 41,
   "id": "e7c3fbe0",
   "metadata": {},
   "outputs": [
    {
     "data": {
      "image/png": "[encoded data removed]",
      "text/plain": [
       "<Figure size 1000x600 with 1 Axes>"
      ]
     },
     "metadata": {},
     "output_type": "display_data"
    }
   ],
   "source": [
    "#Agora sim, fazendo o gráfico!\n",
    "\n",
    "vinhos_ano = vinhos[vinhos['Ano'] == ano_escolhido] #tive que definir dnv pq eu mudei o df né então ele ainda n tava atualizado com a coluna nova\n",
    "ranking_preco = vinhos_ano.groupby('País')['Preco_Litro'].mean().sort_values(ascending=False).head(10)\n",
    "\n",
    "fig, ax = plt.subplots(figsize=(10, 6))\n",
    "bars = ax.bar(ranking_preco.index, ranking_preco.values, color='darkorange', alpha=0.8)\n",
    "\n",
    "for bar in bars:\n",
    "    height = bar.get_height()\n",
    "    ax.text(bar.get_x() + bar.get_width()/2, height + 0.1, f'{height:.2f}', ha='center', va='bottom', fontsize=9)\n",
    "\n",
    "ax.set_ylabel('Preço Médio por Litro (US$)', fontsize=12)\n",
    "ax.set_title(f'Top 10 Países com Maior Preço Médio por Litro em {ano_escolhido}', fontsize=14, fontweight='bold')\n",
    "ax.set_xticks(range(len(ranking_preco)))\n",
    "ax.set_xticklabels(ranking_preco.index, rotation=45, ha='right')\n",
    "ax.grid(axis='y', linestyle='--', alpha=0.7)\n",
    "ax.set_ylim(0, ranking_preco.max() * 1.1)\n",
    "\n",
    "plt.show()"
   ]
  },
  {
   "cell_type": "code",
   "execution_count": null,
   "id": "15013cd4",
   "metadata": {},
   "outputs": [],
   "source": [
    "#esse gráfico é bom pra:\n",
    "#mostrar onde estão os mercados de maior valor agregado\n",
    "#discutir estratégias de exportação premium\n",
    "#propor ações de segmentação geográfica e de produto\n",
    "#etc e tal"
   ]
  },
  {
   "cell_type": "code",
   "execution_count": null,
   "id": "abad88eb",
   "metadata": {},
   "outputs": [
    {
     "data": {
      "image/png": "[encoded data removed]",
      "text/plain": [
       "<Figure size 1400x700 with 1 Axes>"
      ]
     },
     "metadata": {},
     "output_type": "display_data"
    }
   ],
   "source": [
    "#agora vamos para o gráfico de evolução ano a ano por país (considerando apenas os top 5 países totais no período)\n",
    "\n",
    "top5_paises = vinhos.groupby('País')['Valor_USD'].sum().sort_values(ascending=False).head(5).index\n",
    "vinhos_top5 = vinhos[vinhos['País'].isin(top5_paises)]\n",
    "evolucao_top5 = vinhos_top5.groupby(['Ano', 'País'])['Valor_USD'].sum().unstack()\n",
    "\n",
    "fig, ax = plt.subplots(figsize=(14, 7))\n",
    "evolucao_top5.plot(ax=ax, marker='o')\n",
    "\n",
    "ax.set_title('Evolução Anual das Exportações para os 5 Maiores Importadores (2010–2024)', fontsize=16, fontweight='bold')\n",
    "ax.set_xlabel('Ano', fontsize=12)\n",
    "ax.set_ylabel('Valor Exportado (US$)', fontsize=12)\n",
    "ax.yaxis.set_major_formatter(plt.FuncFormatter(lambda x, _: f'{x/1e6:.1f}M'))\n",
    "ax.grid(axis='both', linestyle='--', alpha=0.5)\n",
    "ax.legend(title='País')\n",
    "\n",
    "plt.show()"
   ]
  },
  {
   "cell_type": "code",
   "execution_count": 44,
   "id": "ec0d4b7a",
   "metadata": {},
   "outputs": [
    {
     "data": {
      "image/png": "[encoded data removed]",
      "text/plain": [
       "<Figure size 1400x700 with 1 Axes>"
      ]
     },
     "metadata": {},
     "output_type": "display_data"
    }
   ],
   "source": [
    "#esse pico escroto da russia ta atrapalhando a visualização, podemos fazer um gráfico excluindo ela e pegando o proximo pais no top 5\n",
    "\n",
    "ranking_geral = vinhos.groupby('País')['Valor_USD'].sum().sort_values(ascending=False)\n",
    "top5_sem_russia = ranking_geral[ranking_geral.index != 'Rússia'].head(5).index\n",
    "\n",
    "vinhos_top5_alt = vinhos[vinhos['País'].isin(top5_sem_russia)]\n",
    "\n",
    "evolucao_top5_alt = vinhos_top5_alt.groupby(['Ano', 'País'])['Valor_USD'].sum().unstack()\n",
    "\n",
    "fig, ax = plt.subplots(figsize=(14, 7))\n",
    "evolucao_top5_alt.plot(ax=ax, marker='o')\n",
    "\n",
    "ax.set_title('Evolução Anual das Exportações para os 5 Maiores Importadores (sem a Rússia)', fontsize=16, fontweight='bold')\n",
    "ax.set_xlabel('Ano', fontsize=12)\n",
    "ax.set_ylabel('Valor Exportado (US$)', fontsize=12)\n",
    "ax.yaxis.set_major_formatter(plt.FuncFormatter(lambda x, _: f'{x/1e6:.1f}M'))\n",
    "ax.grid(axis='both', linestyle='--', alpha=0.7)\n",
    "ax.legend(title='País')\n",
    "\n",
    "plt.show()\n",
    "\n"
   ]
  },
  {
   "cell_type": "code",
   "execution_count": null,
   "id": "c10dfa04",
   "metadata": {},
   "outputs": [],
   "source": [
    "#o bom desse gráfico é que ele mostra tendência por país, não só quem comprou mais (olhando diretamente para a rússia 👀)\n",
    "#paraguai tá fortíssimo nos ultimos anos!\n",
    "\n",
    "#outra coisa que dá pra fazer é pegar o top países que importaram num período específico (tipo 2010 até 2015 por exemplo) e refazer esse gráfico. \n",
    "#pode ser que tenha algum(ns) países que importavam muito antes e diminuíram recentemente. \n",
    "#por ex o Haiti, que importava pouquissimo antes de 2018 e começou a importar tanto que virou o top 6..\n"
   ]
  },
  {
   "cell_type": "code",
   "execution_count": null,
   "id": "b31f9760",
   "metadata": {},
   "outputs": [],
   "source": [
    "#acho que agora chega de fazer gráficos desse df especificamente por enquanto. Vou tratar os dados climáticos agora e depois vamos ver o que dá pra fazer de correlações e análises :)\n"
   ]
  },
  {
   "cell_type": "markdown",
   "id": "06dae5ac",
   "metadata": {},
   "source": [
    "Parte Climática"
   ]
  },
  {
   "cell_type": "code",
   "execution_count": 79,
   "id": "e4bb5bc2",
   "metadata": {},
   "outputs": [
    {
     "data": {
      "application/vnd.microsoft.datawrangler.viewer.v0+json": {
       "columns": [
        {
         "name": "index",
         "rawType": "int64",
         "type": "integer"
        },
        {
         "name": "Data Medicao",
         "rawType": "object",
         "type": "string"
        },
        {
         "name": "NUMERO DE DIAS COM PRECIP. PLUV, MENSAL (AUT)(nÃºmero)",
         "rawType": "float64",
         "type": "float"
        },
        {
         "name": "PRECIPITACAO TOTAL, MENSAL (AUT)(mm)",
         "rawType": "float64",
         "type": "float"
        },
        {
         "name": "PRESSAO ATMOSFERICA, MEDIA MENSAL (AUT)(mB)",
         "rawType": "float64",
         "type": "float"
        },
        {
         "name": "TEMPERATURA MEDIA, MENSAL (AUT)(Â°C)",
         "rawType": "float64",
         "type": "float"
        },
        {
         "name": "VENTO, VELOCIDADE MAXIMA MENSAL (AUT)(m/s)",
         "rawType": "float64",
         "type": "float"
        },
        {
         "name": "VENTO, VELOCIDADE MEDIA MENSAL (AUT)(m/s)",
         "rawType": "float64",
         "type": "float"
        },
        {
         "name": "Unnamed: 7",
         "rawType": "float64",
         "type": "float"
        },
        {
         "name": "Estacao",
         "rawType": "object",
         "type": "string"
        }
       ],
       "conversionMethod": "pd.DataFrame",
       "ref": "76239762-38fa-4286-8754-35679f9c15ed",
       "rows": [
        [
         "0",
         "2010-01-31",
         "18.0",
         "278.4",
         "941.5",
         "21.9",
         "7.0",
         "2.5",
         null,
         "Bento Gonçalves"
        ],
        [
         "1",
         "2010-02-28",
         "14.0",
         "161.4",
         "942.1",
         "23.0",
         "9.7",
         "2.8",
         null,
         "Bento Gonçalves"
        ],
        [
         "2",
         "2010-03-31",
         "19.0",
         "58.4",
         "942.6",
         "20.7",
         "7.0",
         "2.2",
         null,
         "Bento Gonçalves"
        ],
        [
         "3",
         "2010-04-30",
         "14.0",
         "136.4",
         "946.2",
         "17.6",
         "8.5",
         "2.4",
         null,
         "Bento Gonçalves"
        ],
        [
         "4",
         "2010-05-31",
         "21.0",
         "158.6",
         "946.0",
         "14.3",
         "6.8",
         "2.2",
         null,
         "Bento Gonçalves"
        ],
        [
         "5",
         "2010-06-30",
         "12.0",
         "128.2",
         "947.8",
         "13.1",
         "8.3",
         "2.8",
         null,
         "Bento Gonçalves"
        ],
        [
         "6",
         "2010-07-31",
         "15.0",
         "205.6",
         "947.7",
         "13.0",
         "10.7",
         "3.2",
         null,
         "Bento Gonçalves"
        ],
        [
         "7",
         "2010-08-31",
         "9.0",
         "50.6",
         "947.9",
         "13.3",
         "8.9",
         "3.2",
         null,
         "Bento Gonçalves"
        ],
        [
         "8",
         "2010-09-30",
         "13.0",
         "225.4",
         "944.6",
         "15.5",
         "11.7",
         "3.1",
         null,
         "Bento Gonçalves"
        ],
        [
         "9",
         "2010-10-31",
         "11.0",
         "50.8",
         "943.8",
         "16.0",
         "7.8",
         "2.4",
         null,
         "Bento Gonçalves"
        ],
        [
         "10",
         "2010-11-30",
         "12.0",
         "88.4",
         "940.9",
         "18.4",
         "10.2",
         "2.5",
         null,
         "Bento Gonçalves"
        ],
        [
         "11",
         "2010-12-31",
         "11.0",
         "89.6",
         "939.5",
         "20.9",
         "8.3",
         "2.8",
         null,
         "Bento Gonçalves"
        ],
        [
         "12",
         "2011-01-31",
         "20.0",
         "164.8",
         "939.8",
         "22.8",
         "6.9",
         "2.4",
         null,
         "Bento Gonçalves"
        ],
        [
         "13",
         "2011-02-28",
         "22.0",
         "221.6",
         "941.9",
         "21.6",
         "6.3",
         "2.4",
         null,
         "Bento Gonçalves"
        ],
        [
         "14",
         "2011-03-31",
         "12.0",
         "264.6",
         "943.8",
         "20.0",
         "6.6",
         "2.9",
         null,
         "Bento Gonçalves"
        ],
        [
         "15",
         "2011-04-30",
         "16.0",
         "147.8",
         "944.4",
         "17.8",
         "8.1",
         "2.3",
         null,
         "Bento Gonçalves"
        ],
        [
         "16",
         "2011-05-31",
         "11.0",
         "70.0",
         "947.1",
         "14.3",
         "7.6",
         "2.5",
         null,
         "Bento Gonçalves"
        ],
        [
         "17",
         "2011-06-30",
         "16.0",
         "178.6",
         "945.5",
         "11.6",
         "7.8",
         "2.7",
         null,
         "Bento Gonçalves"
        ],
        [
         "18",
         "2011-07-31",
         "17.0",
         "324.2",
         "946.1",
         "12.1",
         "7.5",
         "2.6",
         null,
         "Bento Gonçalves"
        ],
        [
         "19",
         "2011-08-31",
         "16.0",
         null,
         "945.5",
         "13.3",
         "11.0",
         "3.3",
         null,
         "Bento Gonçalves"
        ],
        [
         "20",
         "2011-09-30",
         "9.0",
         "57.8",
         "947.3",
         "15.0",
         "8.6",
         "3.1",
         null,
         "Bento Gonçalves"
        ],
        [
         "21",
         "2011-10-31",
         "12.0",
         "100.2",
         "942.5",
         "17.5",
         "10.4",
         "2.8",
         null,
         "Bento Gonçalves"
        ],
        [
         "22",
         "2011-11-30",
         "6.0",
         "17.4",
         "943.0",
         "19.4",
         "7.1",
         "2.9",
         null,
         "Bento Gonçalves"
        ],
        [
         "23",
         "2011-12-31",
         "14.0",
         "69.0",
         "940.8",
         "20.0",
         "6.4",
         "2.8",
         null,
         "Bento Gonçalves"
        ],
        [
         "24",
         "2012-01-31",
         "9.0",
         "64.4",
         "941.7",
         "21.7",
         "7.0",
         "2.9",
         null,
         "Bento Gonçalves"
        ],
        [
         "25",
         "2012-02-29",
         "13.0",
         "173.2",
         "941.8",
         "23.3",
         "7.6",
         "2.6",
         null,
         "Bento Gonçalves"
        ],
        [
         "26",
         "2012-03-31",
         "7.0",
         "85.6",
         "943.9",
         "20.5",
         "6.8",
         "2.6",
         null,
         "Bento Gonçalves"
        ],
        [
         "27",
         "2012-04-30",
         "11.0",
         "74.2",
         "944.0",
         "17.3",
         "7.0",
         "2.3",
         null,
         "Bento Gonçalves"
        ],
        [
         "28",
         "2012-05-31",
         "3.0",
         "25.2",
         "947.5",
         "16.2",
         "6.3",
         "2.5",
         null,
         "Bento Gonçalves"
        ],
        [
         "29",
         "2012-06-30",
         "10.0",
         "53.6",
         "946.3",
         "13.1",
         "6.9",
         "2.3",
         null,
         "Bento Gonçalves"
        ],
        [
         "30",
         "2012-07-31",
         "11.0",
         "181.8",
         "946.7",
         "11.7",
         "7.5",
         "2.7",
         null,
         "Bento Gonçalves"
        ],
        [
         "31",
         "2012-08-31",
         "8.0",
         "66.4",
         "949.0",
         "17.3",
         "10.5",
         "3.6",
         null,
         "Bento Gonçalves"
        ],
        [
         "32",
         "2012-09-30",
         "7.0",
         "220.0",
         "946.3",
         "16.0",
         "10.2",
         "3.4",
         null,
         "Bento Gonçalves"
        ],
        [
         "33",
         "2012-10-31",
         "15.0",
         "155.4",
         "942.5",
         "18.8",
         "10.4",
         "3.2",
         null,
         "Bento Gonçalves"
        ],
        [
         "34",
         "2012-11-30",
         "7.0",
         "26.0",
         "942.4",
         "20.5",
         "8.3",
         "3.0",
         null,
         "Bento Gonçalves"
        ],
        [
         "35",
         "2012-12-31",
         "13.0",
         "217.2",
         "940.0",
         "22.9",
         "9.4",
         "2.8",
         null,
         "Bento Gonçalves"
        ],
        [
         "36",
         "2013-01-31",
         "9.0",
         "104.4",
         "943.1",
         "20.9",
         "7.1",
         "2.8",
         null,
         "Bento Gonçalves"
        ],
        [
         "37",
         "2013-02-28",
         "15.0",
         "105.8",
         "942.1",
         "21.2",
         "8.0",
         "2.5",
         null,
         "Bento Gonçalves"
        ],
        [
         "38",
         "2013-03-31",
         "15.0",
         "186.4",
         "944.1",
         "18.4",
         "8.6",
         "2.6",
         null,
         "Bento Gonçalves"
        ],
        [
         "39",
         "2013-04-30",
         "8.0",
         "106.8",
         "945.4",
         "17.7",
         "7.3",
         "2.4",
         null,
         "Bento Gonçalves"
        ],
        [
         "40",
         "2013-05-31",
         "15.0",
         "127.6",
         "945.3",
         "14.7",
         "7.9",
         "2.4",
         null,
         "Bento Gonçalves"
        ],
        [
         "41",
         "2013-06-30",
         "25.0",
         "141.6",
         "945.9",
         "13.1",
         "8.1",
         "2.5",
         null,
         "Bento Gonçalves"
        ],
        [
         "42",
         "2013-07-31",
         "11.0",
         "96.4",
         "948.2",
         "12.1",
         "8.0",
         "2.6",
         null,
         "Bento Gonçalves"
        ],
        [
         "43",
         "2013-08-31",
         "16.0",
         "303.8",
         "947.2",
         "12.0",
         "6.6",
         "3.0",
         null,
         "Bento Gonçalves"
        ],
        [
         "44",
         "2013-09-30",
         "15.0",
         "182.8",
         "945.6",
         "15.5",
         "7.6",
         "2.9",
         null,
         "Bento Gonçalves"
        ],
        [
         "45",
         "2013-10-31",
         "13.0",
         "121.6",
         "944.5",
         "16.9",
         "9.1",
         "2.9",
         null,
         "Bento Gonçalves"
        ],
        [
         "46",
         "2013-11-30",
         "10.0",
         "242.8",
         "942.3",
         "20.0",
         "10.3",
         "3.4",
         null,
         "Bento Gonçalves"
        ],
        [
         "47",
         "2013-12-31",
         "10.0",
         "133.6",
         "940.5",
         "22.2",
         "7.3",
         "2.7",
         null,
         "Bento Gonçalves"
        ],
        [
         "48",
         "2014-01-31",
         "13.0",
         "78.2",
         "942.8",
         "23.5",
         "8.6",
         "2.7",
         null,
         "Bento Gonçalves"
        ],
        [
         "49",
         "2014-02-28",
         "15.0",
         "206.2",
         "943.2",
         "23.0",
         "10.4",
         "2.8",
         null,
         "Bento Gonçalves"
        ]
       ],
       "shape": {
        "columns": 9,
        "rows": 540
       }
      },
      "text/html": [
       "<div>\n",
       "<style scoped>\n",
       "    .dataframe tbody tr th:only-of-type {\n",
       "        vertical-align: middle;\n",
       "    }\n",
       "\n",
       "    .dataframe tbody tr th {\n",
       "        vertical-align: top;\n",
       "    }\n",
       "\n",
       "    .dataframe thead th {\n",
       "        text-align: right;\n",
       "    }\n",
       "</style>\n",
       "<table border=\"1\" class=\"dataframe\">\n",
       "  <thead>\n",
       "    <tr style=\"text-align: right;\">\n",
       "      <th></th>\n",
       "      <th>Data Medicao</th>\n",
       "      <th>NUMERO DE DIAS COM PRECIP. PLUV, MENSAL (AUT)(nÃºmero)</th>\n",
       "      <th>PRECIPITACAO TOTAL, MENSAL (AUT)(mm)</th>\n",
       "      <th>PRESSAO ATMOSFERICA, MEDIA MENSAL (AUT)(mB)</th>\n",
       "      <th>TEMPERATURA MEDIA, MENSAL (AUT)(Â°C)</th>\n",
       "      <th>VENTO, VELOCIDADE MAXIMA MENSAL (AUT)(m/s)</th>\n",
       "      <th>VENTO, VELOCIDADE MEDIA MENSAL (AUT)(m/s)</th>\n",
       "      <th>Unnamed: 7</th>\n",
       "      <th>Estacao</th>\n",
       "    </tr>\n",
       "  </thead>\n",
       "  <tbody>\n",
       "    <tr>\n",
       "      <th>0</th>\n",
       "      <td>2010-01-31</td>\n",
       "      <td>18.0</td>\n",
       "      <td>278.4</td>\n",
       "      <td>941.5</td>\n",
       "      <td>21.9</td>\n",
       "      <td>7.0</td>\n",
       "      <td>2.5</td>\n",
       "      <td>NaN</td>\n",
       "      <td>Bento Gonçalves</td>\n",
       "    </tr>\n",
       "    <tr>\n",
       "      <th>1</th>\n",
       "      <td>2010-02-28</td>\n",
       "      <td>14.0</td>\n",
       "      <td>161.4</td>\n",
       "      <td>942.1</td>\n",
       "      <td>23.0</td>\n",
       "      <td>9.7</td>\n",
       "      <td>2.8</td>\n",
       "      <td>NaN</td>\n",
       "      <td>Bento Gonçalves</td>\n",
       "    </tr>\n",
       "    <tr>\n",
       "      <th>2</th>\n",
       "      <td>2010-03-31</td>\n",
       "      <td>19.0</td>\n",
       "      <td>58.4</td>\n",
       "      <td>942.6</td>\n",
       "      <td>20.7</td>\n",
       "      <td>7.0</td>\n",
       "      <td>2.2</td>\n",
       "      <td>NaN</td>\n",
       "      <td>Bento Gonçalves</td>\n",
       "    </tr>\n",
       "    <tr>\n",
       "      <th>3</th>\n",
       "      <td>2010-04-30</td>\n",
       "      <td>14.0</td>\n",
       "      <td>136.4</td>\n",
       "      <td>946.2</td>\n",
       "      <td>17.6</td>\n",
       "      <td>8.5</td>\n",
       "      <td>2.4</td>\n",
       "      <td>NaN</td>\n",
       "      <td>Bento Gonçalves</td>\n",
       "    </tr>\n",
       "    <tr>\n",
       "      <th>4</th>\n",
       "      <td>2010-05-31</td>\n",
       "      <td>21.0</td>\n",
       "      <td>158.6</td>\n",
       "      <td>946.0</td>\n",
       "      <td>14.3</td>\n",
       "      <td>6.8</td>\n",
       "      <td>2.2</td>\n",
       "      <td>NaN</td>\n",
       "      <td>Bento Gonçalves</td>\n",
       "    </tr>\n",
       "    <tr>\n",
       "      <th>...</th>\n",
       "      <td>...</td>\n",
       "      <td>...</td>\n",
       "      <td>...</td>\n",
       "      <td>...</td>\n",
       "      <td>...</td>\n",
       "      <td>...</td>\n",
       "      <td>...</td>\n",
       "      <td>...</td>\n",
       "      <td>...</td>\n",
       "    </tr>\n",
       "    <tr>\n",
       "      <th>535</th>\n",
       "      <td>2024-08-31</td>\n",
       "      <td>12.0</td>\n",
       "      <td>88.2</td>\n",
       "      <td>909.0</td>\n",
       "      <td>12.8</td>\n",
       "      <td>10.3</td>\n",
       "      <td>3.7</td>\n",
       "      <td>NaN</td>\n",
       "      <td>Vacaria</td>\n",
       "    </tr>\n",
       "    <tr>\n",
       "      <th>536</th>\n",
       "      <td>2024-09-30</td>\n",
       "      <td>12.0</td>\n",
       "      <td>128.0</td>\n",
       "      <td>906.6</td>\n",
       "      <td>16.2</td>\n",
       "      <td>13.5</td>\n",
       "      <td>4.1</td>\n",
       "      <td>NaN</td>\n",
       "      <td>Vacaria</td>\n",
       "    </tr>\n",
       "    <tr>\n",
       "      <th>537</th>\n",
       "      <td>2024-10-31</td>\n",
       "      <td>13.0</td>\n",
       "      <td>195.0</td>\n",
       "      <td>906.1</td>\n",
       "      <td>16.5</td>\n",
       "      <td>11.2</td>\n",
       "      <td>3.9</td>\n",
       "      <td>NaN</td>\n",
       "      <td>Vacaria</td>\n",
       "    </tr>\n",
       "    <tr>\n",
       "      <th>538</th>\n",
       "      <td>2024-11-30</td>\n",
       "      <td>11.0</td>\n",
       "      <td>96.6</td>\n",
       "      <td>904.9</td>\n",
       "      <td>18.3</td>\n",
       "      <td>9.0</td>\n",
       "      <td>3.9</td>\n",
       "      <td>NaN</td>\n",
       "      <td>Vacaria</td>\n",
       "    </tr>\n",
       "    <tr>\n",
       "      <th>539</th>\n",
       "      <td>2024-12-31</td>\n",
       "      <td>20.0</td>\n",
       "      <td>187.0</td>\n",
       "      <td>903.5</td>\n",
       "      <td>17.9</td>\n",
       "      <td>9.9</td>\n",
       "      <td>3.7</td>\n",
       "      <td>NaN</td>\n",
       "      <td>Vacaria</td>\n",
       "    </tr>\n",
       "  </tbody>\n",
       "</table>\n",
       "<p>540 rows × 9 columns</p>\n",
       "</div>"
      ],
      "text/plain": [
       "    Data Medicao  NUMERO DE DIAS COM PRECIP. PLUV, MENSAL (AUT)(nÃºmero)  \\\n",
       "0     2010-01-31                                               18.0        \n",
       "1     2010-02-28                                               14.0        \n",
       "2     2010-03-31                                               19.0        \n",
       "3     2010-04-30                                               14.0        \n",
       "4     2010-05-31                                               21.0        \n",
       "..           ...                                                ...        \n",
       "535   2024-08-31                                               12.0        \n",
       "536   2024-09-30                                               12.0        \n",
       "537   2024-10-31                                               13.0        \n",
       "538   2024-11-30                                               11.0        \n",
       "539   2024-12-31                                               20.0        \n",
       "\n",
       "     PRECIPITACAO TOTAL, MENSAL (AUT)(mm)  \\\n",
       "0                                   278.4   \n",
       "1                                   161.4   \n",
       "2                                    58.4   \n",
       "3                                   136.4   \n",
       "4                                   158.6   \n",
       "..                                    ...   \n",
       "535                                  88.2   \n",
       "536                                 128.0   \n",
       "537                                 195.0   \n",
       "538                                  96.6   \n",
       "539                                 187.0   \n",
       "\n",
       "     PRESSAO ATMOSFERICA, MEDIA MENSAL (AUT)(mB)  \\\n",
       "0                                          941.5   \n",
       "1                                          942.1   \n",
       "2                                          942.6   \n",
       "3                                          946.2   \n",
       "4                                          946.0   \n",
       "..                                           ...   \n",
       "535                                        909.0   \n",
       "536                                        906.6   \n",
       "537                                        906.1   \n",
       "538                                        904.9   \n",
       "539                                        903.5   \n",
       "\n",
       "     TEMPERATURA MEDIA, MENSAL (AUT)(Â°C)  \\\n",
       "0                                    21.9   \n",
       "1                                    23.0   \n",
       "2                                    20.7   \n",
       "3                                    17.6   \n",
       "4                                    14.3   \n",
       "..                                    ...   \n",
       "535                                  12.8   \n",
       "536                                  16.2   \n",
       "537                                  16.5   \n",
       "538                                  18.3   \n",
       "539                                  17.9   \n",
       "\n",
       "     VENTO, VELOCIDADE MAXIMA MENSAL (AUT)(m/s)  \\\n",
       "0                                           7.0   \n",
       "1                                           9.7   \n",
       "2                                           7.0   \n",
       "3                                           8.5   \n",
       "4                                           6.8   \n",
       "..                                          ...   \n",
       "535                                        10.3   \n",
       "536                                        13.5   \n",
       "537                                        11.2   \n",
       "538                                         9.0   \n",
       "539                                         9.9   \n",
       "\n",
       "     VENTO, VELOCIDADE MEDIA MENSAL (AUT)(m/s)  Unnamed: 7          Estacao  \n",
       "0                                          2.5         NaN  Bento Gonçalves  \n",
       "1                                          2.8         NaN  Bento Gonçalves  \n",
       "2                                          2.2         NaN  Bento Gonçalves  \n",
       "3                                          2.4         NaN  Bento Gonçalves  \n",
       "4                                          2.2         NaN  Bento Gonçalves  \n",
       "..                                         ...         ...              ...  \n",
       "535                                        3.7         NaN          Vacaria  \n",
       "536                                        4.1         NaN          Vacaria  \n",
       "537                                        3.9         NaN          Vacaria  \n",
       "538                                        3.9         NaN          Vacaria  \n",
       "539                                        3.7         NaN          Vacaria  \n",
       "\n",
       "[540 rows x 9 columns]"
      ]
     },
     "execution_count": 79,
     "metadata": {},
     "output_type": "execute_result"
    }
   ],
   "source": [
    "#Depois de muita luta, escolhi quais vao ser as estações ideais para usar (documentado no docs)! São elas: \n",
    "#Bento Gonçalves (A840) (principal!), Santana do Livramento (A804) e Vacaria (A880)\n",
    "\n",
    "#ler os dados:\n",
    "\n",
    "bento = pd.read_csv('BentoGoncalves.csv', sep=\";\", skiprows=10, encoding=\"latin1\", decimal=\",\")\n",
    "#livramento = pd.read_csv('SantanaDoLivramento.csv', sep=\";\", skiprows=10, encoding=\"latin1\", decimal=\",\")\n",
    "bage = pd.read_csv('Bage.csv', sep=\";\", skiprows=10, encoding=\"latin1\", decimal=\",\")\n",
    "vacaria = pd.read_csv('Vacaria.csv', sep=\";\", skiprows=10, encoding=\"latin1\", decimal=\",\")\n",
    "\n",
    "\n",
    "\n",
    "#adicionando coluna com nome da estação\n",
    "bento[\"Estacao\"] = \"Bento Gonçalves\"\n",
    "#livramento[\"Estacao\"] = \"Santana do Livramento\"\n",
    "bage[\"Estacao\"] = \"Bage\"\n",
    "vacaria[\"Estacao\"] = \"Vacaria\"\n",
    "\n",
    "#juntando em um único dataframe\n",
    "clima = pd.concat([bento, bage, vacaria], ignore_index=True)\n",
    "\n",
    "clima\n",
    "#tem vários buracos nos dados......... :/ \n",
    "#Tenho a opção de tentar procurar outras estações pra verse elas tão completas, mas no momento tô com preguiça \n",
    "#acho que vou ver se preencho os buracos com as médias por enquanto pra ver se fica OK, mas isso pode enviesar os dados... tanto pra baixo quanto pra cima\n",
    "\n",
    "#pesando os prós e contras das rotas:\n",
    "### Faltam poucos meses -- (≤ 15–20 % do total entre 2010-2024, sem grandes “buracos” consecutivos na vindima — jan-mar) -> vindima é a colheita das uvas (período mais relevante pra nós talvez)\n",
    "### se sim, manter as estações e imputar os dados\n",
    "\n",
    "### Faltam muitos meses ou há lacunas longas em 2 + anos críticos (tem que ver quais seriam esses)\n",
    "### se sim, é melhor trocar a estação com maior falta (por ex usar a estação Canela se Bento tivesse buracos demais) E imputar lacunas pequenas nas demais\n",
    "\n",
    "#então tenho que verificar a % de dados faltantes por estação.. Vamos lá!\n"
   ]
  },
  {
   "cell_type": "code",
   "execution_count": 94,
   "id": "0b3d4591",
   "metadata": {},
   "outputs": [
    {
     "data": {
      "application/vnd.microsoft.datawrangler.viewer.v0+json": {
       "columns": [
        {
         "name": "Data",
         "rawType": "datetime64[ns]",
         "type": "datetime"
        },
        {
         "name": "DiasChuva",
         "rawType": "float64",
         "type": "float"
        },
        {
         "name": "PrecipTotal",
         "rawType": "float64",
         "type": "float"
        },
        {
         "name": "TempMedia",
         "rawType": "float64",
         "type": "float"
        },
        {
         "name": "Estacao",
         "rawType": "object",
         "type": "string"
        }
       ],
       "conversionMethod": "pd.DataFrame",
       "ref": "62d4a3d1-ab97-48b9-8c6d-3000dca4617f",
       "rows": [
        [
         "2010-01-31 00:00:00",
         "18.0",
         "278.4",
         "21.9",
         "Bento Gonçalves"
        ],
        [
         "2010-02-28 00:00:00",
         "14.0",
         "161.4",
         "23.0",
         "Bento Gonçalves"
        ],
        [
         "2010-03-31 00:00:00",
         "19.0",
         "58.4",
         "20.7",
         "Bento Gonçalves"
        ],
        [
         "2010-04-30 00:00:00",
         "14.0",
         "136.4",
         "17.6",
         "Bento Gonçalves"
        ],
        [
         "2010-05-31 00:00:00",
         "21.0",
         "158.6",
         "14.3",
         "Bento Gonçalves"
        ],
        [
         "2010-06-30 00:00:00",
         "12.0",
         "128.2",
         "13.1",
         "Bento Gonçalves"
        ],
        [
         "2010-07-31 00:00:00",
         "15.0",
         "205.6",
         "13.0",
         "Bento Gonçalves"
        ],
        [
         "2010-08-31 00:00:00",
         "9.0",
         "50.6",
         "13.3",
         "Bento Gonçalves"
        ],
        [
         "2010-09-30 00:00:00",
         "13.0",
         "225.4",
         "15.5",
         "Bento Gonçalves"
        ],
        [
         "2010-10-31 00:00:00",
         "11.0",
         "50.8",
         "16.0",
         "Bento Gonçalves"
        ],
        [
         "2010-11-30 00:00:00",
         "12.0",
         "88.4",
         "18.4",
         "Bento Gonçalves"
        ],
        [
         "2010-12-31 00:00:00",
         "11.0",
         "89.6",
         "20.9",
         "Bento Gonçalves"
        ],
        [
         "2011-01-31 00:00:00",
         "20.0",
         "164.8",
         "22.8",
         "Bento Gonçalves"
        ],
        [
         "2011-02-28 00:00:00",
         "22.0",
         "221.6",
         "21.6",
         "Bento Gonçalves"
        ],
        [
         "2011-03-31 00:00:00",
         "12.0",
         "264.6",
         "20.0",
         "Bento Gonçalves"
        ],
        [
         "2011-04-30 00:00:00",
         "16.0",
         "147.8",
         "17.8",
         "Bento Gonçalves"
        ],
        [
         "2011-05-31 00:00:00",
         "11.0",
         "70.0",
         "14.3",
         "Bento Gonçalves"
        ],
        [
         "2011-06-30 00:00:00",
         "16.0",
         "178.6",
         "11.6",
         "Bento Gonçalves"
        ],
        [
         "2011-07-31 00:00:00",
         "17.0",
         "324.2",
         "12.1",
         "Bento Gonçalves"
        ],
        [
         "2011-08-31 00:00:00",
         "16.0",
         null,
         "13.3",
         "Bento Gonçalves"
        ],
        [
         "2011-09-30 00:00:00",
         "9.0",
         "57.8",
         "15.0",
         "Bento Gonçalves"
        ],
        [
         "2011-10-31 00:00:00",
         "12.0",
         "100.2",
         "17.5",
         "Bento Gonçalves"
        ],
        [
         "2011-11-30 00:00:00",
         "6.0",
         "17.4",
         "19.4",
         "Bento Gonçalves"
        ],
        [
         "2011-12-31 00:00:00",
         "14.0",
         "69.0",
         "20.0",
         "Bento Gonçalves"
        ],
        [
         "2012-01-31 00:00:00",
         "9.0",
         "64.4",
         "21.7",
         "Bento Gonçalves"
        ],
        [
         "2012-02-29 00:00:00",
         "13.0",
         "173.2",
         "23.3",
         "Bento Gonçalves"
        ],
        [
         "2012-03-31 00:00:00",
         "7.0",
         "85.6",
         "20.5",
         "Bento Gonçalves"
        ],
        [
         "2012-04-30 00:00:00",
         "11.0",
         "74.2",
         "17.3",
         "Bento Gonçalves"
        ],
        [
         "2012-05-31 00:00:00",
         "3.0",
         "25.2",
         "16.2",
         "Bento Gonçalves"
        ],
        [
         "2012-06-30 00:00:00",
         "10.0",
         "53.6",
         "13.1",
         "Bento Gonçalves"
        ],
        [
         "2012-07-31 00:00:00",
         "11.0",
         "181.8",
         "11.7",
         "Bento Gonçalves"
        ],
        [
         "2012-08-31 00:00:00",
         "8.0",
         "66.4",
         "17.3",
         "Bento Gonçalves"
        ],
        [
         "2012-09-30 00:00:00",
         "7.0",
         "220.0",
         "16.0",
         "Bento Gonçalves"
        ],
        [
         "2012-10-31 00:00:00",
         "15.0",
         "155.4",
         "18.8",
         "Bento Gonçalves"
        ],
        [
         "2012-11-30 00:00:00",
         "7.0",
         "26.0",
         "20.5",
         "Bento Gonçalves"
        ],
        [
         "2012-12-31 00:00:00",
         "13.0",
         "217.2",
         "22.9",
         "Bento Gonçalves"
        ],
        [
         "2013-01-31 00:00:00",
         "9.0",
         "104.4",
         "20.9",
         "Bento Gonçalves"
        ],
        [
         "2013-02-28 00:00:00",
         "15.0",
         "105.8",
         "21.2",
         "Bento Gonçalves"
        ],
        [
         "2013-03-31 00:00:00",
         "15.0",
         "186.4",
         "18.4",
         "Bento Gonçalves"
        ],
        [
         "2013-04-30 00:00:00",
         "8.0",
         "106.8",
         "17.7",
         "Bento Gonçalves"
        ],
        [
         "2013-05-31 00:00:00",
         "15.0",
         "127.6",
         "14.7",
         "Bento Gonçalves"
        ],
        [
         "2013-06-30 00:00:00",
         "25.0",
         "141.6",
         "13.1",
         "Bento Gonçalves"
        ],
        [
         "2013-07-31 00:00:00",
         "11.0",
         "96.4",
         "12.1",
         "Bento Gonçalves"
        ],
        [
         "2013-08-31 00:00:00",
         "16.0",
         "303.8",
         "12.0",
         "Bento Gonçalves"
        ],
        [
         "2013-09-30 00:00:00",
         "15.0",
         "182.8",
         "15.5",
         "Bento Gonçalves"
        ],
        [
         "2013-10-31 00:00:00",
         "13.0",
         "121.6",
         "16.9",
         "Bento Gonçalves"
        ],
        [
         "2013-11-30 00:00:00",
         "10.0",
         "242.8",
         "20.0",
         "Bento Gonçalves"
        ],
        [
         "2013-12-31 00:00:00",
         "10.0",
         "133.6",
         "22.2",
         "Bento Gonçalves"
        ],
        [
         "2014-01-31 00:00:00",
         "13.0",
         "78.2",
         "23.5",
         "Bento Gonçalves"
        ],
        [
         "2014-02-28 00:00:00",
         "15.0",
         "206.2",
         "23.0",
         "Bento Gonçalves"
        ]
       ],
       "shape": {
        "columns": 4,
        "rows": 540
       }
      },
      "text/html": [
       "<div>\n",
       "<style scoped>\n",
       "    .dataframe tbody tr th:only-of-type {\n",
       "        vertical-align: middle;\n",
       "    }\n",
       "\n",
       "    .dataframe tbody tr th {\n",
       "        vertical-align: top;\n",
       "    }\n",
       "\n",
       "    .dataframe thead th {\n",
       "        text-align: right;\n",
       "    }\n",
       "</style>\n",
       "<table border=\"1\" class=\"dataframe\">\n",
       "  <thead>\n",
       "    <tr style=\"text-align: right;\">\n",
       "      <th></th>\n",
       "      <th>DiasChuva</th>\n",
       "      <th>PrecipTotal</th>\n",
       "      <th>TempMedia</th>\n",
       "      <th>Estacao</th>\n",
       "    </tr>\n",
       "    <tr>\n",
       "      <th>Data</th>\n",
       "      <th></th>\n",
       "      <th></th>\n",
       "      <th></th>\n",
       "      <th></th>\n",
       "    </tr>\n",
       "  </thead>\n",
       "  <tbody>\n",
       "    <tr>\n",
       "      <th>2010-01-31</th>\n",
       "      <td>18.0</td>\n",
       "      <td>278.4</td>\n",
       "      <td>21.9</td>\n",
       "      <td>Bento Gonçalves</td>\n",
       "    </tr>\n",
       "    <tr>\n",
       "      <th>2010-02-28</th>\n",
       "      <td>14.0</td>\n",
       "      <td>161.4</td>\n",
       "      <td>23.0</td>\n",
       "      <td>Bento Gonçalves</td>\n",
       "    </tr>\n",
       "    <tr>\n",
       "      <th>2010-03-31</th>\n",
       "      <td>19.0</td>\n",
       "      <td>58.4</td>\n",
       "      <td>20.7</td>\n",
       "      <td>Bento Gonçalves</td>\n",
       "    </tr>\n",
       "    <tr>\n",
       "      <th>2010-04-30</th>\n",
       "      <td>14.0</td>\n",
       "      <td>136.4</td>\n",
       "      <td>17.6</td>\n",
       "      <td>Bento Gonçalves</td>\n",
       "    </tr>\n",
       "    <tr>\n",
       "      <th>2010-05-31</th>\n",
       "      <td>21.0</td>\n",
       "      <td>158.6</td>\n",
       "      <td>14.3</td>\n",
       "      <td>Bento Gonçalves</td>\n",
       "    </tr>\n",
       "    <tr>\n",
       "      <th>...</th>\n",
       "      <td>...</td>\n",
       "      <td>...</td>\n",
       "      <td>...</td>\n",
       "      <td>...</td>\n",
       "    </tr>\n",
       "    <tr>\n",
       "      <th>2024-08-31</th>\n",
       "      <td>12.0</td>\n",
       "      <td>88.2</td>\n",
       "      <td>12.8</td>\n",
       "      <td>Vacaria</td>\n",
       "    </tr>\n",
       "    <tr>\n",
       "      <th>2024-09-30</th>\n",
       "      <td>12.0</td>\n",
       "      <td>128.0</td>\n",
       "      <td>16.2</td>\n",
       "      <td>Vacaria</td>\n",
       "    </tr>\n",
       "    <tr>\n",
       "      <th>2024-10-31</th>\n",
       "      <td>13.0</td>\n",
       "      <td>195.0</td>\n",
       "      <td>16.5</td>\n",
       "      <td>Vacaria</td>\n",
       "    </tr>\n",
       "    <tr>\n",
       "      <th>2024-11-30</th>\n",
       "      <td>11.0</td>\n",
       "      <td>96.6</td>\n",
       "      <td>18.3</td>\n",
       "      <td>Vacaria</td>\n",
       "    </tr>\n",
       "    <tr>\n",
       "      <th>2024-12-31</th>\n",
       "      <td>20.0</td>\n",
       "      <td>187.0</td>\n",
       "      <td>17.9</td>\n",
       "      <td>Vacaria</td>\n",
       "    </tr>\n",
       "  </tbody>\n",
       "</table>\n",
       "<p>540 rows × 4 columns</p>\n",
       "</div>"
      ],
      "text/plain": [
       "            DiasChuva  PrecipTotal  TempMedia          Estacao\n",
       "Data                                                          \n",
       "2010-01-31       18.0        278.4       21.9  Bento Gonçalves\n",
       "2010-02-28       14.0        161.4       23.0  Bento Gonçalves\n",
       "2010-03-31       19.0         58.4       20.7  Bento Gonçalves\n",
       "2010-04-30       14.0        136.4       17.6  Bento Gonçalves\n",
       "2010-05-31       21.0        158.6       14.3  Bento Gonçalves\n",
       "...               ...          ...        ...              ...\n",
       "2024-08-31       12.0         88.2       12.8          Vacaria\n",
       "2024-09-30       12.0        128.0       16.2          Vacaria\n",
       "2024-10-31       13.0        195.0       16.5          Vacaria\n",
       "2024-11-30       11.0         96.6       18.3          Vacaria\n",
       "2024-12-31       20.0        187.0       17.9          Vacaria\n",
       "\n",
       "[540 rows x 4 columns]"
      ]
     },
     "execution_count": 94,
     "metadata": {},
     "output_type": "execute_result"
    }
   ],
   "source": [
    "#Para que a função falta_pct seja útil, preciso selecionar quais colunas vão ser usadas nas análises. Então, vamos remover as que não são tão relevantes!\n",
    "#Vou manter: frequência de chuva(num. de dias c precip.), precipitação total e temperatura média! A coluna estação e data vão ficar também.\n",
    "\n",
    "cols_manter = {\n",
    "    'Data Medicao' : 'Data',   \n",
    "    'NUMERO DE DIAS COM PRECIP. PLUV, MENSAL (AUT)(nÃºmero)': 'DiasChuva',\n",
    "    'PRECIPITACAO TOTAL, MENSAL (AUT)(mm)': 'PrecipTotal',\n",
    "    'TEMPERATURA MEDIA, MENSAL (AUT)(Â°C)': 'TempMedia',\n",
    "    'Estacao': 'Estacao'          \n",
    "}\n",
    "\n",
    "#aproveitar e já renomear elas tbm\n",
    "\n",
    "clima_sel = clima[list(cols_manter.keys())].rename(columns=cols_manter)\n",
    "\n",
    "#converte a data para datetime e define como índice\n",
    "clima_sel['Data'] = pd.to_datetime(clima_sel['Data'])  \n",
    "clima_sel = clima_sel.set_index('Data')\n",
    "\n",
    "clima_sel\n",
    "\n",
    "\n",
    "#OK!\n"
   ]
  },
  {
   "cell_type": "code",
   "execution_count": null,
   "id": "10c791c7",
   "metadata": {},
   "outputs": [
    {
     "name": "stdout",
     "output_type": "stream",
     "text": [
      "                  %≥1 NaN  %Todos NaN\n",
      "Estacao                              \n",
      "Bage             7.777778    1.666667\n",
      "Bento Gonçalves  7.222222    1.111111\n",
      "Vacaria          8.333333    3.333333\n"
     ]
    }
   ],
   "source": [
    "#criando um índice mensal completo\n",
    "\n",
    "idx_full = pd.date_range('2010-01-01', '2024-12-31', freq='ME')\n",
    "\n",
    "\n",
    "#definindo quais colunas climáticas contam\n",
    "clima_cols = ['TempMedia', 'PrecipTotal', 'DiasChuva']   #pra evitar que a coluna estacao entre na contagem de NaNs e atrapalhe\n",
    "\n",
    "\n",
    "#função pra contar os NaNs e calcular a porcentagem de dados faltantes\n",
    "def falta_pct(df_est):\n",
    "    df_alinh = df_est.reindex(idx_full)\n",
    "\n",
    "    sub = df_alinh[clima_cols]          # só variáveis de interesse\n",
    "\n",
    "    any_nan  = sub.isna().any(axis=1).sum()\n",
    "    all_nan  = sub.isna().all(axis=1).sum()\n",
    "    total    = len(idx_full)\n",
    "\n",
    "    return pd.Series({\n",
    "        '%≥1 NaN':   any_nan  / total * 100,\n",
    "        '%Todos NaN': all_nan / total * 100\n",
    "    })\n",
    "\n",
    "\n",
    "faltas = (clima_sel.groupby('Estacao').apply(falta_pct, include_groups=False))\n",
    "print(faltas)\n"
   ]
  },
  {
   "cell_type": "code",
   "execution_count": null,
   "id": "be79971d",
   "metadata": {},
   "outputs": [],
   "source": [
    "#Com esse resultado, temos que bento e vacaria estão aceitáveis, mas livramento tem muitos dados faltando. Então, vou trocar ela por Bagé.\n",
    "#Como eu só substitui a estação lá em cima no código, pra quem tá vendo pela primeira vez vai parecer como se eu nunca nem tivesse usado Santana do Livramento hehe\n",
    "#mas eu usei e ela tava uma merda!"
   ]
  },
  {
   "cell_type": "code",
   "execution_count": null,
   "id": "8f547720",
   "metadata": {},
   "outputs": [],
   "source": []
  }
 ],
 "metadata": {
  "kernelspec": {
   "display_name": "Python 3",
   "language": "python",
   "name": "python3"
  },
  "language_info": {
   "codemirror_mode": {
    "name": "ipython",
    "version": 3
   },
   "file_extension": ".py",
   "mimetype": "text/x-python",
   "name": "python",
   "nbconvert_exporter": "python",
   "pygments_lexer": "ipython3",
   "version": "3.13.2"
  }
 },
 "nbformat": 4,
 "nbformat_minor": 5
}
