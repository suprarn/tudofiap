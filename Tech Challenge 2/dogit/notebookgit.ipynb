{
 "cells": [
  {
   "cell_type": "markdown",
   "id": "1928e801",
   "metadata": {},
   "source": [
    "#### Tech Challenge - Fase 2 - Machine Learning and Time Series"
   ]
  },
  {
   "cell_type": "markdown",
   "id": "688ff897",
   "metadata": {},
   "source": [
    "#### O problema \n",
    "\n",
    "Desenvolver um modelo preditivo capaz de prever se o índice IBOVESPA vai fechar em alta ou baixa no dia seguinte, com base em dados históricos do próprio índice"
   ]
  },
  {
   "cell_type": "markdown",
   "id": "36873844",
   "metadata": {},
   "source": [
    "#### O que é o índice Ibovespa \n",
    "\n",
    "É o principal indicador de desempenho das ações negociadas na B3 e reúne as empresas mais importantes do mercado de capitais brasileiro. Foi criado em 1968 e, ao longo desses 50 anos, consolidou-se como referência para investidores ao redor do mundo.\n",
    "\n",
    "\n",
    "https://pt.wikipedia.org/wiki/Ibovespa\n",
    "\n",
    "https://www.b3.com.br/pt_br/market-data-e-indices/indices/indices-amplos/ibovespa.htm"
   ]
  },
  {
   "cell_type": "markdown",
   "id": "60ab9845",
   "metadata": {},
   "source": [
    "#### Fonte de dados \n",
    "\n",
    "Dados históricos do índice IBOVESPA disponíveis publicamente no link https://br.investing.com/indices/bovespa-historical-data e importando para o seguinte repositorio do Github https://github.com/RicardViana/fiap-Machine-Learning-and-Time-Series/blob/main/Dados%20Hist%C3%B3ricos%20Ibovespa.csv"
   ]
  },
  {
   "cell_type": "markdown",
   "id": "1005da58",
   "metadata": {},
   "source": [
    "#### Dicionário de dados\n",
    "\n",
    "\n",
    "| Nome da Coluna | Descrição | Tipo de Dado |\n",
    "| :--- | :--- | :--- |\n",
    "| `Data` | A data da observação, no formato \"DD/MM/AAAA\". | Texto (object) |\n",
    "| `Ultimo` | O preço de fechamento do Ibovespa no dia. | Numérico (float64) |\n",
    "| `Abertura` | O preço de abertura do Ibovespa no dia. | Numérico (float64) |\n",
    "| `Maxima` | O preço máximo atingido pelo Ibovespa no dia. | Numérico (float64) |\n",
    "| `Minima` | O preço mínimo atingido pelo Ibovespa no dia. | Numérico (float64) |\n",
    "| `Volume` | O volume de negociações do dia. Os valores são representados em texto com sufixos (ex: \"B\" para bilhões, \"M\" para milhões). | Texto (object) |\n",
    "| `Variacao` | A variação percentual do Ibovespa no dia. | Texto (object) |"
   ]
  },
  {
   "attachments": {
    "image.png": {
     "image/png": "[encoded data removed]"
    }
   },
   "cell_type": "markdown",
   "id": "2eab2110",
   "metadata": {},
   "source": [
    "#### Objetivo\n",
    "\n",
    "Criar um modelo que preveja se o fechamento do IBOVESPA do dia seguinte será maior ou menor que o do dia atual, ou seja:\n",
    "\n",
    "![image.png](attachment:image.png)\n",
    "\n",
    "Onde deve prever a tendência (↑ ou ↓) com acuracidade mínima de 75% em um conjunto de teste, esse que contera o último mês (30 dias) de dados disponíveis"
   ]
  },
  {
   "cell_type": "markdown",
   "id": "783c919e",
   "metadata": {},
   "source": [
    "#### Desenvolvimento"
   ]
  },
  {
   "cell_type": "markdown",
   "id": "69619e2c",
   "metadata": {},
   "source": [
    "##### Importação de bibliotecas e pacotes"
   ]
  },
  {
   "cell_type": "code",
   "execution_count": 967,
   "id": "9908a652",
   "metadata": {},
   "outputs": [],
   "source": [
    "# Importar biblioteca completa\n",
    "import pandas as pd \n",
    "import numpy as np\n",
    "import matplotlib.pyplot as plt\n",
    "import seaborn as sns\n",
    "import yfinance as yf\n",
    "import calendar\n",
    "import pandas_ta as ta\n",
    "\n",
    "# Importar função especifica de um módulo\n",
    "from statsmodels.tsa.seasonal import seasonal_decompose # --> Gerar a decomposição dos dados\n",
    "from sklearn.preprocessing import StandardScaler # --> Normalizar os dados\n",
    "from datetime import date\n",
    "\n",
    "# Importar função especifica de um módulo --> Modelos de ML\n",
    "from sklearn.ensemble import RandomForestClassifier # --> Modelo de ML Random Forest\n",
    "from sklearn.linear_model import LogisticRegression # --> Modelo de ML Regressão Logistica \n",
    "from catboost import CatBoostClassifier # --> Modelo de ML CatBoost\n",
    "from lightgbm import LGBMClassifier # --> Modelo de ML LightGBM\n",
    "from xgboost import XGBClassifier # --> Modelo de ML XGBoost\n",
    "from sklearn.svm import SVC # --> Modelo de ML SVC\n",
    "\n",
    "# Importar função especifica de um módulo --> Metricas para analisar o modelo  \n",
    "from sklearn.metrics import classification_report, confusion_matrix, roc_curve, roc_auc_score\n",
    "\n",
    "# Importar função especifica de um módulo --> Melhores hiperparametros \n",
    "from sklearn.model_selection import GridSearchCV, RandomizedSearchCV, TimeSeriesSplit, cross_val_score\n",
    "from sklearn.pipeline import Pipeline\n",
    "\n",
    "# Outros import\n",
    "import ipywidgets as widgets\n",
    "from IPython.display import display"
   ]
  },
  {
   "cell_type": "markdown",
   "id": "08ff9e7c",
   "metadata": {},
   "source": [
    "##### Criação de funções (DEF)"
   ]
  },
  {
   "cell_type": "code",
   "execution_count": 968,
   "id": "45d4adde",
   "metadata": {},
   "outputs": [],
   "source": [
    "# Função para gerar a matriz de confusão e a curva roc\n",
    "\n",
    "def analisar_modelo_selecionado(nome_modelo, modelos_avaliados, y_test, x_test_scaled):\n",
    "    \n",
    "    # Salvar o modelo e a previsão em suas respectivas variaveis\n",
    "    modelo_selecionado = modelos_avaliados[nome_modelo][\"modelo\"]\n",
    "    previsoes_selecionadas = modelos_avaliados[nome_modelo][\"previsoes\"]\n",
    "\n",
    "    print(f\"Análise Detalhada para o Modelo: {nome_modelo}\")\n",
    "    \n",
    "    # Gerar o gráfico de Matriz de Confusão\n",
    "    cm = confusion_matrix(y_test, previsoes_selecionadas)\n",
    "    plt.figure(figsize=(14, 6))\n",
    "    plt.subplot(1, 2, 1)\n",
    "    \n",
    "    sns.heatmap(cm, annot=True, fmt='d', cmap='Blues', \n",
    "                xticklabels=['Previsto Negativo', 'Previsto Positivo'], \n",
    "                yticklabels=['Real Negativo', 'Real Positivo'])\n",
    "    plt.title(f'Matriz de Confusão - {nome_modelo}', fontsize=14)\n",
    "    plt.ylabel('Valor Real')\n",
    "    plt.xlabel('Valor Previsto')\n",
    "\n",
    "    # Gerar o gráfico de Curva ROC e AUC\n",
    "    # IF por com do modelo SVM pois ele não tem o predict_proba\n",
    "\n",
    "    if hasattr(modelo_selecionado, \"predict_proba\"):\n",
    "        y_pred_proba = modelo_selecionado.predict_proba(x_test_scaled)[:, 1]\n",
    "        auc = roc_auc_score(y_test, y_pred_proba)\n",
    "        fpr, tpr, _ = roc_curve(y_test, y_pred_proba)\n",
    "\n",
    "        plt.subplot(1, 2, 2) # Cria um subplot na posição 2\n",
    "        plt.plot(fpr, tpr, label=f'Curva ROC (AUC = {auc:.4f})')\n",
    "        plt.plot([0, 1], [0, 1], color='red', linestyle='--', label='Classificador Aleatório')\n",
    "        plt.xlabel('Taxa de Falsos Positivos (FPR)')\n",
    "        plt.ylabel('Taxa de Verdadeiros Positivos (TPR)')\n",
    "        plt.title(f'Curva ROC - {nome_modelo}', fontsize=14)\n",
    "        plt.legend()\n",
    "        plt.grid()\n",
    "\n",
    "    else:\n",
    "        plt.subplot(1, 2, 2)\n",
    "        plt.text(0.5, 0.5, 'Curva ROC não disponível\\npara este modelo (ex: SVM sem probabilidade).', \n",
    "                 ha='center', va='center', fontsize=12)\n",
    "        plt.title(f'Curva ROC - {nome_modelo}', fontsize=14)\n",
    "        plt.gca().set_axis_off()\n",
    "\n",
    "    plt.tight_layout()\n",
    "    plt.show()"
   ]
  },
  {
   "cell_type": "code",
   "execution_count": 969,
   "id": "85ad2886",
   "metadata": {},
   "outputs": [],
   "source": [
    "# Função para analisar e plotar a importância das features do modelo selecionado\n",
    "\n",
    "def analisar_importancia_features(nome_modelo, modelos_avaliados, x_train):\n",
    "    \"\"\"\n",
    "    Esta função extrai e plota a importância das features para um modelo de machine learning.\n",
    "\n",
    "    Parâmetros:\n",
    "    - nome_modelo (str): O nome do modelo a ser analisado (ex: \"XGBoost\").\n",
    "    - modelos_avaliados (dict): Dicionário contendo os modelos treinados.\n",
    "    - x_train (pd.DataFrame): DataFrame com as features de treino para obter os nomes das colunas.\n",
    "    \"\"\"\n",
    "    \n",
    "    # Salva o modelo selecionado em uma variável\n",
    "    modelo_selecionado = modelos_avaliados[nome_modelo][\"modelo\"]\n",
    "\n",
    "    print(f\"Análise de Importância das Features para o Modelo: {nome_modelo}\")\n",
    "    \n",
    "    importances = None\n",
    "    \n",
    "    # Verifica se o modelo tem o atributo 'feature_importances_' (comum em árvores de decisão)\n",
    "    if hasattr(modelo_selecionado, 'feature_importances_'):\n",
    "        importances = modelo_selecionado.feature_importances_\n",
    "        \n",
    "    # Verifica se o modelo tem o atributo 'coef_' (comum em modelos lineares)\n",
    "    elif hasattr(modelo_selecionado, 'coef_'):\n",
    "        # Usamos o valor absoluto dos coeficientes como medida de importância\n",
    "        importances = np.abs(modelo_selecionado.coef_[0])\n",
    "        \n",
    "    # Se o modelo não tiver um atributo de importância direta, exibe uma mensagem\n",
    "    else:\n",
    "        plt.figure(figsize=(10, 5))\n",
    "        plt.text(0.5, 0.5, f'A importância das features não está diretamente disponível\\\\npara o modelo {nome_modelo}.', \n",
    "                 ha='center', va='center', fontsize=12, color='red')\n",
    "        plt.title(f'Importância das Features - {nome_modelo}', fontsize=16)\n",
    "        plt.gca().set_axis_off()\n",
    "        plt.show()\n",
    "        return\n",
    "\n",
    "    # Cria um DataFrame para facilitar a ordenação e a plotagem\n",
    "    feature_importance_df = pd.DataFrame({\n",
    "        'Feature': x_train.columns,\n",
    "        'Importance': importances\n",
    "    }).sort_values(by='Importance', ascending=False)\n",
    "\n",
    "    # Gera o gráfico de barras\n",
    "    plt.figure(figsize=(10, 5))\n",
    "    sns.barplot(x='Importance', y='Feature', data=feature_importance_df, palette='viridis', hue='Feature', legend=False)\n",
    "    plt.title(f'Importância das Features - {nome_modelo}', fontsize=16)\n",
    "    plt.xlabel('Pontuação de Importância', fontsize=12)\n",
    "    plt.ylabel('Feature', fontsize=12)\n",
    "    plt.grid(axis='x', linestyle='--', alpha=0.7)\n",
    "    plt.tight_layout()\n",
    "    plt.show()\n",
    "\n"
   ]
  },
  {
   "cell_type": "markdown",
   "id": "80b08bfd",
   "metadata": {},
   "source": [
    "##### Análise Exploratória de Dados (EDA)"
   ]
  },
  {
   "cell_type": "code",
   "execution_count": 970,
   "id": "767cebda",
   "metadata": {},
   "outputs": [
    {
     "name": "stdout",
     "output_type": "stream",
     "text": [
      "Primeiros dados\n"
     ]
    },
    {
     "data": {
      "application/vnd.microsoft.datawrangler.viewer.v0+json": {
       "columns": [
        {
         "name": "Date",
         "rawType": "datetime64[ns]",
         "type": "datetime"
        },
        {
         "name": "Close",
         "rawType": "float64",
         "type": "float"
        },
        {
         "name": "High",
         "rawType": "float64",
         "type": "float"
        },
        {
         "name": "Low",
         "rawType": "float64",
         "type": "float"
        },
        {
         "name": "Open",
         "rawType": "float64",
         "type": "float"
        },
        {
         "name": "Volume",
         "rawType": "int64",
         "type": "integer"
        }
       ],
       "ref": "80924b71-9302-405d-8b0d-0766af67f9ee",
       "rows": [
        [
         "1993-04-27 00:00:00",
         "24.5",
         "25.399999618530273",
         "24.5",
         "24.799999237060547",
         "0"
        ],
        [
         "1993-04-28 00:00:00",
         "24.299999237060547",
         "24.600000381469727",
         "23.700000762939453",
         "24.5",
         "0"
        ],
        [
         "1993-04-29 00:00:00",
         "23.700000762939453",
         "24.799999237060547",
         "23.700000762939453",
         "24.299999237060547",
         "0"
        ],
        [
         "1993-04-30 00:00:00",
         "24.100000381469727",
         "24.200000762939453",
         "23.700000762939453",
         "23.700000762939453",
         "0"
        ],
        [
         "1993-05-03 00:00:00",
         "24.100000381469727",
         "24.399999618530273",
         "23.799999237060547",
         "24.100000381469727",
         "0"
        ]
       ],
       "shape": {
        "columns": 5,
        "rows": 5
       }
      },
      "text/html": [
       "<div>\n",
       "<style scoped>\n",
       "    .dataframe tbody tr th:only-of-type {\n",
       "        vertical-align: middle;\n",
       "    }\n",
       "\n",
       "    .dataframe tbody tr th {\n",
       "        vertical-align: top;\n",
       "    }\n",
       "\n",
       "    .dataframe thead th {\n",
       "        text-align: right;\n",
       "    }\n",
       "</style>\n",
       "<table border=\"1\" class=\"dataframe\">\n",
       "  <thead>\n",
       "    <tr style=\"text-align: right;\">\n",
       "      <th></th>\n",
       "      <th>Close</th>\n",
       "      <th>High</th>\n",
       "      <th>Low</th>\n",
       "      <th>Open</th>\n",
       "      <th>Volume</th>\n",
       "    </tr>\n",
       "    <tr>\n",
       "      <th>Date</th>\n",
       "      <th></th>\n",
       "      <th></th>\n",
       "      <th></th>\n",
       "      <th></th>\n",
       "      <th></th>\n",
       "    </tr>\n",
       "  </thead>\n",
       "  <tbody>\n",
       "    <tr>\n",
       "      <th>1993-04-27</th>\n",
       "      <td>24.500000</td>\n",
       "      <td>25.400000</td>\n",
       "      <td>24.500000</td>\n",
       "      <td>24.799999</td>\n",
       "      <td>0</td>\n",
       "    </tr>\n",
       "    <tr>\n",
       "      <th>1993-04-28</th>\n",
       "      <td>24.299999</td>\n",
       "      <td>24.600000</td>\n",
       "      <td>23.700001</td>\n",
       "      <td>24.500000</td>\n",
       "      <td>0</td>\n",
       "    </tr>\n",
       "    <tr>\n",
       "      <th>1993-04-29</th>\n",
       "      <td>23.700001</td>\n",
       "      <td>24.799999</td>\n",
       "      <td>23.700001</td>\n",
       "      <td>24.299999</td>\n",
       "      <td>0</td>\n",
       "    </tr>\n",
       "    <tr>\n",
       "      <th>1993-04-30</th>\n",
       "      <td>24.100000</td>\n",
       "      <td>24.200001</td>\n",
       "      <td>23.700001</td>\n",
       "      <td>23.700001</td>\n",
       "      <td>0</td>\n",
       "    </tr>\n",
       "    <tr>\n",
       "      <th>1993-05-03</th>\n",
       "      <td>24.100000</td>\n",
       "      <td>24.400000</td>\n",
       "      <td>23.799999</td>\n",
       "      <td>24.100000</td>\n",
       "      <td>0</td>\n",
       "    </tr>\n",
       "  </tbody>\n",
       "</table>\n",
       "</div>"
      ],
      "text/plain": [
       "                Close       High        Low       Open  Volume\n",
       "Date                                                          \n",
       "1993-04-27  24.500000  25.400000  24.500000  24.799999       0\n",
       "1993-04-28  24.299999  24.600000  23.700001  24.500000       0\n",
       "1993-04-29  23.700001  24.799999  23.700001  24.299999       0\n",
       "1993-04-30  24.100000  24.200001  23.700001  23.700001       0\n",
       "1993-05-03  24.100000  24.400000  23.799999  24.100000       0"
      ]
     },
     "metadata": {},
     "output_type": "display_data"
    },
    {
     "name": "stdout",
     "output_type": "stream",
     "text": [
      "\n",
      "Ultimos dados\n"
     ]
    },
    {
     "data": {
      "application/vnd.microsoft.datawrangler.viewer.v0+json": {
       "columns": [
        {
         "name": "Date",
         "rawType": "datetime64[ns]",
         "type": "datetime"
        },
        {
         "name": "Close",
         "rawType": "float64",
         "type": "float"
        },
        {
         "name": "High",
         "rawType": "float64",
         "type": "float"
        },
        {
         "name": "Low",
         "rawType": "float64",
         "type": "float"
        },
        {
         "name": "Open",
         "rawType": "float64",
         "type": "float"
        },
        {
         "name": "Volume",
         "rawType": "int64",
         "type": "integer"
        }
       ],
       "ref": "ca8e93a1-961c-42c0-83c3-b201b1488588",
       "rows": [
        [
         "2025-07-23 00:00:00",
         "135368.0",
         "135782.0",
         "133676.0",
         "134036.0",
         "6527600"
        ],
        [
         "2025-07-24 00:00:00",
         "133808.0",
         "135363.0",
         "133648.0",
         "135357.0",
         "5976800"
        ],
        [
         "2025-07-25 00:00:00",
         "133524.0",
         "134204.0",
         "133285.0",
         "133820.0",
         "5560900"
        ],
        [
         "2025-07-28 00:00:00",
         "132129.0",
         "133902.0",
         "131550.0",
         "133538.0",
         "6625600"
        ],
        [
         "2025-07-29 00:00:00",
         "132726.0",
         "133346.0",
         "132130.0",
         "132130.0",
         "6324800"
        ]
       ],
       "shape": {
        "columns": 5,
        "rows": 5
       }
      },
      "text/html": [
       "<div>\n",
       "<style scoped>\n",
       "    .dataframe tbody tr th:only-of-type {\n",
       "        vertical-align: middle;\n",
       "    }\n",
       "\n",
       "    .dataframe tbody tr th {\n",
       "        vertical-align: top;\n",
       "    }\n",
       "\n",
       "    .dataframe thead th {\n",
       "        text-align: right;\n",
       "    }\n",
       "</style>\n",
       "<table border=\"1\" class=\"dataframe\">\n",
       "  <thead>\n",
       "    <tr style=\"text-align: right;\">\n",
       "      <th></th>\n",
       "      <th>Close</th>\n",
       "      <th>High</th>\n",
       "      <th>Low</th>\n",
       "      <th>Open</th>\n",
       "      <th>Volume</th>\n",
       "    </tr>\n",
       "    <tr>\n",
       "      <th>Date</th>\n",
       "      <th></th>\n",
       "      <th></th>\n",
       "      <th></th>\n",
       "      <th></th>\n",
       "      <th></th>\n",
       "    </tr>\n",
       "  </thead>\n",
       "  <tbody>\n",
       "    <tr>\n",
       "      <th>2025-07-23</th>\n",
       "      <td>135368.0</td>\n",
       "      <td>135782.0</td>\n",
       "      <td>133676.0</td>\n",
       "      <td>134036.0</td>\n",
       "      <td>6527600</td>\n",
       "    </tr>\n",
       "    <tr>\n",
       "      <th>2025-07-24</th>\n",
       "      <td>133808.0</td>\n",
       "      <td>135363.0</td>\n",
       "      <td>133648.0</td>\n",
       "      <td>135357.0</td>\n",
       "      <td>5976800</td>\n",
       "    </tr>\n",
       "    <tr>\n",
       "      <th>2025-07-25</th>\n",
       "      <td>133524.0</td>\n",
       "      <td>134204.0</td>\n",
       "      <td>133285.0</td>\n",
       "      <td>133820.0</td>\n",
       "      <td>5560900</td>\n",
       "    </tr>\n",
       "    <tr>\n",
       "      <th>2025-07-28</th>\n",
       "      <td>132129.0</td>\n",
       "      <td>133902.0</td>\n",
       "      <td>131550.0</td>\n",
       "      <td>133538.0</td>\n",
       "      <td>6625600</td>\n",
       "    </tr>\n",
       "    <tr>\n",
       "      <th>2025-07-29</th>\n",
       "      <td>132726.0</td>\n",
       "      <td>133346.0</td>\n",
       "      <td>132130.0</td>\n",
       "      <td>132130.0</td>\n",
       "      <td>6324800</td>\n",
       "    </tr>\n",
       "  </tbody>\n",
       "</table>\n",
       "</div>"
      ],
      "text/plain": [
       "               Close      High       Low      Open   Volume\n",
       "Date                                                       \n",
       "2025-07-23  135368.0  135782.0  133676.0  134036.0  6527600\n",
       "2025-07-24  133808.0  135363.0  133648.0  135357.0  5976800\n",
       "2025-07-25  133524.0  134204.0  133285.0  133820.0  5560900\n",
       "2025-07-28  132129.0  133902.0  131550.0  133538.0  6625600\n",
       "2025-07-29  132726.0  133346.0  132130.0  132130.0  6324800"
      ]
     },
     "metadata": {},
     "output_type": "display_data"
    }
   ],
   "source": [
    "\"\"\"\n",
    "\n",
    "Com sugestão do colega da pós Tiago Turra existe uma biblioteca chamada yfinance (https://pypi.org/project/yfinance/) que possi os mesmo dados do site https://br.investing.com/indices/bovespa-historical-data\n",
    "\n",
    "\"\"\"\n",
    "\n",
    "# Importando os dados via yfinance apenas para referencia\n",
    "# progress --> Não gerar um print do progresso\n",
    "# auto_adjust --> corrigir o histórico de preços\n",
    "# multi_level_index --> Utilizando para evitar gerar coluna com o nome do ticket, exemplo ('Close', '^BVSP')\n",
    "\n",
    "dados_yf = yf.download('^BVSP', period=\"max\", interval=\"1d\", auto_adjust=True,  progress=False, multi_level_index=False)\n",
    "\n",
    "print(\"Primeiros dados\")\n",
    "display(dados_yf.head())\n",
    "\n",
    "print(\"\\nUltimos dados\")\n",
    "display(dados_yf.tail())"
   ]
  },
  {
   "cell_type": "code",
   "execution_count": 971,
   "id": "b853a146",
   "metadata": {},
   "outputs": [
    {
     "data": {
      "application/vnd.microsoft.datawrangler.viewer.v0+json": {
       "columns": [
        {
         "name": "Data",
         "rawType": "datetime64[ns]",
         "type": "datetime"
        },
        {
         "name": "Ultimo",
         "rawType": "int64",
         "type": "integer"
        },
        {
         "name": "Abertura",
         "rawType": "int64",
         "type": "integer"
        },
        {
         "name": "Maxima",
         "rawType": "int64",
         "type": "integer"
        },
        {
         "name": "Minima",
         "rawType": "int64",
         "type": "integer"
        },
        {
         "name": "Volume",
         "rawType": "object",
         "type": "string"
        },
        {
         "name": "Variacao",
         "rawType": "object",
         "type": "string"
        }
       ],
       "ref": "beb9df9a-77c8-46b5-8c25-6c7c49605afd",
       "rows": [
        [
         "1995-01-02 00:00:00",
         "4301",
         "4354",
         "4398",
         "4300",
         "4,10B",
         "-1,22%"
        ],
        [
         "1995-01-03 00:00:00",
         "4098",
         "4370",
         "4386",
         "4094",
         "8,35B",
         "-4,72%"
        ],
        [
         "1995-01-04 00:00:00",
         "3968",
         "4098",
         "4098",
         "3861",
         "11,95B",
         "-3,17%"
        ],
        [
         "1995-01-05 00:00:00",
         "4037",
         "3968",
         "4040",
         "3944",
         "8,76B",
         "1,74%"
        ],
        [
         "1995-01-06 00:00:00",
         "3827",
         "4037",
         "4106",
         "3813",
         "12,02B",
         "-5,20%"
        ]
       ],
       "shape": {
        "columns": 6,
        "rows": 5
       }
      },
      "text/html": [
       "<div>\n",
       "<style scoped>\n",
       "    .dataframe tbody tr th:only-of-type {\n",
       "        vertical-align: middle;\n",
       "    }\n",
       "\n",
       "    .dataframe tbody tr th {\n",
       "        vertical-align: top;\n",
       "    }\n",
       "\n",
       "    .dataframe thead th {\n",
       "        text-align: right;\n",
       "    }\n",
       "</style>\n",
       "<table border=\"1\" class=\"dataframe\">\n",
       "  <thead>\n",
       "    <tr style=\"text-align: right;\">\n",
       "      <th></th>\n",
       "      <th>Ultimo</th>\n",
       "      <th>Abertura</th>\n",
       "      <th>Maxima</th>\n",
       "      <th>Minima</th>\n",
       "      <th>Volume</th>\n",
       "      <th>Variacao</th>\n",
       "    </tr>\n",
       "    <tr>\n",
       "      <th>Data</th>\n",
       "      <th></th>\n",
       "      <th></th>\n",
       "      <th></th>\n",
       "      <th></th>\n",
       "      <th></th>\n",
       "      <th></th>\n",
       "    </tr>\n",
       "  </thead>\n",
       "  <tbody>\n",
       "    <tr>\n",
       "      <th>1995-01-02</th>\n",
       "      <td>4301</td>\n",
       "      <td>4354</td>\n",
       "      <td>4398</td>\n",
       "      <td>4300</td>\n",
       "      <td>4,10B</td>\n",
       "      <td>-1,22%</td>\n",
       "    </tr>\n",
       "    <tr>\n",
       "      <th>1995-01-03</th>\n",
       "      <td>4098</td>\n",
       "      <td>4370</td>\n",
       "      <td>4386</td>\n",
       "      <td>4094</td>\n",
       "      <td>8,35B</td>\n",
       "      <td>-4,72%</td>\n",
       "    </tr>\n",
       "    <tr>\n",
       "      <th>1995-01-04</th>\n",
       "      <td>3968</td>\n",
       "      <td>4098</td>\n",
       "      <td>4098</td>\n",
       "      <td>3861</td>\n",
       "      <td>11,95B</td>\n",
       "      <td>-3,17%</td>\n",
       "    </tr>\n",
       "    <tr>\n",
       "      <th>1995-01-05</th>\n",
       "      <td>4037</td>\n",
       "      <td>3968</td>\n",
       "      <td>4040</td>\n",
       "      <td>3944</td>\n",
       "      <td>8,76B</td>\n",
       "      <td>1,74%</td>\n",
       "    </tr>\n",
       "    <tr>\n",
       "      <th>1995-01-06</th>\n",
       "      <td>3827</td>\n",
       "      <td>4037</td>\n",
       "      <td>4106</td>\n",
       "      <td>3813</td>\n",
       "      <td>12,02B</td>\n",
       "      <td>-5,20%</td>\n",
       "    </tr>\n",
       "  </tbody>\n",
       "</table>\n",
       "</div>"
      ],
      "text/plain": [
       "            Ultimo  Abertura  Maxima  Minima  Volume Variacao\n",
       "Data                                                         \n",
       "1995-01-02    4301      4354    4398    4300   4,10B   -1,22%\n",
       "1995-01-03    4098      4370    4386    4094   8,35B   -4,72%\n",
       "1995-01-04    3968      4098    4098    3861  11,95B   -3,17%\n",
       "1995-01-05    4037      3968    4040    3944   8,76B    1,74%\n",
       "1995-01-06    3827      4037    4106    3813  12,02B   -5,20%"
      ]
     },
     "metadata": {},
     "output_type": "display_data"
    }
   ],
   "source": [
    "# Opção de já transformar o campa data em Data e Index\n",
    "\n",
    "link = r\"https://raw.githubusercontent.com/RicardViana/fiap-Machine-Learning-and-Time-Series/refs/heads/main/Dados%20Hist%C3%B3ricos%20Ibovespa.csv\"\n",
    "dados_origem_teste = pd.read_csv(link, sep= \";\", thousands='.', decimal=',', parse_dates=[\"Data\"], dayfirst=True, index_col=\"Data\")\n",
    "display(dados_origem_teste.head())"
   ]
  },
  {
   "cell_type": "code",
   "execution_count": 972,
   "id": "4c323470",
   "metadata": {},
   "outputs": [],
   "source": [
    "# Importar os dados via github \n",
    "# Necessario o uso do arumento thousands e decimal para não ter problema com o data frame --> o . na fonte é para separar o milhar\n",
    "\n",
    "link = r\"https://raw.githubusercontent.com/RicardViana/fiap-Machine-Learning-and-Time-Series/refs/heads/main/Dados%20Hist%C3%B3ricos%20Ibovespa.csv\"\n",
    "dados_origem = pd.read_csv(link, sep= \";\", thousands='.', decimal=',', index_col=\"Data\")"
   ]
  },
  {
   "cell_type": "code",
   "execution_count": 973,
   "id": "b83b6b1a",
   "metadata": {},
   "outputs": [
    {
     "name": "stdout",
     "output_type": "stream",
     "text": [
      "Primeiros dados (.head)\n"
     ]
    },
    {
     "data": {
      "application/vnd.microsoft.datawrangler.viewer.v0+json": {
       "columns": [
        {
         "name": "Data",
         "rawType": "object",
         "type": "string"
        },
        {
         "name": "Ultimo",
         "rawType": "int64",
         "type": "integer"
        },
        {
         "name": "Abertura",
         "rawType": "int64",
         "type": "integer"
        },
        {
         "name": "Maxima",
         "rawType": "int64",
         "type": "integer"
        },
        {
         "name": "Minima",
         "rawType": "int64",
         "type": "integer"
        },
        {
         "name": "Volume",
         "rawType": "object",
         "type": "string"
        },
        {
         "name": "Variacao",
         "rawType": "object",
         "type": "string"
        }
       ],
       "ref": "b72d72a0-dc0f-41e2-af0e-826622f8fcd8",
       "rows": [
        [
         "02/01/1995",
         "4301",
         "4354",
         "4398",
         "4300",
         "4,10B",
         "-1,22%"
        ],
        [
         "03/01/1995",
         "4098",
         "4370",
         "4386",
         "4094",
         "8,35B",
         "-4,72%"
        ],
        [
         "04/01/1995",
         "3968",
         "4098",
         "4098",
         "3861",
         "11,95B",
         "-3,17%"
        ],
        [
         "05/01/1995",
         "4037",
         "3968",
         "4040",
         "3944",
         "8,76B",
         "1,74%"
        ],
        [
         "06/01/1995",
         "3827",
         "4037",
         "4106",
         "3813",
         "12,02B",
         "-5,20%"
        ]
       ],
       "shape": {
        "columns": 6,
        "rows": 5
       }
      },
      "text/html": [
       "<div>\n",
       "<style scoped>\n",
       "    .dataframe tbody tr th:only-of-type {\n",
       "        vertical-align: middle;\n",
       "    }\n",
       "\n",
       "    .dataframe tbody tr th {\n",
       "        vertical-align: top;\n",
       "    }\n",
       "\n",
       "    .dataframe thead th {\n",
       "        text-align: right;\n",
       "    }\n",
       "</style>\n",
       "<table border=\"1\" class=\"dataframe\">\n",
       "  <thead>\n",
       "    <tr style=\"text-align: right;\">\n",
       "      <th></th>\n",
       "      <th>Ultimo</th>\n",
       "      <th>Abertura</th>\n",
       "      <th>Maxima</th>\n",
       "      <th>Minima</th>\n",
       "      <th>Volume</th>\n",
       "      <th>Variacao</th>\n",
       "    </tr>\n",
       "    <tr>\n",
       "      <th>Data</th>\n",
       "      <th></th>\n",
       "      <th></th>\n",
       "      <th></th>\n",
       "      <th></th>\n",
       "      <th></th>\n",
       "      <th></th>\n",
       "    </tr>\n",
       "  </thead>\n",
       "  <tbody>\n",
       "    <tr>\n",
       "      <th>02/01/1995</th>\n",
       "      <td>4301</td>\n",
       "      <td>4354</td>\n",
       "      <td>4398</td>\n",
       "      <td>4300</td>\n",
       "      <td>4,10B</td>\n",
       "      <td>-1,22%</td>\n",
       "    </tr>\n",
       "    <tr>\n",
       "      <th>03/01/1995</th>\n",
       "      <td>4098</td>\n",
       "      <td>4370</td>\n",
       "      <td>4386</td>\n",
       "      <td>4094</td>\n",
       "      <td>8,35B</td>\n",
       "      <td>-4,72%</td>\n",
       "    </tr>\n",
       "    <tr>\n",
       "      <th>04/01/1995</th>\n",
       "      <td>3968</td>\n",
       "      <td>4098</td>\n",
       "      <td>4098</td>\n",
       "      <td>3861</td>\n",
       "      <td>11,95B</td>\n",
       "      <td>-3,17%</td>\n",
       "    </tr>\n",
       "    <tr>\n",
       "      <th>05/01/1995</th>\n",
       "      <td>4037</td>\n",
       "      <td>3968</td>\n",
       "      <td>4040</td>\n",
       "      <td>3944</td>\n",
       "      <td>8,76B</td>\n",
       "      <td>1,74%</td>\n",
       "    </tr>\n",
       "    <tr>\n",
       "      <th>06/01/1995</th>\n",
       "      <td>3827</td>\n",
       "      <td>4037</td>\n",
       "      <td>4106</td>\n",
       "      <td>3813</td>\n",
       "      <td>12,02B</td>\n",
       "      <td>-5,20%</td>\n",
       "    </tr>\n",
       "  </tbody>\n",
       "</table>\n",
       "</div>"
      ],
      "text/plain": [
       "            Ultimo  Abertura  Maxima  Minima  Volume Variacao\n",
       "Data                                                         \n",
       "02/01/1995    4301      4354    4398    4300   4,10B   -1,22%\n",
       "03/01/1995    4098      4370    4386    4094   8,35B   -4,72%\n",
       "04/01/1995    3968      4098    4098    3861  11,95B   -3,17%\n",
       "05/01/1995    4037      3968    4040    3944   8,76B    1,74%\n",
       "06/01/1995    3827      4037    4106    3813  12,02B   -5,20%"
      ]
     },
     "metadata": {},
     "output_type": "display_data"
    },
    {
     "name": "stdout",
     "output_type": "stream",
     "text": [
      "\n",
      "Ultimos dados (.tail)\n"
     ]
    },
    {
     "data": {
      "application/vnd.microsoft.datawrangler.viewer.v0+json": {
       "columns": [
        {
         "name": "Data",
         "rawType": "object",
         "type": "string"
        },
        {
         "name": "Ultimo",
         "rawType": "int64",
         "type": "integer"
        },
        {
         "name": "Abertura",
         "rawType": "int64",
         "type": "integer"
        },
        {
         "name": "Maxima",
         "rawType": "int64",
         "type": "integer"
        },
        {
         "name": "Minima",
         "rawType": "int64",
         "type": "integer"
        },
        {
         "name": "Volume",
         "rawType": "object",
         "type": "string"
        },
        {
         "name": "Variacao",
         "rawType": "object",
         "type": "string"
        }
       ],
       "ref": "a7d57868-0d76-4e9e-acbe-32f06da4fc3b",
       "rows": [
        [
         "30/06/2025",
         "138855",
         "136865",
         "139103",
         "136430",
         "7,68B",
         "1,45%"
        ],
        [
         "01/07/2025",
         "139549",
         "138855",
         "139695",
         "138855",
         "6,35B",
         "0,50%"
        ],
        [
         "02/07/2025",
         "139051",
         "139586",
         "140049",
         "138384",
         "8,81B",
         "-0,36%"
        ],
        [
         "03/07/2025",
         "140928",
         "139051",
         "141304",
         "139051",
         "6,08B",
         "1,35%"
        ],
        [
         "04/07/2025",
         "141264",
         "140928",
         "141564",
         "140597",
         "3,31B",
         "0,24%"
        ]
       ],
       "shape": {
        "columns": 6,
        "rows": 5
       }
      },
      "text/html": [
       "<div>\n",
       "<style scoped>\n",
       "    .dataframe tbody tr th:only-of-type {\n",
       "        vertical-align: middle;\n",
       "    }\n",
       "\n",
       "    .dataframe tbody tr th {\n",
       "        vertical-align: top;\n",
       "    }\n",
       "\n",
       "    .dataframe thead th {\n",
       "        text-align: right;\n",
       "    }\n",
       "</style>\n",
       "<table border=\"1\" class=\"dataframe\">\n",
       "  <thead>\n",
       "    <tr style=\"text-align: right;\">\n",
       "      <th></th>\n",
       "      <th>Ultimo</th>\n",
       "      <th>Abertura</th>\n",
       "      <th>Maxima</th>\n",
       "      <th>Minima</th>\n",
       "      <th>Volume</th>\n",
       "      <th>Variacao</th>\n",
       "    </tr>\n",
       "    <tr>\n",
       "      <th>Data</th>\n",
       "      <th></th>\n",
       "      <th></th>\n",
       "      <th></th>\n",
       "      <th></th>\n",
       "      <th></th>\n",
       "      <th></th>\n",
       "    </tr>\n",
       "  </thead>\n",
       "  <tbody>\n",
       "    <tr>\n",
       "      <th>30/06/2025</th>\n",
       "      <td>138855</td>\n",
       "      <td>136865</td>\n",
       "      <td>139103</td>\n",
       "      <td>136430</td>\n",
       "      <td>7,68B</td>\n",
       "      <td>1,45%</td>\n",
       "    </tr>\n",
       "    <tr>\n",
       "      <th>01/07/2025</th>\n",
       "      <td>139549</td>\n",
       "      <td>138855</td>\n",
       "      <td>139695</td>\n",
       "      <td>138855</td>\n",
       "      <td>6,35B</td>\n",
       "      <td>0,50%</td>\n",
       "    </tr>\n",
       "    <tr>\n",
       "      <th>02/07/2025</th>\n",
       "      <td>139051</td>\n",
       "      <td>139586</td>\n",
       "      <td>140049</td>\n",
       "      <td>138384</td>\n",
       "      <td>8,81B</td>\n",
       "      <td>-0,36%</td>\n",
       "    </tr>\n",
       "    <tr>\n",
       "      <th>03/07/2025</th>\n",
       "      <td>140928</td>\n",
       "      <td>139051</td>\n",
       "      <td>141304</td>\n",
       "      <td>139051</td>\n",
       "      <td>6,08B</td>\n",
       "      <td>1,35%</td>\n",
       "    </tr>\n",
       "    <tr>\n",
       "      <th>04/07/2025</th>\n",
       "      <td>141264</td>\n",
       "      <td>140928</td>\n",
       "      <td>141564</td>\n",
       "      <td>140597</td>\n",
       "      <td>3,31B</td>\n",
       "      <td>0,24%</td>\n",
       "    </tr>\n",
       "  </tbody>\n",
       "</table>\n",
       "</div>"
      ],
      "text/plain": [
       "            Ultimo  Abertura  Maxima  Minima Volume Variacao\n",
       "Data                                                        \n",
       "30/06/2025  138855    136865  139103  136430  7,68B    1,45%\n",
       "01/07/2025  139549    138855  139695  138855  6,35B    0,50%\n",
       "02/07/2025  139051    139586  140049  138384  8,81B   -0,36%\n",
       "03/07/2025  140928    139051  141304  139051  6,08B    1,35%\n",
       "04/07/2025  141264    140928  141564  140597  3,31B    0,24%"
      ]
     },
     "metadata": {},
     "output_type": "display_data"
    }
   ],
   "source": [
    "# Verificando os dados via .head e .tail\n",
    "\n",
    "print(\"Primeiros dados (.head)\")\n",
    "display(dados_origem.head())\n",
    "\n",
    "print(\"\\nUltimos dados (.tail)\")\n",
    "display(dados_origem.tail())"
   ]
  },
  {
   "cell_type": "code",
   "execution_count": 974,
   "id": "1ed3377b",
   "metadata": {},
   "outputs": [],
   "source": [
    "# Ajustar o formato da coluna Data \n",
    "\n",
    "dados_origem.index = pd.to_datetime(dados_origem.index, format = \"%d/%m/%Y\")"
   ]
  },
  {
   "cell_type": "code",
   "execution_count": 975,
   "id": "e2bbdb21",
   "metadata": {},
   "outputs": [
    {
     "name": "stdout",
     "output_type": "stream",
     "text": [
      "Dados do data frame dados_origem\n"
     ]
    },
    {
     "data": {
      "application/vnd.microsoft.datawrangler.viewer.v0+json": {
       "columns": [
        {
         "name": "Data",
         "rawType": "datetime64[ns]",
         "type": "datetime"
        },
        {
         "name": "Ultimo",
         "rawType": "int64",
         "type": "integer"
        },
        {
         "name": "Abertura",
         "rawType": "int64",
         "type": "integer"
        },
        {
         "name": "Maxima",
         "rawType": "int64",
         "type": "integer"
        },
        {
         "name": "Minima",
         "rawType": "int64",
         "type": "integer"
        }
       ],
       "ref": "a5746883-7efc-4790-b8ec-bbf16c715852",
       "rows": [
        [
         "2025-06-30 00:00:00",
         "138855",
         "136865",
         "139103",
         "136430"
        ],
        [
         "2025-07-01 00:00:00",
         "139549",
         "138855",
         "139695",
         "138855"
        ],
        [
         "2025-07-02 00:00:00",
         "139051",
         "139586",
         "140049",
         "138384"
        ],
        [
         "2025-07-03 00:00:00",
         "140928",
         "139051",
         "141304",
         "139051"
        ],
        [
         "2025-07-04 00:00:00",
         "141264",
         "140928",
         "141564",
         "140597"
        ]
       ],
       "shape": {
        "columns": 4,
        "rows": 5
       }
      },
      "text/html": [
       "<div>\n",
       "<style scoped>\n",
       "    .dataframe tbody tr th:only-of-type {\n",
       "        vertical-align: middle;\n",
       "    }\n",
       "\n",
       "    .dataframe tbody tr th {\n",
       "        vertical-align: top;\n",
       "    }\n",
       "\n",
       "    .dataframe thead th {\n",
       "        text-align: right;\n",
       "    }\n",
       "</style>\n",
       "<table border=\"1\" class=\"dataframe\">\n",
       "  <thead>\n",
       "    <tr style=\"text-align: right;\">\n",
       "      <th></th>\n",
       "      <th>Ultimo</th>\n",
       "      <th>Abertura</th>\n",
       "      <th>Maxima</th>\n",
       "      <th>Minima</th>\n",
       "    </tr>\n",
       "    <tr>\n",
       "      <th>Data</th>\n",
       "      <th></th>\n",
       "      <th></th>\n",
       "      <th></th>\n",
       "      <th></th>\n",
       "    </tr>\n",
       "  </thead>\n",
       "  <tbody>\n",
       "    <tr>\n",
       "      <th>2025-06-30</th>\n",
       "      <td>138855</td>\n",
       "      <td>136865</td>\n",
       "      <td>139103</td>\n",
       "      <td>136430</td>\n",
       "    </tr>\n",
       "    <tr>\n",
       "      <th>2025-07-01</th>\n",
       "      <td>139549</td>\n",
       "      <td>138855</td>\n",
       "      <td>139695</td>\n",
       "      <td>138855</td>\n",
       "    </tr>\n",
       "    <tr>\n",
       "      <th>2025-07-02</th>\n",
       "      <td>139051</td>\n",
       "      <td>139586</td>\n",
       "      <td>140049</td>\n",
       "      <td>138384</td>\n",
       "    </tr>\n",
       "    <tr>\n",
       "      <th>2025-07-03</th>\n",
       "      <td>140928</td>\n",
       "      <td>139051</td>\n",
       "      <td>141304</td>\n",
       "      <td>139051</td>\n",
       "    </tr>\n",
       "    <tr>\n",
       "      <th>2025-07-04</th>\n",
       "      <td>141264</td>\n",
       "      <td>140928</td>\n",
       "      <td>141564</td>\n",
       "      <td>140597</td>\n",
       "    </tr>\n",
       "  </tbody>\n",
       "</table>\n",
       "</div>"
      ],
      "text/plain": [
       "            Ultimo  Abertura  Maxima  Minima\n",
       "Data                                        \n",
       "2025-06-30  138855    136865  139103  136430\n",
       "2025-07-01  139549    138855  139695  138855\n",
       "2025-07-02  139051    139586  140049  138384\n",
       "2025-07-03  140928    139051  141304  139051\n",
       "2025-07-04  141264    140928  141564  140597"
      ]
     },
     "metadata": {},
     "output_type": "display_data"
    },
    {
     "name": "stdout",
     "output_type": "stream",
     "text": [
      "\n",
      "Dados do data frame dados_yf\n"
     ]
    },
    {
     "data": {
      "application/vnd.microsoft.datawrangler.viewer.v0+json": {
       "columns": [
        {
         "name": "Date",
         "rawType": "datetime64[ns]",
         "type": "datetime"
        },
        {
         "name": "Close",
         "rawType": "float64",
         "type": "float"
        },
        {
         "name": "Open",
         "rawType": "float64",
         "type": "float"
        },
        {
         "name": "High",
         "rawType": "float64",
         "type": "float"
        },
        {
         "name": "Low",
         "rawType": "float64",
         "type": "float"
        }
       ],
       "ref": "5fbe8de8-86be-4383-ac0d-f2627061ce49",
       "rows": [
        [
         "2025-06-30 00:00:00",
         "138855.0",
         "136865.0",
         "139103.0",
         "136430.0"
        ],
        [
         "2025-07-01 00:00:00",
         "139549.0",
         "138855.0",
         "139695.0",
         "138855.0"
        ],
        [
         "2025-07-02 00:00:00",
         "139051.0",
         "139586.0",
         "140049.0",
         "138384.0"
        ],
        [
         "2025-07-03 00:00:00",
         "140928.0",
         "139051.0",
         "141304.0",
         "139051.0"
        ],
        [
         "2025-07-04 00:00:00",
         "141478.0",
         "140928.0",
         "141537.0",
         "140597.0"
        ]
       ],
       "shape": {
        "columns": 4,
        "rows": 5
       }
      },
      "text/html": [
       "<div>\n",
       "<style scoped>\n",
       "    .dataframe tbody tr th:only-of-type {\n",
       "        vertical-align: middle;\n",
       "    }\n",
       "\n",
       "    .dataframe tbody tr th {\n",
       "        vertical-align: top;\n",
       "    }\n",
       "\n",
       "    .dataframe thead th {\n",
       "        text-align: right;\n",
       "    }\n",
       "</style>\n",
       "<table border=\"1\" class=\"dataframe\">\n",
       "  <thead>\n",
       "    <tr style=\"text-align: right;\">\n",
       "      <th></th>\n",
       "      <th>Close</th>\n",
       "      <th>Open</th>\n",
       "      <th>High</th>\n",
       "      <th>Low</th>\n",
       "    </tr>\n",
       "    <tr>\n",
       "      <th>Date</th>\n",
       "      <th></th>\n",
       "      <th></th>\n",
       "      <th></th>\n",
       "      <th></th>\n",
       "    </tr>\n",
       "  </thead>\n",
       "  <tbody>\n",
       "    <tr>\n",
       "      <th>2025-06-30</th>\n",
       "      <td>138855.0</td>\n",
       "      <td>136865.0</td>\n",
       "      <td>139103.0</td>\n",
       "      <td>136430.0</td>\n",
       "    </tr>\n",
       "    <tr>\n",
       "      <th>2025-07-01</th>\n",
       "      <td>139549.0</td>\n",
       "      <td>138855.0</td>\n",
       "      <td>139695.0</td>\n",
       "      <td>138855.0</td>\n",
       "    </tr>\n",
       "    <tr>\n",
       "      <th>2025-07-02</th>\n",
       "      <td>139051.0</td>\n",
       "      <td>139586.0</td>\n",
       "      <td>140049.0</td>\n",
       "      <td>138384.0</td>\n",
       "    </tr>\n",
       "    <tr>\n",
       "      <th>2025-07-03</th>\n",
       "      <td>140928.0</td>\n",
       "      <td>139051.0</td>\n",
       "      <td>141304.0</td>\n",
       "      <td>139051.0</td>\n",
       "    </tr>\n",
       "    <tr>\n",
       "      <th>2025-07-04</th>\n",
       "      <td>141478.0</td>\n",
       "      <td>140928.0</td>\n",
       "      <td>141537.0</td>\n",
       "      <td>140597.0</td>\n",
       "    </tr>\n",
       "  </tbody>\n",
       "</table>\n",
       "</div>"
      ],
      "text/plain": [
       "               Close      Open      High       Low\n",
       "Date                                              \n",
       "2025-06-30  138855.0  136865.0  139103.0  136430.0\n",
       "2025-07-01  139549.0  138855.0  139695.0  138855.0\n",
       "2025-07-02  139051.0  139586.0  140049.0  138384.0\n",
       "2025-07-03  140928.0  139051.0  141304.0  139051.0\n",
       "2025-07-04  141478.0  140928.0  141537.0  140597.0"
      ]
     },
     "metadata": {},
     "output_type": "display_data"
    }
   ],
   "source": [
    "# Verificand os dados os dados do data frame dados_origem com o dados_yf --> Verificar se há diferença \n",
    "\n",
    "print(\"Dados do data frame dados_origem\")\n",
    "display(dados_origem[['Ultimo', 'Abertura', 'Maxima', 'Minima']].tail())\n",
    "\n",
    "print(\"\\nDados do data frame dados_yf\")\n",
    "display(dados_yf[['Close', 'Open', 'High', 'Low']].query(\"Date >= '2025-06-30 00:00:00' and Date <= '2025-07-04 00:00:00'\"))\n"
   ]
  },
  {
   "cell_type": "code",
   "execution_count": 976,
   "id": "6611e049",
   "metadata": {},
   "outputs": [
    {
     "name": "stdout",
     "output_type": "stream",
     "text": [
      "<class 'pandas.core.frame.DataFrame'>\n",
      "DatetimeIndex: 7555 entries, 1995-01-02 to 2025-07-04\n",
      "Data columns (total 6 columns):\n",
      " #   Column    Non-Null Count  Dtype \n",
      "---  ------    --------------  ----- \n",
      " 0   Ultimo    7555 non-null   int64 \n",
      " 1   Abertura  7555 non-null   int64 \n",
      " 2   Maxima    7555 non-null   int64 \n",
      " 3   Minima    7555 non-null   int64 \n",
      " 4   Volume    7554 non-null   object\n",
      " 5   Variacao  7555 non-null   object\n",
      "dtypes: int64(4), object(2)\n",
      "memory usage: 413.2+ KB\n"
     ]
    }
   ],
   "source": [
    "# Veficiando os dados dados do data frame \n",
    "\n",
    "dados_origem.info()"
   ]
  },
  {
   "cell_type": "code",
   "execution_count": 977,
   "id": "656a58f7",
   "metadata": {},
   "outputs": [
    {
     "data": {
      "application/vnd.microsoft.datawrangler.viewer.v0+json": {
       "columns": [
        {
         "name": "index",
         "rawType": "object",
         "type": "string"
        },
        {
         "name": "0",
         "rawType": "int64",
         "type": "integer"
        }
       ],
       "ref": "bc5fd7aa-2baa-4cac-9697-929665d03daa",
       "rows": [
        [
         "Ultimo",
         "0"
        ],
        [
         "Abertura",
         "0"
        ],
        [
         "Maxima",
         "0"
        ],
        [
         "Minima",
         "0"
        ],
        [
         "Volume",
         "1"
        ],
        [
         "Variacao",
         "0"
        ]
       ],
       "shape": {
        "columns": 1,
        "rows": 6
       }
      },
      "text/plain": [
       "Ultimo      0\n",
       "Abertura    0\n",
       "Maxima      0\n",
       "Minima      0\n",
       "Volume      1\n",
       "Variacao    0\n",
       "dtype: int64"
      ]
     },
     "execution_count": 977,
     "metadata": {},
     "output_type": "execute_result"
    }
   ],
   "source": [
    "# Verificando os dados nulos\n",
    "dados_origem.isnull().sum()"
   ]
  },
  {
   "cell_type": "code",
   "execution_count": 978,
   "id": "52578741",
   "metadata": {},
   "outputs": [
    {
     "data": {
      "application/vnd.microsoft.datawrangler.viewer.v0+json": {
       "columns": [
        {
         "name": "Data",
         "rawType": "datetime64[ns]",
         "type": "datetime"
        },
        {
         "name": "Ultimo",
         "rawType": "int64",
         "type": "integer"
        },
        {
         "name": "Abertura",
         "rawType": "int64",
         "type": "integer"
        },
        {
         "name": "Maxima",
         "rawType": "int64",
         "type": "integer"
        },
        {
         "name": "Minima",
         "rawType": "int64",
         "type": "integer"
        },
        {
         "name": "Volume",
         "rawType": "object",
         "type": "unknown"
        },
        {
         "name": "Variacao",
         "rawType": "object",
         "type": "string"
        }
       ],
       "ref": "20af2fa5-9f84-4066-a935-4cc76c4d48d0",
       "rows": [
        [
         "2016-02-10 00:00:00",
         "40377",
         "40592",
         "40592",
         "39960",
         null,
         "-0,53%"
        ]
       ],
       "shape": {
        "columns": 6,
        "rows": 1
       }
      },
      "text/html": [
       "<div>\n",
       "<style scoped>\n",
       "    .dataframe tbody tr th:only-of-type {\n",
       "        vertical-align: middle;\n",
       "    }\n",
       "\n",
       "    .dataframe tbody tr th {\n",
       "        vertical-align: top;\n",
       "    }\n",
       "\n",
       "    .dataframe thead th {\n",
       "        text-align: right;\n",
       "    }\n",
       "</style>\n",
       "<table border=\"1\" class=\"dataframe\">\n",
       "  <thead>\n",
       "    <tr style=\"text-align: right;\">\n",
       "      <th></th>\n",
       "      <th>Ultimo</th>\n",
       "      <th>Abertura</th>\n",
       "      <th>Maxima</th>\n",
       "      <th>Minima</th>\n",
       "      <th>Volume</th>\n",
       "      <th>Variacao</th>\n",
       "    </tr>\n",
       "    <tr>\n",
       "      <th>Data</th>\n",
       "      <th></th>\n",
       "      <th></th>\n",
       "      <th></th>\n",
       "      <th></th>\n",
       "      <th></th>\n",
       "      <th></th>\n",
       "    </tr>\n",
       "  </thead>\n",
       "  <tbody>\n",
       "    <tr>\n",
       "      <th>2016-02-10</th>\n",
       "      <td>40377</td>\n",
       "      <td>40592</td>\n",
       "      <td>40592</td>\n",
       "      <td>39960</td>\n",
       "      <td>NaN</td>\n",
       "      <td>-0,53%</td>\n",
       "    </tr>\n",
       "  </tbody>\n",
       "</table>\n",
       "</div>"
      ],
      "text/plain": [
       "            Ultimo  Abertura  Maxima  Minima Volume Variacao\n",
       "Data                                                        \n",
       "2016-02-10   40377     40592   40592   39960    NaN   -0,53%"
      ]
     },
     "execution_count": 978,
     "metadata": {},
     "output_type": "execute_result"
    }
   ],
   "source": [
    "# Verificando os registros que estão nulos \n",
    "# Como para o nosso projeto esse campo Volume não é util, vamos manter esse registro\n",
    "dados_origem[dados_origem.isnull().any(axis=1)]"
   ]
  },
  {
   "cell_type": "code",
   "execution_count": 979,
   "id": "f2de032f",
   "metadata": {},
   "outputs": [
    {
     "data": {
      "application/vnd.microsoft.datawrangler.viewer.v0+json": {
       "columns": [
        {
         "name": "index",
         "rawType": "object",
         "type": "string"
        },
        {
         "name": "Ultimo",
         "rawType": "float64",
         "type": "float"
        },
        {
         "name": "Abertura",
         "rawType": "float64",
         "type": "float"
        },
        {
         "name": "Maxima",
         "rawType": "float64",
         "type": "float"
        },
        {
         "name": "Minima",
         "rawType": "float64",
         "type": "float"
        }
       ],
       "ref": "300e69e0-2d0f-492a-9e37-7fb595b26c3b",
       "rows": [
        [
         "count",
         "7555.0",
         "7555.0",
         "7555.0",
         "7555.0"
        ],
        [
         "mean",
         "53401.15830575777",
         "53384.24818001324",
         "53908.21125082727",
         "52869.34493712773"
        ],
        [
         "std",
         "38204.90104788895",
         "38195.05062206265",
         "38475.11690902926",
         "37923.17070423465"
        ],
        [
         "min",
         "2138.0",
         "2138.0",
         "2449.0",
         "2110.0"
        ],
        [
         "25%",
         "15098.5",
         "15094.0",
         "15275.5",
         "14858.0"
        ],
        [
         "50%",
         "52230.0",
         "52210.0",
         "52836.0",
         "51585.0"
        ],
        [
         "75%",
         "73438.0",
         "73435.0",
         "74463.0",
         "72493.5"
        ],
        [
         "max",
         "141264.0",
         "140928.0",
         "141564.0",
         "140597.0"
        ]
       ],
       "shape": {
        "columns": 4,
        "rows": 8
       }
      },
      "text/html": [
       "<div>\n",
       "<style scoped>\n",
       "    .dataframe tbody tr th:only-of-type {\n",
       "        vertical-align: middle;\n",
       "    }\n",
       "\n",
       "    .dataframe tbody tr th {\n",
       "        vertical-align: top;\n",
       "    }\n",
       "\n",
       "    .dataframe thead th {\n",
       "        text-align: right;\n",
       "    }\n",
       "</style>\n",
       "<table border=\"1\" class=\"dataframe\">\n",
       "  <thead>\n",
       "    <tr style=\"text-align: right;\">\n",
       "      <th></th>\n",
       "      <th>Ultimo</th>\n",
       "      <th>Abertura</th>\n",
       "      <th>Maxima</th>\n",
       "      <th>Minima</th>\n",
       "    </tr>\n",
       "  </thead>\n",
       "  <tbody>\n",
       "    <tr>\n",
       "      <th>count</th>\n",
       "      <td>7555.000000</td>\n",
       "      <td>7555.000000</td>\n",
       "      <td>7555.000000</td>\n",
       "      <td>7555.000000</td>\n",
       "    </tr>\n",
       "    <tr>\n",
       "      <th>mean</th>\n",
       "      <td>53401.158306</td>\n",
       "      <td>53384.248180</td>\n",
       "      <td>53908.211251</td>\n",
       "      <td>52869.344937</td>\n",
       "    </tr>\n",
       "    <tr>\n",
       "      <th>std</th>\n",
       "      <td>38204.901048</td>\n",
       "      <td>38195.050622</td>\n",
       "      <td>38475.116909</td>\n",
       "      <td>37923.170704</td>\n",
       "    </tr>\n",
       "    <tr>\n",
       "      <th>min</th>\n",
       "      <td>2138.000000</td>\n",
       "      <td>2138.000000</td>\n",
       "      <td>2449.000000</td>\n",
       "      <td>2110.000000</td>\n",
       "    </tr>\n",
       "    <tr>\n",
       "      <th>25%</th>\n",
       "      <td>15098.500000</td>\n",
       "      <td>15094.000000</td>\n",
       "      <td>15275.500000</td>\n",
       "      <td>14858.000000</td>\n",
       "    </tr>\n",
       "    <tr>\n",
       "      <th>50%</th>\n",
       "      <td>52230.000000</td>\n",
       "      <td>52210.000000</td>\n",
       "      <td>52836.000000</td>\n",
       "      <td>51585.000000</td>\n",
       "    </tr>\n",
       "    <tr>\n",
       "      <th>75%</th>\n",
       "      <td>73438.000000</td>\n",
       "      <td>73435.000000</td>\n",
       "      <td>74463.000000</td>\n",
       "      <td>72493.500000</td>\n",
       "    </tr>\n",
       "    <tr>\n",
       "      <th>max</th>\n",
       "      <td>141264.000000</td>\n",
       "      <td>140928.000000</td>\n",
       "      <td>141564.000000</td>\n",
       "      <td>140597.000000</td>\n",
       "    </tr>\n",
       "  </tbody>\n",
       "</table>\n",
       "</div>"
      ],
      "text/plain": [
       "              Ultimo       Abertura         Maxima         Minima\n",
       "count    7555.000000    7555.000000    7555.000000    7555.000000\n",
       "mean    53401.158306   53384.248180   53908.211251   52869.344937\n",
       "std     38204.901048   38195.050622   38475.116909   37923.170704\n",
       "min      2138.000000    2138.000000    2449.000000    2110.000000\n",
       "25%     15098.500000   15094.000000   15275.500000   14858.000000\n",
       "50%     52230.000000   52210.000000   52836.000000   51585.000000\n",
       "75%     73438.000000   73435.000000   74463.000000   72493.500000\n",
       "max    141264.000000  140928.000000  141564.000000  140597.000000"
      ]
     },
     "execution_count": 979,
     "metadata": {},
     "output_type": "execute_result"
    }
   ],
   "source": [
    "# Gerando a estatistica descritiva do data frame \n",
    "\n",
    "dados_origem.describe()"
   ]
  },
  {
   "cell_type": "code",
   "execution_count": 980,
   "id": "e8d6b05a",
   "metadata": {},
   "outputs": [
    {
     "name": "stdout",
     "output_type": "stream",
     "text": [
      "Data inicial é 1995-01-02 00:00:00\n",
      "Data final   é 2025-07-04 00:00:00\n"
     ]
    }
   ],
   "source": [
    "# Verificando o intervalo de data dos dados \n",
    "\n",
    "print(f\"Data inicial é {dados_origem.index.min()}\")\n",
    "print(f\"Data final   é {dados_origem.index.max()}\")"
   ]
  },
  {
   "cell_type": "code",
   "execution_count": 981,
   "id": "9849cfa0",
   "metadata": {},
   "outputs": [
    {
     "data": {
      "application/vnd.microsoft.datawrangler.viewer.v0+json": {
       "columns": [
        {
         "name": "Data",
         "rawType": "datetime64[ns]",
         "type": "datetime"
        },
        {
         "name": "Ultimo",
         "rawType": "int64",
         "type": "integer"
        }
       ],
       "ref": "eee41ff1-076a-4906-8ba8-4087bb5498a3",
       "rows": [
        [
         "2025-06-30 00:00:00",
         "138855"
        ],
        [
         "2025-07-01 00:00:00",
         "139549"
        ],
        [
         "2025-07-02 00:00:00",
         "139051"
        ],
        [
         "2025-07-03 00:00:00",
         "140928"
        ],
        [
         "2025-07-04 00:00:00",
         "141264"
        ]
       ],
       "shape": {
        "columns": 1,
        "rows": 5
       }
      },
      "text/plain": [
       "Data\n",
       "2025-06-30    138855\n",
       "2025-07-01    139549\n",
       "2025-07-02    139051\n",
       "2025-07-03    140928\n",
       "2025-07-04    141264\n",
       "Name: Ultimo, dtype: int64"
      ]
     },
     "execution_count": 981,
     "metadata": {},
     "output_type": "execute_result"
    }
   ],
   "source": [
    "# Criando um novo data frame apenas com os campos necessarios\n",
    "\n",
    "dados_ultimo = dados_origem[\"Ultimo\"].copy()\n",
    "dados_ultimo.tail()"
   ]
  },
  {
   "cell_type": "code",
   "execution_count": 982,
   "id": "d862ae69",
   "metadata": {},
   "outputs": [
    {
     "data": {
      "image/png": "[encoded data removed]",
      "text/plain": [
       "<Figure size 1500x500 with 1 Axes>"
      ]
     },
     "metadata": {},
     "output_type": "display_data"
    }
   ],
   "source": [
    "# Plotando um grafico de linha \n",
    "\n",
    "plt.figure(figsize=(15,5))\n",
    "plt.plot(dados_ultimo.index,dados_ultimo)\n",
    "plt.title(\"Evolução do indice Ibovespa (IBOV)\")\n",
    "plt.show()"
   ]
  },
  {
   "cell_type": "code",
   "execution_count": 983,
   "id": "35a3bcd9",
   "metadata": {},
   "outputs": [
    {
     "data": {
      "image/png": "[encoded data removed]",
      "text/plain": [
       "<Figure size 1500x1000 with 4 Axes>"
      ]
     },
     "metadata": {},
     "output_type": "display_data"
    }
   ],
   "source": [
    "# Realizar a decomposição da seria temporal -->  tendência (trend), sazonalidade (seasonal) e resíduo (resid) e gerar o graficos \n",
    "\n",
    "periodo = 252 # Média de dias uteis\n",
    "\n",
    "resultados = seasonal_decompose(dados_ultimo, period=periodo)\n",
    "\n",
    "fig, (ax1,ax2,ax3,ax4) = plt.subplots(4,1, figsize = (15,10))\n",
    "\n",
    "resultados.observed.plot(ax=ax1)\n",
    "ax1.set_title(\"Serie Real\")\n",
    "\n",
    "resultados.trend.plot(ax=ax2)\n",
    "ax2.set_title(\"Tendência\")\n",
    "\n",
    "resultados.seasonal.plot(ax=ax3)\n",
    "ax3.set_title(\"Sazonalidade\")\n",
    "\n",
    "resultados.resid.plot(ax=ax4)\n",
    "ax4.set_title(\"Resíduo\")\n",
    "\n",
    "plt.tight_layout()\n",
    "plt.show()"
   ]
  },
  {
   "cell_type": "code",
   "execution_count": 984,
   "id": "b362e292",
   "metadata": {},
   "outputs": [
    {
     "data": {
      "image/png": "[encoded data removed]",
      "text/plain": [
       "<Figure size 1500x1000 with 4 Axes>"
      ]
     },
     "metadata": {},
     "output_type": "display_data"
    }
   ],
   "source": [
    "\"\"\"\n",
    "\n",
    "O ano de 2020 houve a pandemia e dessa forma, plotamos novamente o decompose para verificar a partir do ano de 2019 \n",
    "\n",
    "\"\"\"\n",
    "\n",
    "periodo = 252  # Média de dias úteis\n",
    "\n",
    "# Filtrar os dados a partir de 2019\n",
    "dados_ultimo_2019 = dados_ultimo[dados_ultimo.index >= \"2019-01-01\"]\n",
    "\n",
    "# Realizar a decomposição\n",
    "resultados = seasonal_decompose(dados_ultimo_2019, period=periodo)\n",
    "\n",
    "fig, (ax1, ax2, ax3, ax4) = plt.subplots(4, 1, figsize=(15, 10))\n",
    "\n",
    "resultados.observed.plot(ax=ax1)\n",
    "ax1.set_title(\"Serie Real\")\n",
    "\n",
    "resultados.trend.plot(ax=ax2)\n",
    "ax2.set_title(\"Tendência\")\n",
    "\n",
    "resultados.seasonal.plot(ax=ax3)\n",
    "ax3.set_title(\"Sazonalidade\")\n",
    "\n",
    "resultados.resid.plot(ax=ax4)\n",
    "ax4.set_title(\"Resíduo\")\n",
    "\n",
    "plt.tight_layout()\n",
    "plt.show()"
   ]
  },
  {
   "cell_type": "markdown",
   "id": "158cd310",
   "metadata": {},
   "source": [
    "##### Feature Engineering"
   ]
  },
  {
   "cell_type": "code",
   "execution_count": 985,
   "id": "3fc0fd41",
   "metadata": {},
   "outputs": [],
   "source": [
    "# Criar um novo data frame com os dados originais\n",
    "\n",
    "excluir_anos = \"Não\"\n",
    "anos_excluir = [2020]\n",
    "\n",
    "if excluir_anos == \"Sim\":\n",
    "    mascara = ~dados_origem.index.year.isin(anos_excluir)\n",
    "    dados = dados_origem.loc[mascara, [\"Ultimo\", \"Abertura\", \"Maxima\", \"Minima\"]].copy()\n",
    "\n",
    "else:\n",
    "    dados = dados_origem[[\"Ultimo\", \"Abertura\", \"Maxima\", \"Minima\"]].copy()"
   ]
  },
  {
   "cell_type": "code",
   "execution_count": 986,
   "id": "ceef0009",
   "metadata": {},
   "outputs": [],
   "source": [
    "# Alterando o nome das colunas \n",
    "\n",
    "dados.index.name = \"data\"\n",
    "dados = dados.rename(columns={\"Ultimo\":\"ultimo\", \"Abertura\":\"abertura\", \"Maxima\":\"maxima\", \"Minima\":\"minima\"})"
   ]
  },
  {
   "cell_type": "code",
   "execution_count": 987,
   "id": "e0fdc9d5",
   "metadata": {},
   "outputs": [],
   "source": [
    "# Ordernando os dados \n",
    "\n",
    "dados = dados.sort_index()"
   ]
  },
  {
   "cell_type": "code",
   "execution_count": 988,
   "id": "89edf831",
   "metadata": {},
   "outputs": [
    {
     "data": {
      "application/vnd.microsoft.datawrangler.viewer.v0+json": {
       "columns": [
        {
         "name": "data",
         "rawType": "datetime64[ns]",
         "type": "datetime"
        },
        {
         "name": "ultimo",
         "rawType": "int64",
         "type": "integer"
        },
        {
         "name": "abertura",
         "rawType": "int64",
         "type": "integer"
        },
        {
         "name": "maxima",
         "rawType": "int64",
         "type": "integer"
        },
        {
         "name": "minima",
         "rawType": "int64",
         "type": "integer"
        },
        {
         "name": "target",
         "rawType": "int32",
         "type": "integer"
        }
       ],
       "ref": "5362a258-0e79-4b42-85c9-76b4566d1635",
       "rows": [
        [
         "2025-06-30 00:00:00",
         "138855",
         "136865",
         "139103",
         "136430",
         "1"
        ],
        [
         "2025-07-01 00:00:00",
         "139549",
         "138855",
         "139695",
         "138855",
         "0"
        ],
        [
         "2025-07-02 00:00:00",
         "139051",
         "139586",
         "140049",
         "138384",
         "1"
        ],
        [
         "2025-07-03 00:00:00",
         "140928",
         "139051",
         "141304",
         "139051",
         "1"
        ],
        [
         "2025-07-04 00:00:00",
         "141264",
         "140928",
         "141564",
         "140597",
         "0"
        ]
       ],
       "shape": {
        "columns": 5,
        "rows": 5
       }
      },
      "text/html": [
       "<div>\n",
       "<style scoped>\n",
       "    .dataframe tbody tr th:only-of-type {\n",
       "        vertical-align: middle;\n",
       "    }\n",
       "\n",
       "    .dataframe tbody tr th {\n",
       "        vertical-align: top;\n",
       "    }\n",
       "\n",
       "    .dataframe thead th {\n",
       "        text-align: right;\n",
       "    }\n",
       "</style>\n",
       "<table border=\"1\" class=\"dataframe\">\n",
       "  <thead>\n",
       "    <tr style=\"text-align: right;\">\n",
       "      <th></th>\n",
       "      <th>ultimo</th>\n",
       "      <th>abertura</th>\n",
       "      <th>maxima</th>\n",
       "      <th>minima</th>\n",
       "      <th>target</th>\n",
       "    </tr>\n",
       "    <tr>\n",
       "      <th>data</th>\n",
       "      <th></th>\n",
       "      <th></th>\n",
       "      <th></th>\n",
       "      <th></th>\n",
       "      <th></th>\n",
       "    </tr>\n",
       "  </thead>\n",
       "  <tbody>\n",
       "    <tr>\n",
       "      <th>2025-06-30</th>\n",
       "      <td>138855</td>\n",
       "      <td>136865</td>\n",
       "      <td>139103</td>\n",
       "      <td>136430</td>\n",
       "      <td>1</td>\n",
       "    </tr>\n",
       "    <tr>\n",
       "      <th>2025-07-01</th>\n",
       "      <td>139549</td>\n",
       "      <td>138855</td>\n",
       "      <td>139695</td>\n",
       "      <td>138855</td>\n",
       "      <td>0</td>\n",
       "    </tr>\n",
       "    <tr>\n",
       "      <th>2025-07-02</th>\n",
       "      <td>139051</td>\n",
       "      <td>139586</td>\n",
       "      <td>140049</td>\n",
       "      <td>138384</td>\n",
       "      <td>1</td>\n",
       "    </tr>\n",
       "    <tr>\n",
       "      <th>2025-07-03</th>\n",
       "      <td>140928</td>\n",
       "      <td>139051</td>\n",
       "      <td>141304</td>\n",
       "      <td>139051</td>\n",
       "      <td>1</td>\n",
       "    </tr>\n",
       "    <tr>\n",
       "      <th>2025-07-04</th>\n",
       "      <td>141264</td>\n",
       "      <td>140928</td>\n",
       "      <td>141564</td>\n",
       "      <td>140597</td>\n",
       "      <td>0</td>\n",
       "    </tr>\n",
       "  </tbody>\n",
       "</table>\n",
       "</div>"
      ],
      "text/plain": [
       "            ultimo  abertura  maxima  minima  target\n",
       "data                                                \n",
       "2025-06-30  138855    136865  139103  136430       1\n",
       "2025-07-01  139549    138855  139695  138855       0\n",
       "2025-07-02  139051    139586  140049  138384       1\n",
       "2025-07-03  140928    139051  141304  139051       1\n",
       "2025-07-04  141264    140928  141564  140597       0"
      ]
     },
     "execution_count": 988,
     "metadata": {},
     "output_type": "execute_result"
    }
   ],
   "source": [
    "# Criar a variavel Target (Alvo) --> 1 para sobe e 0 para desce \n",
    "# Avaliamos o valor atual com o valor do proximo dia e dessa forma conseguimos definir se o dia seguinte subiu (1) ou desceu (0)\n",
    "\n",
    "# Versão sem o limite \n",
    "#dados['ultimo_amanha'] = dados[\"ultimo\"].shift(-1) # --> Etapa apenas para enteder os calculos e não é necessarios para o modelo\n",
    "#dados['ultimo_diferenca'] = dados[\"ultimo\"].shift(-1) - dados[\"ultimo\"] # --> Etapa apenas para enteder os calculos e não é necessarios para o modelo\n",
    "\n",
    "dados['target'] = (dados[\"ultimo\"].shift(-1) > dados[\"ultimo\"]).astype(int)\n",
    "\n",
    "# Versão com o limite \n",
    "# limitar o percentual\n",
    "#limite = 0.005  # 0.5%\n",
    "\n",
    "# Calcula a variação percentual do fechamento do dia seguinte em relação ao dia atual\n",
    "#delta = (dados[\"ultimo\"].shift(-1) - dados[\"ultimo\"]) / dados[\"ultimo\"]\n",
    "\n",
    "# Cria a coluna target: 1 para alta acima do limite, 0 para baixa abaixo do limite, np.nan para ruído\n",
    "#dados[\"target\"] = np.where(delta > limite, 1, np.where(delta < -limite, 0, np.nan))\n",
    "\n",
    "dados.tail()"
   ]
  },
  {
   "cell_type": "code",
   "execution_count": 989,
   "id": "be806019",
   "metadata": {},
   "outputs": [
    {
     "data": {
      "application/vnd.microsoft.datawrangler.viewer.v0+json": {
       "columns": [
        {
         "name": "data",
         "rawType": "datetime64[ns]",
         "type": "datetime"
        },
        {
         "name": "ultimo",
         "rawType": "int64",
         "type": "integer"
        },
        {
         "name": "abertura",
         "rawType": "int64",
         "type": "integer"
        },
        {
         "name": "maxima",
         "rawType": "int64",
         "type": "integer"
        },
        {
         "name": "minima",
         "rawType": "int64",
         "type": "integer"
        },
        {
         "name": "target",
         "rawType": "int32",
         "type": "integer"
        },
        {
         "name": "lag_1",
         "rawType": "float64",
         "type": "float"
        },
        {
         "name": "lag_2",
         "rawType": "float64",
         "type": "float"
        },
        {
         "name": "lag_3",
         "rawType": "float64",
         "type": "float"
        },
        {
         "name": "lag_4",
         "rawType": "float64",
         "type": "float"
        },
        {
         "name": "lag_5",
         "rawType": "float64",
         "type": "float"
        },
        {
         "name": "lag_6",
         "rawType": "float64",
         "type": "float"
        },
        {
         "name": "lag_7",
         "rawType": "float64",
         "type": "float"
        },
        {
         "name": "lag_8",
         "rawType": "float64",
         "type": "float"
        },
        {
         "name": "lag_9",
         "rawType": "float64",
         "type": "float"
        },
        {
         "name": "lag_10",
         "rawType": "float64",
         "type": "float"
        }
       ],
       "ref": "ebe27e22-bfdb-471b-8b8f-8988f1ce8d17",
       "rows": [
        [
         "2025-06-30 00:00:00",
         "138855",
         "136865",
         "139103",
         "136430",
         "1",
         "0.014532462408487046",
         "0.012697463424595545",
         "0.022744849632090336",
         "0.012320927350271571",
         "0.0168728167497858",
         "0.012682692027188747",
         "0.0009948312030969575",
         "0.00010803802938630369",
         "-0.002879588671224176",
         "0.011966796149052827"
        ],
        [
         "2025-07-01 00:00:00",
         "139549",
         "138855",
         "139695",
         "138855",
         "0",
         "0.004998019516762042",
         "0.01960311545599347",
         "0.017758945111367108",
         "0.027856548351219423",
         "0.017380527102395016",
         "0.021955166933966153",
         "0.017744099886227716",
         "0.005997822905628114",
         "0.005106597522327894",
         "0.0021040386051589532"
        ],
        [
         "2025-07-02 00:00:00",
         "139051",
         "139586",
         "140049",
         "138384",
         "1",
         "-0.003568638972690552",
         "0.0014115444168376623",
         "0.015964520041500396",
         "0.014126930875038246",
         "0.024188499414437903",
         "0.013749863303320842",
         "0.018308177896902977",
         "0.014112138627147885",
         "0.0024077798683650453",
         "0.0015197349467013233"
        ],
        [
         "2025-07-03 00:00:00",
         "140928",
         "139051",
         "141304",
         "139051",
         "1",
         "0.013498644382277103",
         "0.009881833621165237",
         "0.014929242735227444",
         "0.029678663802551464",
         "0.027816269673410554",
         "0.03801365574845139",
         "0.027434112200634297",
         "0.032053957861897686",
         "0.027801277750226117",
         "0.01593892601483593"
        ],
        [
         "2025-07-04 00:00:00",
         "141264",
         "140928",
         "141564",
         "140597",
         "0",
         "0.0023841961852861804",
         "0.015915023984005794",
         "0.012289590036474562",
         "0.017349033164091976",
         "0.03213361974485984",
         "0.03026678530274074",
         "0.04048848394676163",
         "0.029883716691575746",
         "0.034514576971241606",
         "0.03025175763587029"
        ]
       ],
       "shape": {
        "columns": 15,
        "rows": 5
       }
      },
      "text/html": [
       "<div>\n",
       "<style scoped>\n",
       "    .dataframe tbody tr th:only-of-type {\n",
       "        vertical-align: middle;\n",
       "    }\n",
       "\n",
       "    .dataframe tbody tr th {\n",
       "        vertical-align: top;\n",
       "    }\n",
       "\n",
       "    .dataframe thead th {\n",
       "        text-align: right;\n",
       "    }\n",
       "</style>\n",
       "<table border=\"1\" class=\"dataframe\">\n",
       "  <thead>\n",
       "    <tr style=\"text-align: right;\">\n",
       "      <th></th>\n",
       "      <th>ultimo</th>\n",
       "      <th>abertura</th>\n",
       "      <th>maxima</th>\n",
       "      <th>minima</th>\n",
       "      <th>target</th>\n",
       "      <th>lag_1</th>\n",
       "      <th>lag_2</th>\n",
       "      <th>lag_3</th>\n",
       "      <th>lag_4</th>\n",
       "      <th>lag_5</th>\n",
       "      <th>lag_6</th>\n",
       "      <th>lag_7</th>\n",
       "      <th>lag_8</th>\n",
       "      <th>lag_9</th>\n",
       "      <th>lag_10</th>\n",
       "    </tr>\n",
       "    <tr>\n",
       "      <th>data</th>\n",
       "      <th></th>\n",
       "      <th></th>\n",
       "      <th></th>\n",
       "      <th></th>\n",
       "      <th></th>\n",
       "      <th></th>\n",
       "      <th></th>\n",
       "      <th></th>\n",
       "      <th></th>\n",
       "      <th></th>\n",
       "      <th></th>\n",
       "      <th></th>\n",
       "      <th></th>\n",
       "      <th></th>\n",
       "      <th></th>\n",
       "    </tr>\n",
       "  </thead>\n",
       "  <tbody>\n",
       "    <tr>\n",
       "      <th>2025-06-30</th>\n",
       "      <td>138855</td>\n",
       "      <td>136865</td>\n",
       "      <td>139103</td>\n",
       "      <td>136430</td>\n",
       "      <td>1</td>\n",
       "      <td>0.014532</td>\n",
       "      <td>0.012697</td>\n",
       "      <td>0.022745</td>\n",
       "      <td>0.012321</td>\n",
       "      <td>0.016873</td>\n",
       "      <td>0.012683</td>\n",
       "      <td>0.000995</td>\n",
       "      <td>0.000108</td>\n",
       "      <td>-0.002880</td>\n",
       "      <td>0.011967</td>\n",
       "    </tr>\n",
       "    <tr>\n",
       "      <th>2025-07-01</th>\n",
       "      <td>139549</td>\n",
       "      <td>138855</td>\n",
       "      <td>139695</td>\n",
       "      <td>138855</td>\n",
       "      <td>0</td>\n",
       "      <td>0.004998</td>\n",
       "      <td>0.019603</td>\n",
       "      <td>0.017759</td>\n",
       "      <td>0.027857</td>\n",
       "      <td>0.017381</td>\n",
       "      <td>0.021955</td>\n",
       "      <td>0.017744</td>\n",
       "      <td>0.005998</td>\n",
       "      <td>0.005107</td>\n",
       "      <td>0.002104</td>\n",
       "    </tr>\n",
       "    <tr>\n",
       "      <th>2025-07-02</th>\n",
       "      <td>139051</td>\n",
       "      <td>139586</td>\n",
       "      <td>140049</td>\n",
       "      <td>138384</td>\n",
       "      <td>1</td>\n",
       "      <td>-0.003569</td>\n",
       "      <td>0.001412</td>\n",
       "      <td>0.015965</td>\n",
       "      <td>0.014127</td>\n",
       "      <td>0.024188</td>\n",
       "      <td>0.013750</td>\n",
       "      <td>0.018308</td>\n",
       "      <td>0.014112</td>\n",
       "      <td>0.002408</td>\n",
       "      <td>0.001520</td>\n",
       "    </tr>\n",
       "    <tr>\n",
       "      <th>2025-07-03</th>\n",
       "      <td>140928</td>\n",
       "      <td>139051</td>\n",
       "      <td>141304</td>\n",
       "      <td>139051</td>\n",
       "      <td>1</td>\n",
       "      <td>0.013499</td>\n",
       "      <td>0.009882</td>\n",
       "      <td>0.014929</td>\n",
       "      <td>0.029679</td>\n",
       "      <td>0.027816</td>\n",
       "      <td>0.038014</td>\n",
       "      <td>0.027434</td>\n",
       "      <td>0.032054</td>\n",
       "      <td>0.027801</td>\n",
       "      <td>0.015939</td>\n",
       "    </tr>\n",
       "    <tr>\n",
       "      <th>2025-07-04</th>\n",
       "      <td>141264</td>\n",
       "      <td>140928</td>\n",
       "      <td>141564</td>\n",
       "      <td>140597</td>\n",
       "      <td>0</td>\n",
       "      <td>0.002384</td>\n",
       "      <td>0.015915</td>\n",
       "      <td>0.012290</td>\n",
       "      <td>0.017349</td>\n",
       "      <td>0.032134</td>\n",
       "      <td>0.030267</td>\n",
       "      <td>0.040488</td>\n",
       "      <td>0.029884</td>\n",
       "      <td>0.034515</td>\n",
       "      <td>0.030252</td>\n",
       "    </tr>\n",
       "  </tbody>\n",
       "</table>\n",
       "</div>"
      ],
      "text/plain": [
       "            ultimo  abertura  maxima  minima  target     lag_1     lag_2  \\\n",
       "data                                                                       \n",
       "2025-06-30  138855    136865  139103  136430       1  0.014532  0.012697   \n",
       "2025-07-01  139549    138855  139695  138855       0  0.004998  0.019603   \n",
       "2025-07-02  139051    139586  140049  138384       1 -0.003569  0.001412   \n",
       "2025-07-03  140928    139051  141304  139051       1  0.013499  0.009882   \n",
       "2025-07-04  141264    140928  141564  140597       0  0.002384  0.015915   \n",
       "\n",
       "               lag_3     lag_4     lag_5     lag_6     lag_7     lag_8  \\\n",
       "data                                                                     \n",
       "2025-06-30  0.022745  0.012321  0.016873  0.012683  0.000995  0.000108   \n",
       "2025-07-01  0.017759  0.027857  0.017381  0.021955  0.017744  0.005998   \n",
       "2025-07-02  0.015965  0.014127  0.024188  0.013750  0.018308  0.014112   \n",
       "2025-07-03  0.014929  0.029679  0.027816  0.038014  0.027434  0.032054   \n",
       "2025-07-04  0.012290  0.017349  0.032134  0.030267  0.040488  0.029884   \n",
       "\n",
       "               lag_9    lag_10  \n",
       "data                            \n",
       "2025-06-30 -0.002880  0.011967  \n",
       "2025-07-01  0.005107  0.002104  \n",
       "2025-07-02  0.002408  0.001520  \n",
       "2025-07-03  0.027801  0.015939  \n",
       "2025-07-04  0.034515  0.030252  "
      ]
     },
     "execution_count": 989,
     "metadata": {},
     "output_type": "execute_result"
    }
   ],
   "source": [
    "# Criar as variações percentuais (lags) --> Comparar percentualmente o dia de hoje com n dias anteriores\n",
    "# Features Defasadas (Lagged Features) --> Os preços e volumes dos dias anteriores são informações muito importantes\n",
    "\n",
    "qtd_lags = 10\n",
    "\n",
    "for i in range (1, qtd_lags+1):\n",
    "    dados[f\"lag_{i}\"] = dados[\"ultimo\"].pct_change(i)\n",
    "\n",
    "dados.tail()"
   ]
  },
  {
   "cell_type": "code",
   "execution_count": 990,
   "id": "b12c97f8",
   "metadata": {},
   "outputs": [],
   "source": [
    "# Criar médias moveis\n",
    "\n",
    "#dias_medias = [5, 22, 66, 132, 252] \n",
    "dias_medias = [5, 22, 66] \n",
    "\n",
    "criar_media = \"Não\"\n",
    "\n",
    "if criar_media == \"Sim\":\n",
    "    \n",
    "    for dias in dias_medias:\n",
    "        dados[f\"MA_{dias}\"] = dados[\"ultimo\"].rolling(window=dias).mean().shift(1)\n",
    "\n",
    "    dados.tail()"
   ]
  },
  {
   "cell_type": "code",
   "execution_count": 991,
   "id": "764384de",
   "metadata": {},
   "outputs": [],
   "source": [
    "# Criar Volatilidade\n",
    "\n",
    "criar_volatilidade = \"Sim\"\n",
    "\n",
    "if criar_volatilidade == \"Sim\":\n",
    "    dados[\"Volatilidade\"] = dados[\"maxima\"] - dados[\"minima\"]\n",
    "    dados[\"Volatilidade_relativa\"] = dados[\"Volatilidade\"] / dados[\"minima\"]\n",
    "\n",
    "    dados.tail()"
   ]
  },
  {
   "cell_type": "code",
   "execution_count": 992,
   "id": "f653012c",
   "metadata": {},
   "outputs": [],
   "source": [
    "# Criar restante dos indicadores tecnicos\n",
    "# mme --> Média Móvel Exponencial (EMA - Exponential Moving Average): Semelhante à SMA, mas dá mais peso aos preços mais recentes, reagindo mais rápido a mudanças\n",
    "# rsi --> Índice de Força Relativa (RSI - Relative Strength Index): Mede a velocidade e a mudança dos movimentos de preços, indicando se um ativo está sobrecomprado ou sobrevendido.\n",
    "# macd --> Convergência e Divergência de Médias Móveis (MACD - Moving Average Convergence Divergence): Usa duas médias móveis exponenciais para gerar sinais de compra e venda\n",
    "# bbands --> Bandas de Bollinger (Bollinger Bands): Medem a volatilidade do mercado, consistindo em uma média móvel (banda do meio) e duas bandas de desvio padrão (superior e inferior)\n",
    "# stoch --> Oscilador Estocástico (%K e %D): Compara o preço de fechamento de um ativo com sua faixa de preço durante um determinado período\n",
    "\n",
    "custom_strategy = ta.Strategy(\n",
    "    name=\"Estrategia Mista\",\n",
    "    description=\"SMA, EMA, RSI, MACD, BBands, e Stochastic\",\n",
    "    ta=[\n",
    "        {\"kind\": \"ema\", \"length\": 20},\n",
    "        {\"kind\": \"rsi\", \"length\": 14},\n",
    "        {\"kind\": \"macd\", \"fast\": 12, \"slow\": 26, \"signal\": 9},\n",
    "        {\"kind\": \"bbands\", \"length\": 20, \"std\": 2},\n",
    "        {\"kind\": \"stoch\", \"k\": 14, \"d\": 3}\n",
    "    ]\n",
    ")\n",
    "\n",
    "incluir_dados = \"Não\"\n",
    "\n",
    "if incluir_dados == \"Sim\":\n",
    "    dados = dados.rename(columns={\"ultimo\":\"close\", \"abertura\":\"open\", \"maxima\":\"high\", \"minima\":\"low\"})\n",
    "    dados.ta.strategy(custom_strategy)\n",
    "    dados = dados.rename(columns={\"close\":\"ultimo\", \"open\":\"abertura\", \"high\":\"maxima\", \"low\":\"minima\"})\n",
    "    dados.tail()\n"
   ]
  },
  {
   "cell_type": "code",
   "execution_count": 993,
   "id": "9ee2d1c7",
   "metadata": {},
   "outputs": [
    {
     "data": {
      "application/vnd.microsoft.datawrangler.viewer.v0+json": {
       "columns": [
        {
         "name": "data",
         "rawType": "datetime64[ns]",
         "type": "datetime"
        },
        {
         "name": "ultimo",
         "rawType": "float64",
         "type": "float"
        },
        {
         "name": "abertura",
         "rawType": "float64",
         "type": "float"
        },
        {
         "name": "maxima",
         "rawType": "float64",
         "type": "float"
        },
        {
         "name": "minima",
         "rawType": "float64",
         "type": "float"
        },
        {
         "name": "target",
         "rawType": "int32",
         "type": "integer"
        },
        {
         "name": "lag_1",
         "rawType": "float64",
         "type": "float"
        },
        {
         "name": "lag_2",
         "rawType": "float64",
         "type": "float"
        },
        {
         "name": "lag_3",
         "rawType": "float64",
         "type": "float"
        },
        {
         "name": "lag_4",
         "rawType": "float64",
         "type": "float"
        },
        {
         "name": "lag_5",
         "rawType": "float64",
         "type": "float"
        },
        {
         "name": "lag_6",
         "rawType": "float64",
         "type": "float"
        },
        {
         "name": "lag_7",
         "rawType": "float64",
         "type": "float"
        },
        {
         "name": "lag_8",
         "rawType": "float64",
         "type": "float"
        },
        {
         "name": "lag_9",
         "rawType": "float64",
         "type": "float"
        },
        {
         "name": "lag_10",
         "rawType": "float64",
         "type": "float"
        },
        {
         "name": "Volatilidade",
         "rawType": "float64",
         "type": "float"
        },
        {
         "name": "Volatilidade_relativa",
         "rawType": "float64",
         "type": "float"
        }
       ],
       "ref": "22cdd710-da75-43a7-836d-aff54d8cc121",
       "rows": [
        [
         "2025-06-30 00:00:00",
         "136866.0",
         "137113.0",
         "137209.0",
         "136469.0",
         "1",
         "-0.0018087139168866395",
         "0.00809475056530684",
         "-0.002179856377355738",
         "0.0023068304150097863",
         "-0.0018232737244376906",
         "-0.013343714180670041",
         "-0.014217804667242873",
         "-0.017162635721261532",
         "-0.0025289148987340804",
         "-0.006777939042090009",
         "740.0",
         "0.005422476899515641"
        ],
        [
         "2025-07-01 00:00:00",
         "138855.0",
         "136865.0",
         "139103.0",
         "136430.0",
         "0",
         "0.014532462408487046",
         "0.012697463424595545",
         "0.022744849632090336",
         "0.012320927350271571",
         "0.0168728167497858",
         "0.012682692027188747",
         "0.0009948312030969575",
         "0.00010803802938630369",
         "-0.002879588671224176",
         "0.011966796149052827",
         "2673.0",
         "0.019592465000366488"
        ],
        [
         "2025-07-02 00:00:00",
         "139549.0",
         "138855.0",
         "139695.0",
         "138855.0",
         "1",
         "0.004998019516762042",
         "0.01960311545599347",
         "0.017758945111367108",
         "0.027856548351219423",
         "0.017380527102395016",
         "0.021955166933966153",
         "0.017744099886227716",
         "0.005997822905628114",
         "0.005106597522327894",
         "0.0021040386051589532",
         "840.0",
         "0.006049476072161607"
        ],
        [
         "2025-07-03 00:00:00",
         "139051.0",
         "139586.0",
         "140049.0",
         "138384.0",
         "1",
         "-0.003568638972690552",
         "0.0014115444168376623",
         "0.015964520041500396",
         "0.014126930875038246",
         "0.024188499414437903",
         "0.013749863303320842",
         "0.018308177896902977",
         "0.014112138627147885",
         "0.0024077798683650453",
         "0.0015197349467013233",
         "1665.0",
         "0.012031737773152966"
        ],
        [
         "2025-07-04 00:00:00",
         "140928.0",
         "139051.0",
         "141304.0",
         "139051.0",
         "0",
         "0.013498644382277103",
         "0.009881833621165237",
         "0.014929242735227444",
         "0.029678663802551464",
         "0.027816269673410554",
         "0.03801365574845139",
         "0.027434112200634297",
         "0.032053957861897686",
         "0.027801277750226117",
         "0.01593892601483593",
         "2253.0",
         "0.016202688222306923"
        ]
       ],
       "shape": {
        "columns": 17,
        "rows": 5
       }
      },
      "text/html": [
       "<div>\n",
       "<style scoped>\n",
       "    .dataframe tbody tr th:only-of-type {\n",
       "        vertical-align: middle;\n",
       "    }\n",
       "\n",
       "    .dataframe tbody tr th {\n",
       "        vertical-align: top;\n",
       "    }\n",
       "\n",
       "    .dataframe thead th {\n",
       "        text-align: right;\n",
       "    }\n",
       "</style>\n",
       "<table border=\"1\" class=\"dataframe\">\n",
       "  <thead>\n",
       "    <tr style=\"text-align: right;\">\n",
       "      <th></th>\n",
       "      <th>ultimo</th>\n",
       "      <th>abertura</th>\n",
       "      <th>maxima</th>\n",
       "      <th>minima</th>\n",
       "      <th>target</th>\n",
       "      <th>lag_1</th>\n",
       "      <th>lag_2</th>\n",
       "      <th>lag_3</th>\n",
       "      <th>lag_4</th>\n",
       "      <th>lag_5</th>\n",
       "      <th>lag_6</th>\n",
       "      <th>lag_7</th>\n",
       "      <th>lag_8</th>\n",
       "      <th>lag_9</th>\n",
       "      <th>lag_10</th>\n",
       "      <th>Volatilidade</th>\n",
       "      <th>Volatilidade_relativa</th>\n",
       "    </tr>\n",
       "    <tr>\n",
       "      <th>data</th>\n",
       "      <th></th>\n",
       "      <th></th>\n",
       "      <th></th>\n",
       "      <th></th>\n",
       "      <th></th>\n",
       "      <th></th>\n",
       "      <th></th>\n",
       "      <th></th>\n",
       "      <th></th>\n",
       "      <th></th>\n",
       "      <th></th>\n",
       "      <th></th>\n",
       "      <th></th>\n",
       "      <th></th>\n",
       "      <th></th>\n",
       "      <th></th>\n",
       "      <th></th>\n",
       "    </tr>\n",
       "  </thead>\n",
       "  <tbody>\n",
       "    <tr>\n",
       "      <th>2025-06-30</th>\n",
       "      <td>136866.0</td>\n",
       "      <td>137113.0</td>\n",
       "      <td>137209.0</td>\n",
       "      <td>136469.0</td>\n",
       "      <td>1</td>\n",
       "      <td>-0.001809</td>\n",
       "      <td>0.008095</td>\n",
       "      <td>-0.002180</td>\n",
       "      <td>0.002307</td>\n",
       "      <td>-0.001823</td>\n",
       "      <td>-0.013344</td>\n",
       "      <td>-0.014218</td>\n",
       "      <td>-0.017163</td>\n",
       "      <td>-0.002529</td>\n",
       "      <td>-0.006778</td>\n",
       "      <td>740.0</td>\n",
       "      <td>0.005422</td>\n",
       "    </tr>\n",
       "    <tr>\n",
       "      <th>2025-07-01</th>\n",
       "      <td>138855.0</td>\n",
       "      <td>136865.0</td>\n",
       "      <td>139103.0</td>\n",
       "      <td>136430.0</td>\n",
       "      <td>0</td>\n",
       "      <td>0.014532</td>\n",
       "      <td>0.012697</td>\n",
       "      <td>0.022745</td>\n",
       "      <td>0.012321</td>\n",
       "      <td>0.016873</td>\n",
       "      <td>0.012683</td>\n",
       "      <td>0.000995</td>\n",
       "      <td>0.000108</td>\n",
       "      <td>-0.002880</td>\n",
       "      <td>0.011967</td>\n",
       "      <td>2673.0</td>\n",
       "      <td>0.019592</td>\n",
       "    </tr>\n",
       "    <tr>\n",
       "      <th>2025-07-02</th>\n",
       "      <td>139549.0</td>\n",
       "      <td>138855.0</td>\n",
       "      <td>139695.0</td>\n",
       "      <td>138855.0</td>\n",
       "      <td>1</td>\n",
       "      <td>0.004998</td>\n",
       "      <td>0.019603</td>\n",
       "      <td>0.017759</td>\n",
       "      <td>0.027857</td>\n",
       "      <td>0.017381</td>\n",
       "      <td>0.021955</td>\n",
       "      <td>0.017744</td>\n",
       "      <td>0.005998</td>\n",
       "      <td>0.005107</td>\n",
       "      <td>0.002104</td>\n",
       "      <td>840.0</td>\n",
       "      <td>0.006049</td>\n",
       "    </tr>\n",
       "    <tr>\n",
       "      <th>2025-07-03</th>\n",
       "      <td>139051.0</td>\n",
       "      <td>139586.0</td>\n",
       "      <td>140049.0</td>\n",
       "      <td>138384.0</td>\n",
       "      <td>1</td>\n",
       "      <td>-0.003569</td>\n",
       "      <td>0.001412</td>\n",
       "      <td>0.015965</td>\n",
       "      <td>0.014127</td>\n",
       "      <td>0.024188</td>\n",
       "      <td>0.013750</td>\n",
       "      <td>0.018308</td>\n",
       "      <td>0.014112</td>\n",
       "      <td>0.002408</td>\n",
       "      <td>0.001520</td>\n",
       "      <td>1665.0</td>\n",
       "      <td>0.012032</td>\n",
       "    </tr>\n",
       "    <tr>\n",
       "      <th>2025-07-04</th>\n",
       "      <td>140928.0</td>\n",
       "      <td>139051.0</td>\n",
       "      <td>141304.0</td>\n",
       "      <td>139051.0</td>\n",
       "      <td>0</td>\n",
       "      <td>0.013499</td>\n",
       "      <td>0.009882</td>\n",
       "      <td>0.014929</td>\n",
       "      <td>0.029679</td>\n",
       "      <td>0.027816</td>\n",
       "      <td>0.038014</td>\n",
       "      <td>0.027434</td>\n",
       "      <td>0.032054</td>\n",
       "      <td>0.027801</td>\n",
       "      <td>0.015939</td>\n",
       "      <td>2253.0</td>\n",
       "      <td>0.016203</td>\n",
       "    </tr>\n",
       "  </tbody>\n",
       "</table>\n",
       "</div>"
      ],
      "text/plain": [
       "              ultimo  abertura    maxima    minima  target     lag_1  \\\n",
       "data                                                                   \n",
       "2025-06-30  136866.0  137113.0  137209.0  136469.0       1 -0.001809   \n",
       "2025-07-01  138855.0  136865.0  139103.0  136430.0       0  0.014532   \n",
       "2025-07-02  139549.0  138855.0  139695.0  138855.0       1  0.004998   \n",
       "2025-07-03  139051.0  139586.0  140049.0  138384.0       1 -0.003569   \n",
       "2025-07-04  140928.0  139051.0  141304.0  139051.0       0  0.013499   \n",
       "\n",
       "               lag_2     lag_3     lag_4     lag_5     lag_6     lag_7  \\\n",
       "data                                                                     \n",
       "2025-06-30  0.008095 -0.002180  0.002307 -0.001823 -0.013344 -0.014218   \n",
       "2025-07-01  0.012697  0.022745  0.012321  0.016873  0.012683  0.000995   \n",
       "2025-07-02  0.019603  0.017759  0.027857  0.017381  0.021955  0.017744   \n",
       "2025-07-03  0.001412  0.015965  0.014127  0.024188  0.013750  0.018308   \n",
       "2025-07-04  0.009882  0.014929  0.029679  0.027816  0.038014  0.027434   \n",
       "\n",
       "               lag_8     lag_9    lag_10  Volatilidade  Volatilidade_relativa  \n",
       "data                                                                           \n",
       "2025-06-30 -0.017163 -0.002529 -0.006778         740.0               0.005422  \n",
       "2025-07-01  0.000108 -0.002880  0.011967        2673.0               0.019592  \n",
       "2025-07-02  0.005998  0.005107  0.002104         840.0               0.006049  \n",
       "2025-07-03  0.014112  0.002408  0.001520        1665.0               0.012032  \n",
       "2025-07-04  0.032054  0.027801  0.015939        2253.0               0.016203  "
      ]
     },
     "execution_count": 993,
     "metadata": {},
     "output_type": "execute_result"
    }
   ],
   "source": [
    "# Tratar o data frame para evitar o data leakage --> empurrar os dados para a linha de baixo\n",
    "\n",
    "colunas_excluir = [\"target\"]\n",
    "features_a_deslocar = [col for col in dados.columns if col not in colunas_excluir]\n",
    "\n",
    "dados[features_a_deslocar] = dados[features_a_deslocar].shift(1)\n",
    "\n",
    "dados.tail()"
   ]
  },
  {
   "cell_type": "code",
   "execution_count": 994,
   "id": "7744068e",
   "metadata": {},
   "outputs": [
    {
     "data": {
      "application/vnd.microsoft.datawrangler.viewer.v0+json": {
       "columns": [
        {
         "name": "data",
         "rawType": "datetime64[ns]",
         "type": "datetime"
        },
        {
         "name": "ultimo",
         "rawType": "float64",
         "type": "float"
        },
        {
         "name": "abertura",
         "rawType": "float64",
         "type": "float"
        },
        {
         "name": "maxima",
         "rawType": "float64",
         "type": "float"
        },
        {
         "name": "minima",
         "rawType": "float64",
         "type": "float"
        },
        {
         "name": "target",
         "rawType": "int32",
         "type": "integer"
        },
        {
         "name": "lag_1",
         "rawType": "float64",
         "type": "float"
        },
        {
         "name": "lag_2",
         "rawType": "float64",
         "type": "float"
        },
        {
         "name": "lag_3",
         "rawType": "float64",
         "type": "float"
        },
        {
         "name": "lag_4",
         "rawType": "float64",
         "type": "float"
        },
        {
         "name": "lag_5",
         "rawType": "float64",
         "type": "float"
        },
        {
         "name": "lag_6",
         "rawType": "float64",
         "type": "float"
        },
        {
         "name": "lag_7",
         "rawType": "float64",
         "type": "float"
        },
        {
         "name": "lag_8",
         "rawType": "float64",
         "type": "float"
        },
        {
         "name": "lag_9",
         "rawType": "float64",
         "type": "float"
        },
        {
         "name": "lag_10",
         "rawType": "float64",
         "type": "float"
        },
        {
         "name": "Volatilidade",
         "rawType": "float64",
         "type": "float"
        },
        {
         "name": "Volatilidade_relativa",
         "rawType": "float64",
         "type": "float"
        }
       ],
       "ref": "09a99836-31c4-4d6f-9e54-b329fd13dbc7",
       "rows": [
        [
         "1995-01-17 00:00:00",
         "4056.0",
         "4104.0",
         "4104.0",
         "3865.0",
         "0",
         "-0.011695906432748537",
         "0.05597500650872167",
         "0.15918833952557865",
         "0.2403669724770643",
         "0.11797133406835725",
         "0.059837993206166784",
         "0.004706465196928411",
         "0.022177419354838745",
         "-0.010248901903367469",
         "-0.05696349686119506",
         "239.0",
         "0.061836998706338936"
        ],
        [
         "1995-01-18 00:00:00",
         "4210.0",
         "4056.0",
         "4256.0",
         "3985.0",
         "0",
         "0.03796844181459558",
         "0.025828460038986423",
         "0.09606873210101541",
         "0.2032009145470135",
         "0.2874617737003058",
         "0.16041896361631758",
         "0.10007839038411293",
         "0.042853604161505965",
         "0.060987903225806495",
         "0.027330405075646658",
         "271.0",
         "0.06800501882057716"
        ],
        [
         "1995-01-19 00:00:00",
         "4078.0",
         "4210.0",
         "4221.0",
         "4078.0",
         "1",
         "-0.03135391923990494",
         "0.005424063116370892",
         "-0.006335282651072083",
         "0.06170268159333503",
         "0.16547585024292655",
         "0.24709480122324168",
         "0.1240352811466372",
         "0.06558662137444471",
         "0.010156056477582442",
         "0.027721774193548487",
         "143.0",
         "0.03506620892594409"
        ],
        [
         "1995-01-20 00:00:00",
         "3809.0",
         "4078.0",
         "4078.0",
         "3776.0",
         "0",
         "-0.06596370769985282",
         "-0.09524940617577193",
         "-0.0608974358974359",
         "-0.07188109161793377",
         "-0.008331163759437654",
         "0.08859674192626454",
         "0.16483180428134547",
         "0.049889746416758474",
         "-0.004703423046772959",
         "-0.05647758236314093",
         "302.0",
         "0.07997881355932203"
        ],
        [
         "1995-01-23 00:00:00",
         "3862.0",
         "3809.0",
         "3871.0",
         "3635.0",
         "1",
         "0.013914413231819411",
         "-0.0529671407552722",
         "-0.08266033254156768",
         "-0.04783037475345164",
         "-0.058966861598440556",
         "0.0054673262171309744",
         "0.10374392683623901",
         "0.18103975535168204",
         "0.06449834619625139",
         "0.009145544813169648",
         "236.0",
         "0.06492434662998625"
        ]
       ],
       "shape": {
        "columns": 17,
        "rows": 5
       }
      },
      "text/html": [
       "<div>\n",
       "<style scoped>\n",
       "    .dataframe tbody tr th:only-of-type {\n",
       "        vertical-align: middle;\n",
       "    }\n",
       "\n",
       "    .dataframe tbody tr th {\n",
       "        vertical-align: top;\n",
       "    }\n",
       "\n",
       "    .dataframe thead th {\n",
       "        text-align: right;\n",
       "    }\n",
       "</style>\n",
       "<table border=\"1\" class=\"dataframe\">\n",
       "  <thead>\n",
       "    <tr style=\"text-align: right;\">\n",
       "      <th></th>\n",
       "      <th>ultimo</th>\n",
       "      <th>abertura</th>\n",
       "      <th>maxima</th>\n",
       "      <th>minima</th>\n",
       "      <th>target</th>\n",
       "      <th>lag_1</th>\n",
       "      <th>lag_2</th>\n",
       "      <th>lag_3</th>\n",
       "      <th>lag_4</th>\n",
       "      <th>lag_5</th>\n",
       "      <th>lag_6</th>\n",
       "      <th>lag_7</th>\n",
       "      <th>lag_8</th>\n",
       "      <th>lag_9</th>\n",
       "      <th>lag_10</th>\n",
       "      <th>Volatilidade</th>\n",
       "      <th>Volatilidade_relativa</th>\n",
       "    </tr>\n",
       "    <tr>\n",
       "      <th>data</th>\n",
       "      <th></th>\n",
       "      <th></th>\n",
       "      <th></th>\n",
       "      <th></th>\n",
       "      <th></th>\n",
       "      <th></th>\n",
       "      <th></th>\n",
       "      <th></th>\n",
       "      <th></th>\n",
       "      <th></th>\n",
       "      <th></th>\n",
       "      <th></th>\n",
       "      <th></th>\n",
       "      <th></th>\n",
       "      <th></th>\n",
       "      <th></th>\n",
       "      <th></th>\n",
       "    </tr>\n",
       "  </thead>\n",
       "  <tbody>\n",
       "    <tr>\n",
       "      <th>1995-01-17</th>\n",
       "      <td>4056.0</td>\n",
       "      <td>4104.0</td>\n",
       "      <td>4104.0</td>\n",
       "      <td>3865.0</td>\n",
       "      <td>0</td>\n",
       "      <td>-0.011696</td>\n",
       "      <td>0.055975</td>\n",
       "      <td>0.159188</td>\n",
       "      <td>0.240367</td>\n",
       "      <td>0.117971</td>\n",
       "      <td>0.059838</td>\n",
       "      <td>0.004706</td>\n",
       "      <td>0.022177</td>\n",
       "      <td>-0.010249</td>\n",
       "      <td>-0.056963</td>\n",
       "      <td>239.0</td>\n",
       "      <td>0.061837</td>\n",
       "    </tr>\n",
       "    <tr>\n",
       "      <th>1995-01-18</th>\n",
       "      <td>4210.0</td>\n",
       "      <td>4056.0</td>\n",
       "      <td>4256.0</td>\n",
       "      <td>3985.0</td>\n",
       "      <td>0</td>\n",
       "      <td>0.037968</td>\n",
       "      <td>0.025828</td>\n",
       "      <td>0.096069</td>\n",
       "      <td>0.203201</td>\n",
       "      <td>0.287462</td>\n",
       "      <td>0.160419</td>\n",
       "      <td>0.100078</td>\n",
       "      <td>0.042854</td>\n",
       "      <td>0.060988</td>\n",
       "      <td>0.027330</td>\n",
       "      <td>271.0</td>\n",
       "      <td>0.068005</td>\n",
       "    </tr>\n",
       "    <tr>\n",
       "      <th>1995-01-19</th>\n",
       "      <td>4078.0</td>\n",
       "      <td>4210.0</td>\n",
       "      <td>4221.0</td>\n",
       "      <td>4078.0</td>\n",
       "      <td>1</td>\n",
       "      <td>-0.031354</td>\n",
       "      <td>0.005424</td>\n",
       "      <td>-0.006335</td>\n",
       "      <td>0.061703</td>\n",
       "      <td>0.165476</td>\n",
       "      <td>0.247095</td>\n",
       "      <td>0.124035</td>\n",
       "      <td>0.065587</td>\n",
       "      <td>0.010156</td>\n",
       "      <td>0.027722</td>\n",
       "      <td>143.0</td>\n",
       "      <td>0.035066</td>\n",
       "    </tr>\n",
       "    <tr>\n",
       "      <th>1995-01-20</th>\n",
       "      <td>3809.0</td>\n",
       "      <td>4078.0</td>\n",
       "      <td>4078.0</td>\n",
       "      <td>3776.0</td>\n",
       "      <td>0</td>\n",
       "      <td>-0.065964</td>\n",
       "      <td>-0.095249</td>\n",
       "      <td>-0.060897</td>\n",
       "      <td>-0.071881</td>\n",
       "      <td>-0.008331</td>\n",
       "      <td>0.088597</td>\n",
       "      <td>0.164832</td>\n",
       "      <td>0.049890</td>\n",
       "      <td>-0.004703</td>\n",
       "      <td>-0.056478</td>\n",
       "      <td>302.0</td>\n",
       "      <td>0.079979</td>\n",
       "    </tr>\n",
       "    <tr>\n",
       "      <th>1995-01-23</th>\n",
       "      <td>3862.0</td>\n",
       "      <td>3809.0</td>\n",
       "      <td>3871.0</td>\n",
       "      <td>3635.0</td>\n",
       "      <td>1</td>\n",
       "      <td>0.013914</td>\n",
       "      <td>-0.052967</td>\n",
       "      <td>-0.082660</td>\n",
       "      <td>-0.047830</td>\n",
       "      <td>-0.058967</td>\n",
       "      <td>0.005467</td>\n",
       "      <td>0.103744</td>\n",
       "      <td>0.181040</td>\n",
       "      <td>0.064498</td>\n",
       "      <td>0.009146</td>\n",
       "      <td>236.0</td>\n",
       "      <td>0.064924</td>\n",
       "    </tr>\n",
       "  </tbody>\n",
       "</table>\n",
       "</div>"
      ],
      "text/plain": [
       "            ultimo  abertura  maxima  minima  target     lag_1     lag_2  \\\n",
       "data                                                                       \n",
       "1995-01-17  4056.0    4104.0  4104.0  3865.0       0 -0.011696  0.055975   \n",
       "1995-01-18  4210.0    4056.0  4256.0  3985.0       0  0.037968  0.025828   \n",
       "1995-01-19  4078.0    4210.0  4221.0  4078.0       1 -0.031354  0.005424   \n",
       "1995-01-20  3809.0    4078.0  4078.0  3776.0       0 -0.065964 -0.095249   \n",
       "1995-01-23  3862.0    3809.0  3871.0  3635.0       1  0.013914 -0.052967   \n",
       "\n",
       "               lag_3     lag_4     lag_5     lag_6     lag_7     lag_8  \\\n",
       "data                                                                     \n",
       "1995-01-17  0.159188  0.240367  0.117971  0.059838  0.004706  0.022177   \n",
       "1995-01-18  0.096069  0.203201  0.287462  0.160419  0.100078  0.042854   \n",
       "1995-01-19 -0.006335  0.061703  0.165476  0.247095  0.124035  0.065587   \n",
       "1995-01-20 -0.060897 -0.071881 -0.008331  0.088597  0.164832  0.049890   \n",
       "1995-01-23 -0.082660 -0.047830 -0.058967  0.005467  0.103744  0.181040   \n",
       "\n",
       "               lag_9    lag_10  Volatilidade  Volatilidade_relativa  \n",
       "data                                                                 \n",
       "1995-01-17 -0.010249 -0.056963         239.0               0.061837  \n",
       "1995-01-18  0.060988  0.027330         271.0               0.068005  \n",
       "1995-01-19  0.010156  0.027722         143.0               0.035066  \n",
       "1995-01-20 -0.004703 -0.056478         302.0               0.079979  \n",
       "1995-01-23  0.064498  0.009146         236.0               0.064924  "
      ]
     },
     "execution_count": 994,
     "metadata": {},
     "output_type": "execute_result"
    }
   ],
   "source": [
    "# Excluir do data frame os registros vazios\n",
    "\n",
    "dados = dados.dropna()\n",
    "dados.head()"
   ]
  },
  {
   "cell_type": "markdown",
   "id": "ef02875f",
   "metadata": {},
   "source": [
    "##### Separar a base entre treino e teste"
   ]
  },
  {
   "cell_type": "code",
   "execution_count": 995,
   "id": "647767f6",
   "metadata": {},
   "outputs": [],
   "source": [
    "# Gerar datas para filtrar treino e teste \n",
    "\n",
    "# Definir o ano e mês do intervalo + anos \n",
    "ano = 2025\n",
    "mes = 6\n",
    "anos = 10\n",
    "\n",
    "# Gerar as variaveis \n",
    "data_inicio_teste = pd.to_datetime(date(ano, mes, 1))\n",
    "ultimo_dia = calendar.monthrange(ano, mes)[1]\n",
    "data_fim_teste = pd.to_datetime(date(ano, mes, ultimo_dia))\n",
    "\n",
    "ano_atual = date.today().year\n",
    "ano_inicio_treino = ano_atual - anos\n",
    "data_inicio_treino = pd.to_datetime(date(ano_inicio_treino,1,1))"
   ]
  },
  {
   "cell_type": "code",
   "execution_count": 996,
   "id": "d1247d41",
   "metadata": {},
   "outputs": [
    {
     "name": "stdout",
     "output_type": "stream",
     "text": [
      "Features (x):\n"
     ]
    },
    {
     "data": {
      "application/vnd.microsoft.datawrangler.viewer.v0+json": {
       "columns": [
        {
         "name": "data",
         "rawType": "datetime64[ns]",
         "type": "datetime"
        },
        {
         "name": "lag_1",
         "rawType": "float64",
         "type": "float"
        },
        {
         "name": "lag_2",
         "rawType": "float64",
         "type": "float"
        },
        {
         "name": "lag_3",
         "rawType": "float64",
         "type": "float"
        },
        {
         "name": "lag_4",
         "rawType": "float64",
         "type": "float"
        },
        {
         "name": "lag_5",
         "rawType": "float64",
         "type": "float"
        },
        {
         "name": "lag_6",
         "rawType": "float64",
         "type": "float"
        },
        {
         "name": "lag_7",
         "rawType": "float64",
         "type": "float"
        },
        {
         "name": "lag_8",
         "rawType": "float64",
         "type": "float"
        },
        {
         "name": "lag_9",
         "rawType": "float64",
         "type": "float"
        },
        {
         "name": "lag_10",
         "rawType": "float64",
         "type": "float"
        },
        {
         "name": "Volatilidade",
         "rawType": "float64",
         "type": "float"
        },
        {
         "name": "Volatilidade_relativa",
         "rawType": "float64",
         "type": "float"
        }
       ],
       "ref": "3d88fb02-e84c-46f0-86fd-48356eb93b67",
       "rows": [
        [
         "2025-06-30 00:00:00",
         "-0.0018087139168866395",
         "0.00809475056530684",
         "-0.002179856377355738",
         "0.0023068304150097863",
         "-0.0018232737244376906",
         "-0.013343714180670041",
         "-0.014217804667242873",
         "-0.017162635721261532",
         "-0.0025289148987340804",
         "-0.006777939042090009",
         "740.0",
         "0.005422476899515641"
        ],
        [
         "2025-07-01 00:00:00",
         "0.014532462408487046",
         "0.012697463424595545",
         "0.022744849632090336",
         "0.012320927350271571",
         "0.0168728167497858",
         "0.012682692027188747",
         "0.0009948312030969575",
         "0.00010803802938630369",
         "-0.002879588671224176",
         "0.011966796149052827",
         "2673.0",
         "0.019592465000366488"
        ],
        [
         "2025-07-02 00:00:00",
         "0.004998019516762042",
         "0.01960311545599347",
         "0.017758945111367108",
         "0.027856548351219423",
         "0.017380527102395016",
         "0.021955166933966153",
         "0.017744099886227716",
         "0.005997822905628114",
         "0.005106597522327894",
         "0.0021040386051589532",
         "840.0",
         "0.006049476072161607"
        ],
        [
         "2025-07-03 00:00:00",
         "-0.003568638972690552",
         "0.0014115444168376623",
         "0.015964520041500396",
         "0.014126930875038246",
         "0.024188499414437903",
         "0.013749863303320842",
         "0.018308177896902977",
         "0.014112138627147885",
         "0.0024077798683650453",
         "0.0015197349467013233",
         "1665.0",
         "0.012031737773152966"
        ],
        [
         "2025-07-04 00:00:00",
         "0.013498644382277103",
         "0.009881833621165237",
         "0.014929242735227444",
         "0.029678663802551464",
         "0.027816269673410554",
         "0.03801365574845139",
         "0.027434112200634297",
         "0.032053957861897686",
         "0.027801277750226117",
         "0.01593892601483593",
         "2253.0",
         "0.016202688222306923"
        ]
       ],
       "shape": {
        "columns": 12,
        "rows": 5
       }
      },
      "text/html": [
       "<div>\n",
       "<style scoped>\n",
       "    .dataframe tbody tr th:only-of-type {\n",
       "        vertical-align: middle;\n",
       "    }\n",
       "\n",
       "    .dataframe tbody tr th {\n",
       "        vertical-align: top;\n",
       "    }\n",
       "\n",
       "    .dataframe thead th {\n",
       "        text-align: right;\n",
       "    }\n",
       "</style>\n",
       "<table border=\"1\" class=\"dataframe\">\n",
       "  <thead>\n",
       "    <tr style=\"text-align: right;\">\n",
       "      <th></th>\n",
       "      <th>lag_1</th>\n",
       "      <th>lag_2</th>\n",
       "      <th>lag_3</th>\n",
       "      <th>lag_4</th>\n",
       "      <th>lag_5</th>\n",
       "      <th>lag_6</th>\n",
       "      <th>lag_7</th>\n",
       "      <th>lag_8</th>\n",
       "      <th>lag_9</th>\n",
       "      <th>lag_10</th>\n",
       "      <th>Volatilidade</th>\n",
       "      <th>Volatilidade_relativa</th>\n",
       "    </tr>\n",
       "    <tr>\n",
       "      <th>data</th>\n",
       "      <th></th>\n",
       "      <th></th>\n",
       "      <th></th>\n",
       "      <th></th>\n",
       "      <th></th>\n",
       "      <th></th>\n",
       "      <th></th>\n",
       "      <th></th>\n",
       "      <th></th>\n",
       "      <th></th>\n",
       "      <th></th>\n",
       "      <th></th>\n",
       "    </tr>\n",
       "  </thead>\n",
       "  <tbody>\n",
       "    <tr>\n",
       "      <th>2025-06-30</th>\n",
       "      <td>-0.001809</td>\n",
       "      <td>0.008095</td>\n",
       "      <td>-0.002180</td>\n",
       "      <td>0.002307</td>\n",
       "      <td>-0.001823</td>\n",
       "      <td>-0.013344</td>\n",
       "      <td>-0.014218</td>\n",
       "      <td>-0.017163</td>\n",
       "      <td>-0.002529</td>\n",
       "      <td>-0.006778</td>\n",
       "      <td>740.0</td>\n",
       "      <td>0.005422</td>\n",
       "    </tr>\n",
       "    <tr>\n",
       "      <th>2025-07-01</th>\n",
       "      <td>0.014532</td>\n",
       "      <td>0.012697</td>\n",
       "      <td>0.022745</td>\n",
       "      <td>0.012321</td>\n",
       "      <td>0.016873</td>\n",
       "      <td>0.012683</td>\n",
       "      <td>0.000995</td>\n",
       "      <td>0.000108</td>\n",
       "      <td>-0.002880</td>\n",
       "      <td>0.011967</td>\n",
       "      <td>2673.0</td>\n",
       "      <td>0.019592</td>\n",
       "    </tr>\n",
       "    <tr>\n",
       "      <th>2025-07-02</th>\n",
       "      <td>0.004998</td>\n",
       "      <td>0.019603</td>\n",
       "      <td>0.017759</td>\n",
       "      <td>0.027857</td>\n",
       "      <td>0.017381</td>\n",
       "      <td>0.021955</td>\n",
       "      <td>0.017744</td>\n",
       "      <td>0.005998</td>\n",
       "      <td>0.005107</td>\n",
       "      <td>0.002104</td>\n",
       "      <td>840.0</td>\n",
       "      <td>0.006049</td>\n",
       "    </tr>\n",
       "    <tr>\n",
       "      <th>2025-07-03</th>\n",
       "      <td>-0.003569</td>\n",
       "      <td>0.001412</td>\n",
       "      <td>0.015965</td>\n",
       "      <td>0.014127</td>\n",
       "      <td>0.024188</td>\n",
       "      <td>0.013750</td>\n",
       "      <td>0.018308</td>\n",
       "      <td>0.014112</td>\n",
       "      <td>0.002408</td>\n",
       "      <td>0.001520</td>\n",
       "      <td>1665.0</td>\n",
       "      <td>0.012032</td>\n",
       "    </tr>\n",
       "    <tr>\n",
       "      <th>2025-07-04</th>\n",
       "      <td>0.013499</td>\n",
       "      <td>0.009882</td>\n",
       "      <td>0.014929</td>\n",
       "      <td>0.029679</td>\n",
       "      <td>0.027816</td>\n",
       "      <td>0.038014</td>\n",
       "      <td>0.027434</td>\n",
       "      <td>0.032054</td>\n",
       "      <td>0.027801</td>\n",
       "      <td>0.015939</td>\n",
       "      <td>2253.0</td>\n",
       "      <td>0.016203</td>\n",
       "    </tr>\n",
       "  </tbody>\n",
       "</table>\n",
       "</div>"
      ],
      "text/plain": [
       "               lag_1     lag_2     lag_3     lag_4     lag_5     lag_6  \\\n",
       "data                                                                     \n",
       "2025-06-30 -0.001809  0.008095 -0.002180  0.002307 -0.001823 -0.013344   \n",
       "2025-07-01  0.014532  0.012697  0.022745  0.012321  0.016873  0.012683   \n",
       "2025-07-02  0.004998  0.019603  0.017759  0.027857  0.017381  0.021955   \n",
       "2025-07-03 -0.003569  0.001412  0.015965  0.014127  0.024188  0.013750   \n",
       "2025-07-04  0.013499  0.009882  0.014929  0.029679  0.027816  0.038014   \n",
       "\n",
       "               lag_7     lag_8     lag_9    lag_10  Volatilidade  \\\n",
       "data                                                               \n",
       "2025-06-30 -0.014218 -0.017163 -0.002529 -0.006778         740.0   \n",
       "2025-07-01  0.000995  0.000108 -0.002880  0.011967        2673.0   \n",
       "2025-07-02  0.017744  0.005998  0.005107  0.002104         840.0   \n",
       "2025-07-03  0.018308  0.014112  0.002408  0.001520        1665.0   \n",
       "2025-07-04  0.027434  0.032054  0.027801  0.015939        2253.0   \n",
       "\n",
       "            Volatilidade_relativa  \n",
       "data                               \n",
       "2025-06-30               0.005422  \n",
       "2025-07-01               0.019592  \n",
       "2025-07-02               0.006049  \n",
       "2025-07-03               0.012032  \n",
       "2025-07-04               0.016203  "
      ]
     },
     "metadata": {},
     "output_type": "display_data"
    },
    {
     "name": "stdout",
     "output_type": "stream",
     "text": [
      "\n",
      "Alvo (y):\n"
     ]
    },
    {
     "data": {
      "application/vnd.microsoft.datawrangler.viewer.v0+json": {
       "columns": [
        {
         "name": "data",
         "rawType": "datetime64[ns]",
         "type": "datetime"
        },
        {
         "name": "target",
         "rawType": "int32",
         "type": "integer"
        }
       ],
       "ref": "0690b734-f560-4bf7-a13b-1bbeefb7426a",
       "rows": [
        [
         "2025-06-30 00:00:00",
         "1"
        ],
        [
         "2025-07-01 00:00:00",
         "0"
        ],
        [
         "2025-07-02 00:00:00",
         "1"
        ],
        [
         "2025-07-03 00:00:00",
         "1"
        ],
        [
         "2025-07-04 00:00:00",
         "0"
        ]
       ],
       "shape": {
        "columns": 1,
        "rows": 5
       }
      },
      "text/plain": [
       "data\n",
       "2025-06-30    1\n",
       "2025-07-01    0\n",
       "2025-07-02    1\n",
       "2025-07-03    1\n",
       "2025-07-04    0\n",
       "Name: target, dtype: int32"
      ]
     },
     "metadata": {},
     "output_type": "display_data"
    }
   ],
   "source": [
    "# Separar os dados para treino e teste \n",
    "\n",
    "# Melhor acuracidade\n",
    "lista = [\"ultimo\",\"abertura\", \"maxima\", \"minima\",\"target\"]\n",
    "\n",
    "# Testes\n",
    "#lista = [\"abertura\", \"maxima\", \"minima\",\"target\"]\n",
    "#lista = [\"target\"]\n",
    "#lista = [\"ultimo\",\"abertura\", \"maxima\", \"minima\",\"target\"]\n",
    "#lista = [\"maxima\", \"minima\",\"target\"]\n",
    "#lista = [\"ultimo\",\"maxima\", \"minima\",\"target\"]\n",
    "\n",
    "x = dados.drop(columns=lista)\n",
    "y = dados[\"target\"].copy()\n",
    "\n",
    "print(\"Features (x):\")\n",
    "display(x.tail())\n",
    "\n",
    "print(\"\\nAlvo (y):\")\n",
    "display(y.tail())"
   ]
  },
  {
   "cell_type": "code",
   "execution_count": 997,
   "id": "cd289894",
   "metadata": {},
   "outputs": [],
   "source": [
    "# Separar a base em treino e teste\n",
    "\n",
    "x_train = x[(x.index >= data_inicio_treino) & (x.index < data_inicio_teste)]\n",
    "y_train = y[(y.index >= data_inicio_treino) & (y.index < data_inicio_teste)]\n",
    "\n",
    "x_test = x[(x.index >= data_inicio_teste) & (x.index <= data_fim_teste)]\n",
    "y_test = y[(y.index >= data_inicio_teste) & (y.index <= data_fim_teste)]"
   ]
  },
  {
   "cell_type": "markdown",
   "id": "9c617e42",
   "metadata": {},
   "source": [
    "##### Criação dos modelos de Machine Learning"
   ]
  },
  {
   "cell_type": "code",
   "execution_count": 998,
   "id": "c89c05f7",
   "metadata": {},
   "outputs": [],
   "source": [
    "# Preparar o TimeSeriesSplit\n",
    "\n",
    "tscv = TimeSeriesSplit(n_splits=5)"
   ]
  },
  {
   "cell_type": "code",
   "execution_count": 999,
   "id": "a1b4bcef",
   "metadata": {},
   "outputs": [],
   "source": [
    "# Normalizar os dados\n",
    "\n",
    "scaler = StandardScaler()\n",
    "scaler.fit(x_train)\n",
    "\n",
    "x_train_scaled = scaler.transform(x_train)\n",
    "x_test_scaled = scaler.transform(x_test)"
   ]
  },
  {
   "cell_type": "code",
   "execution_count": 1000,
   "id": "293570a6",
   "metadata": {},
   "outputs": [],
   "source": [
    "# Treinar o modelo e gerar a previsao - Regressao Logistica\n",
    "\n",
    "usar_grid = \"Não\"\n",
    "\n",
    "if usar_grid == \"Sim\":\n",
    "\n",
    "    pipe_lr = Pipeline(\n",
    "        [('scaler', StandardScaler()), ('clf', LogisticRegression(solver='liblinear'))]\n",
    "    )\n",
    "\n",
    "    param_grid_lr = {\n",
    "        'clf__C': [0.001, 0.01, 0.1, 1, 10, 100],  # regularização\n",
    "        'clf__penalty': ['l1', 'l2'],  # tipo de penalização\n",
    "        'clf__solver': ['liblinear'],  # necessário para suportar l1\n",
    "    }\n",
    "\n",
    "    modelo_rl = GridSearchCV(pipe_lr, param_grid_lr, cv=tscv)\n",
    "    modelo_rl.fit(x_train, y_train)\n",
    "    modelo_rl = modelo_rl.predict(x_test)\n",
    "\n",
    "else: \n",
    "    modelo_rl = LogisticRegression(random_state=42)\n",
    "    modelo_rl.fit(x_train_scaled,y_train)\n",
    "    previsao_rl = modelo_rl.predict(x_test_scaled)"
   ]
  },
  {
   "cell_type": "code",
   "execution_count": 1001,
   "id": "e8475062",
   "metadata": {},
   "outputs": [],
   "source": [
    "# Treinar o modelo e gerar a previsao - Random Forest \n",
    "\n",
    "modelo_rf = RandomForestClassifier(n_estimators=100, random_state=42)\n",
    "modelo_rf.fit(x_train_scaled, y_train)\n",
    "previsao_rf = modelo_rf.predict(x_test_scaled)"
   ]
  },
  {
   "cell_type": "code",
   "execution_count": 1002,
   "id": "1944b199",
   "metadata": {},
   "outputs": [],
   "source": [
    "# Treinar o modelo e gerar a previsao - XGBoost\n",
    "\n",
    "usar_grid = \"Não\"\n",
    "\n",
    "if usar_grid == \"Sim\":\n",
    "\n",
    "    pipe_xgb = Pipeline(\n",
    "        [\n",
    "            ('scaler', StandardScaler()),\n",
    "            ('clf', XGBClassifier()),\n",
    "        ]\n",
    "    )\n",
    "\n",
    "    param_grid_xgb = {\n",
    "        'clf__n_estimators': [50, 100, 200],  # número de árvores\n",
    "        'clf__max_depth': [3, 5, 7],  # profundidade da árvore\n",
    "        'clf__learning_rate': [0.01, 0.05, 0.1, 0.3],  # taxa de aprendizado\n",
    "        'clf__subsample': [0.6, 0.8, 1.0],  # fração das amostras usadas em cada árvore\n",
    "        'clf__colsample_bytree': [0.6, 0.8, 1.0],  # fração de colunas usadas por árvore\n",
    "        'clf__gamma': [0, 0.1, 0.5, 1.0],  # regularização mínima para divisão\n",
    "        'clf__reg_alpha': [0, 0.1, 1],  # L1 regularization\n",
    "        'clf__reg_lambda': [0.1, 1, 10],  # L2 regularization\n",
    "    }\n",
    "\n",
    "    modelo_xgb = RandomizedSearchCV(pipe_xgb, param_grid_xgb, cv=tscv)\n",
    "    modelo_xgb.fit(x_train, y_train)\n",
    "    previsao_xgb = modelo_xgb.predict(x_test)\n",
    "\n",
    "else:\n",
    "    modelo_xgb = XGBClassifier(random_state=42)\n",
    "    modelo_xgb.fit(x_train_scaled, y_train)\n",
    "    previsao_xgb = modelo_xgb.predict(x_test_scaled)"
   ]
  },
  {
   "cell_type": "code",
   "execution_count": 1003,
   "id": "93648a4b",
   "metadata": {},
   "outputs": [],
   "source": [
    "# Treinar o modelo e gerar a previsao - LightGBM\n",
    "\n",
    "modelo_lgbm = LGBMClassifier(random_state=42, verbose = -1)\n",
    "modelo_lgbm.fit(x_train_scaled, y_train)\n",
    "\n",
    "#previsao_lgbm = modelo_lgbm.predict(x_test_scaled)\n",
    "previsao_lgbm = modelo_lgbm.predict(pd.DataFrame(x_test_scaled, columns=x_train.columns)) # --> Gerado o predict dessa forma para não gerar o Warning"
   ]
  },
  {
   "cell_type": "code",
   "execution_count": 1004,
   "id": "56c5e546",
   "metadata": {},
   "outputs": [],
   "source": [
    "# Treinar o modelo e gerar a previsao - CatBoost\n",
    "\n",
    "modelo_cat = CatBoostClassifier(random_state=42, verbose=0)\n",
    "modelo_cat.fit(x_train_scaled, y_train)\n",
    "previsao_cat = modelo_cat.predict(x_test_scaled)"
   ]
  },
  {
   "cell_type": "code",
   "execution_count": 1005,
   "id": "ed19837a",
   "metadata": {},
   "outputs": [
    {
     "data": {
      "application/vnd.microsoft.datawrangler.viewer.v0+json": {
       "columns": [
        {
         "name": "Modelo",
         "rawType": "object",
         "type": "string"
        },
        {
         "name": "Acurácia",
         "rawType": "object",
         "type": "string"
        },
        {
         "name": "Precisão",
         "rawType": "object",
         "type": "string"
        },
        {
         "name": "Recall",
         "rawType": "object",
         "type": "string"
        },
        {
         "name": "F1-Score",
         "rawType": "object",
         "type": "string"
        }
       ],
       "ref": "a5b12772-7ddc-4423-b86c-f81749a0f4e2",
       "rows": [
        [
         "LightGBM",
         "75.00 %",
         "75.00 %",
         "75.00 %",
         "74.81 %"
        ],
        [
         "CatBoost",
         "75.00 %",
         "76.79 %",
         "75.00 %",
         "74.00 %"
        ],
        [
         "Random Forest",
         "65.00 %",
         "68.12 %",
         "65.00 %",
         "61.51 %"
        ],
        [
         "XGBoost",
         "55.00 %",
         "53.93 %",
         "55.00 %",
         "53.20 %"
        ],
        [
         "Regressão Logística",
         "45.00 %",
         "20.25 %",
         "45.00 %",
         "27.93 %"
        ]
       ],
       "shape": {
        "columns": 4,
        "rows": 5
       }
      },
      "text/html": [
       "<div>\n",
       "<style scoped>\n",
       "    .dataframe tbody tr th:only-of-type {\n",
       "        vertical-align: middle;\n",
       "    }\n",
       "\n",
       "    .dataframe tbody tr th {\n",
       "        vertical-align: top;\n",
       "    }\n",
       "\n",
       "    .dataframe thead th {\n",
       "        text-align: right;\n",
       "    }\n",
       "</style>\n",
       "<table border=\"1\" class=\"dataframe\">\n",
       "  <thead>\n",
       "    <tr style=\"text-align: right;\">\n",
       "      <th></th>\n",
       "      <th>Acurácia</th>\n",
       "      <th>Precisão</th>\n",
       "      <th>Recall</th>\n",
       "      <th>F1-Score</th>\n",
       "    </tr>\n",
       "    <tr>\n",
       "      <th>Modelo</th>\n",
       "      <th></th>\n",
       "      <th></th>\n",
       "      <th></th>\n",
       "      <th></th>\n",
       "    </tr>\n",
       "  </thead>\n",
       "  <tbody>\n",
       "    <tr>\n",
       "      <th>LightGBM</th>\n",
       "      <td>75.00 %</td>\n",
       "      <td>75.00 %</td>\n",
       "      <td>75.00 %</td>\n",
       "      <td>74.81 %</td>\n",
       "    </tr>\n",
       "    <tr>\n",
       "      <th>CatBoost</th>\n",
       "      <td>75.00 %</td>\n",
       "      <td>76.79 %</td>\n",
       "      <td>75.00 %</td>\n",
       "      <td>74.00 %</td>\n",
       "    </tr>\n",
       "    <tr>\n",
       "      <th>Random Forest</th>\n",
       "      <td>65.00 %</td>\n",
       "      <td>68.12 %</td>\n",
       "      <td>65.00 %</td>\n",
       "      <td>61.51 %</td>\n",
       "    </tr>\n",
       "    <tr>\n",
       "      <th>XGBoost</th>\n",
       "      <td>55.00 %</td>\n",
       "      <td>53.93 %</td>\n",
       "      <td>55.00 %</td>\n",
       "      <td>53.20 %</td>\n",
       "    </tr>\n",
       "    <tr>\n",
       "      <th>Regressão Logística</th>\n",
       "      <td>45.00 %</td>\n",
       "      <td>20.25 %</td>\n",
       "      <td>45.00 %</td>\n",
       "      <td>27.93 %</td>\n",
       "    </tr>\n",
       "  </tbody>\n",
       "</table>\n",
       "</div>"
      ],
      "text/plain": [
       "                    Acurácia Precisão   Recall F1-Score\n",
       "Modelo                                                 \n",
       "LightGBM             75.00 %  75.00 %  75.00 %  74.81 %\n",
       "CatBoost             75.00 %  76.79 %  75.00 %  74.00 %\n",
       "Random Forest        65.00 %  68.12 %  65.00 %  61.51 %\n",
       "XGBoost              55.00 %  53.93 %  55.00 %  53.20 %\n",
       "Regressão Logística  45.00 %  20.25 %  45.00 %  27.93 %"
      ]
     },
     "metadata": {},
     "output_type": "display_data"
    }
   ],
   "source": [
    "# Gerar tabela com o score\n",
    "\n",
    "# # Criar um dicionario com os resultados centralizado que guarda o nome, o objeto do modelo e suas previsões\n",
    "modelos_avaliados = {\n",
    "    \"Regressão Logística\": {\"modelo\": modelo_rl, \"previsoes\": previsao_rl},\n",
    "    \"Random Forest\":       {\"modelo\": modelo_rf, \"previsoes\": previsao_rf},\n",
    "    \"XGBoost\":             {\"modelo\": modelo_xgb, \"previsoes\": previsao_xgb},\n",
    "    \"LightGBM\":            {\"modelo\": modelo_lgbm, \"previsoes\": previsao_lgbm},\n",
    "    \"CatBoost\":            {\"modelo\": modelo_cat, \"previsoes\": previsao_cat}\n",
    "}\n",
    "\n",
    "# Criar um data frame com os resultados\n",
    "performance = pd.DataFrame(\n",
    "    columns=[\"Modelo\", \"Acurácia\", \"Precisão\", \"Recall\", \"F1-Score\"]\n",
    ")\n",
    "\n",
    "for nome, dados in modelos_avaliados.items():\n",
    "    report = classification_report(y_test, dados[\"previsoes\"], output_dict=True, zero_division=0)\n",
    "    \n",
    "    performance.loc[performance.shape[0]] = {\n",
    "        \"Modelo\": nome,\n",
    "        \"Acurácia\": report[\"accuracy\"],\n",
    "        \"Precisão\": report[\"weighted avg\"][\"precision\"],\n",
    "        \"Recall\": report[\"weighted avg\"][\"recall\"],\n",
    "        \"F1-Score\": report[\"weighted avg\"][\"f1-score\"],\n",
    "    }\n",
    "\n",
    "performance.set_index(\"Modelo\", inplace=True)\n",
    "performance_formatada = performance.sort_values(by=\"Acurácia\", ascending=False)\n",
    "performance_formatada = performance_formatada.map(lambda x: f\"{(100 * x):.2f} %\")\n",
    "\n",
    "display(performance_formatada)"
   ]
  },
  {
   "cell_type": "markdown",
   "id": "d456a1b9",
   "metadata": {},
   "source": [
    "##### Verificar importancia das Features"
   ]
  },
  {
   "cell_type": "code",
   "execution_count": 1006,
   "id": "ed0a1bc6",
   "metadata": {},
   "outputs": [
    {
     "data": {
      "application/vnd.jupyter.widget-view+json": {
       "model_id": "6f33aadee5da4140ad53e3f5938ac5bd",
       "version_major": 2,
       "version_minor": 0
      },
      "text/plain": [
       "interactive(children=(Dropdown(description='Modelo:', index=3, options=('Regressão Logística', 'Random Forest'…"
      ]
     },
     "metadata": {},
     "output_type": "display_data"
    }
   ],
   "source": [
    "# Verificar a importancia da feature para cada \n",
    "\n",
    "# Selecionar como default o modelo com a melhor acurácia (mesma lógica que você já usou)\n",
    "modelo_default_features = performance.sort_values(by=\"Acurácia\", ascending=False).index[0]\n",
    "\n",
    "# Criar o menu suspenso para a importância das features\n",
    "dropdown_features = widgets.Dropdown(\n",
    "    options=list(modelos_avaliados.keys()),\n",
    "    value=modelo_default_features,\n",
    "    description='Modelo:',\n",
    "    disabled=False\n",
    ")\n",
    "\n",
    "# Cria a interface interativa que chama a função ao mudar o valor do dropdown\n",
    "widgets.interactive(\n",
    "    lambda nome_modelo: analisar_importancia_features(nome_modelo, modelos_avaliados, x_train),\n",
    "    nome_modelo=dropdown_features\n",
    ")"
   ]
  },
  {
   "cell_type": "markdown",
   "id": "dfc272a8",
   "metadata": {},
   "source": [
    "##### Analisando o resultado dos modelos de Machine Learning através da Matriz de Confusão e Curva ROC\n",
    "\n"
   ]
  },
  {
   "cell_type": "code",
   "execution_count": null,
   "id": "13f06004",
   "metadata": {},
   "outputs": [
    {
     "data": {
      "application/vnd.jupyter.widget-view+json": {
       "model_id": "a62d9be9fd9d474a9bfaf0011ddb9197",
       "version_major": 2,
       "version_minor": 0
      },
      "text/plain": [
       "interactive(children=(Dropdown(description='Modelo: ', index=3, options=('Regressão Logística', 'Random Forest…"
      ]
     },
     "metadata": {},
     "output_type": "display_data"
    }
   ],
   "source": [
    "# Incluir explicacao dos dois graficos\n",
    "\n",
    "# Gerar a matriz de confusão e Curva ROC \n",
    "\n",
    "# Selecionar como default o modelo com a melhor acurácia\n",
    "modelo_default = performance.sort_values(by=\"Acurácia\", ascending=False).index[0]\n",
    "\n",
    "# Criar o menu suspenso \n",
    "dropdown = widgets.Dropdown(\n",
    "    options=list(modelos_avaliados.keys()),\n",
    "    value=modelo_default,\n",
    "    description='Modelo: ',\n",
    "    disabled=False\n",
    ")\n",
    "\n",
    "widgets.interactive(\n",
    "    lambda nome_modelo: analisar_modelo_selecionado(nome_modelo, modelos_avaliados, y_test, x_test_scaled),\n",
    "    nome_modelo=dropdown\n",
    ")"
   ]
  }
 ],
 "metadata": {
  "kernelspec": {
   "display_name": "base",
   "language": "python",
   "name": "python3"
  },
  "language_info": {
   "codemirror_mode": {
    "name": "ipython",
    "version": 3
   },
   "file_extension": ".py",
   "mimetype": "text/x-python",
   "name": "python",
   "nbconvert_exporter": "python",
   "pygments_lexer": "ipython3",
   "version": "3.12.3"
  }
 },
 "nbformat": 4,
 "nbformat_minor": 5
}
